{
  "nbformat": 4,
  "nbformat_minor": 0,
  "metadata": {
    "colab": {
      "provenance": [],
      "include_colab_link": true
    },
    "kernelspec": {
      "name": "python3",
      "display_name": "Python 3"
    },
    "language_info": {
      "name": "python"
    }
  },
  "cells": [
    {
      "cell_type": "markdown",
      "metadata": {
        "id": "view-in-github",
        "colab_type": "text"
      },
      "source": [
        "<a href=\"https://colab.research.google.com/github/maxkim77/Codingtest/blob/main/%EC%98%A4%EB%A5%B4%EB%AF%B8_3%EA%B8%B0_python_4.ipynb\" target=\"_parent\"><img src=\"https://colab.research.google.com/assets/colab-badge.svg\" alt=\"Open In Colab\"/></a>"
      ]
    },
    {
      "cell_type": "markdown",
      "source": [
        "# 조건문"
      ],
      "metadata": {
        "id": "e8vuzepjSFGO"
      }
    },
    {
      "cell_type": "code",
      "execution_count": null,
      "metadata": {
        "colab": {
          "base_uri": "https://localhost:8080/"
        },
        "id": "vifEB0EBSCA0",
        "outputId": "b5f745de-8bce-4030-87ca-7ee9f366257e"
      },
      "outputs": [
        {
          "output_type": "stream",
          "name": "stdout",
          "text": [
            "hello\n"
          ]
        }
      ],
      "source": [
        "if True:\n",
        "    print('hello')"
      ]
    },
    {
      "cell_type": "code",
      "source": [
        "if False:\n",
        "    print('hello')"
      ],
      "metadata": {
        "id": "b3GDXkzCSM6w"
      },
      "execution_count": null,
      "outputs": []
    },
    {
      "cell_type": "code",
      "source": [
        "if (True): # 이렇게 괄호를 안해도 됩니다!\n",
        "    print('hello')"
      ],
      "metadata": {
        "colab": {
          "base_uri": "https://localhost:8080/"
        },
        "id": "qm07CD0TSOuF",
        "outputId": "eb03a2dd-b3e0-4f70-ddb8-f8a8ffa94d4b"
      },
      "execution_count": null,
      "outputs": [
        {
          "output_type": "stream",
          "name": "stdout",
          "text": [
            "hello\n"
          ]
        }
      ]
    },
    {
      "cell_type": "code",
      "source": [
        "if 10 and 9: # True나 False가 아니라 단락평가에 의해 9\n",
        "    print('hello')"
      ],
      "metadata": {
        "colab": {
          "base_uri": "https://localhost:8080/"
        },
        "id": "yZzDNR3ESU31",
        "outputId": "be3828d1-9950-4ba9-b139-0fec68182a7b"
      },
      "execution_count": null,
      "outputs": [
        {
          "output_type": "stream",
          "name": "stdout",
          "text": [
            "hello\n"
          ]
        }
      ]
    },
    {
      "cell_type": "code",
      "source": [
        "if 10:\n",
        "    print('hello')"
      ],
      "metadata": {
        "colab": {
          "base_uri": "https://localhost:8080/"
        },
        "id": "VRRrSk0ISrO1",
        "outputId": "78faefe7-ee31-449d-fa42-8f0bb4861db8"
      },
      "execution_count": null,
      "outputs": [
        {
          "output_type": "stream",
          "name": "stdout",
          "text": [
            "hello\n"
          ]
        }
      ]
    },
    {
      "cell_type": "code",
      "source": [
        "''\n",
        "0\n",
        "[]\n",
        "{}\n",
        "()\n",
        "set()\n",
        "\n",
        "#########\n",
        "\n",
        "1\n",
        "-1\n",
        "' '\n",
        "[10, 20]"
      ],
      "metadata": {
        "id": "en9qCkpASx1L"
      },
      "execution_count": null,
      "outputs": []
    },
    {
      "cell_type": "code",
      "source": [
        "x = 5\n",
        "y = 10\n",
        "result = 'x is greater' if x > y else 'y is greater or equal'\n",
        "print(result) # 출력: 'y is greater or equal'"
      ],
      "metadata": {
        "colab": {
          "base_uri": "https://localhost:8080/"
        },
        "id": "z0f9V0cwTbe4",
        "outputId": "1d9a785d-acc5-4e0e-d981-d18db09880e4"
      },
      "execution_count": null,
      "outputs": [
        {
          "output_type": "stream",
          "name": "stdout",
          "text": [
            "y is greater or equal\n"
          ]
        }
      ]
    },
    {
      "cell_type": "markdown",
      "source": [
        "# 연습문제"
      ],
      "metadata": {
        "id": "HlwcI3K0XXAj"
      }
    },
    {
      "cell_type": "code",
      "source": [
        "# 1. 주어진 리스트 `data = [{\"name\": \"길동\", \"수학\": 3, \"과학\": 93},\n",
        "#  {\"name\": \"춘향\", \"수학\": 33, \"수학\": 11},\n",
        "#  {\"name\": \"철수\", \"수학\": 94, \"과학\": 67}]`에서 평균점수가 가장 높은 학생에 이름을 출력하세요.\n",
        "\n",
        "# 2. 주어진 사전 `grades = {\"Tom\": 87, \"Jerry\": 95, \"Mickey\": 70}`의 모든 값을 5점씩 증가시키고 결과를 출력하세요.\n",
        "\n",
        "# 3. 주어진 문자열 `s = \"apple banana apple cherry banana cherry apple\"`에서 가장 자주 등장하는 단어를 출력하세요."
      ],
      "metadata": {
        "id": "vWtAbZqXTbwF"
      },
      "execution_count": null,
      "outputs": []
    },
    {
      "cell_type": "code",
      "source": [
        "data = [\n",
        "    {\"이름\": \"길동\", \"수학\": 3, \"과학\": 93},\n",
        "    {\"이름\": \"춘향\", \"수학\": 33, \"과학\": 11},\n",
        "    {\"이름\": \"철수\", \"수학\": 94, \"과학\": 67}\n",
        "]\n",
        "max_entry = max(data, key=lambda x: x[\"수학\"]+x[\"과학\"])\n",
        "print(max_entry)\n",
        "print(max_entry[\"이름\"])"
      ],
      "metadata": {
        "colab": {
          "base_uri": "https://localhost:8080/"
        },
        "id": "f25elqkfuqKL",
        "outputId": "4017f902-5853-4d37-e50e-c5a55ad460d1"
      },
      "execution_count": null,
      "outputs": [
        {
          "output_type": "execute_result",
          "data": {
            "text/plain": [
              "{'이름': '철수', '수학': 94, '과학': 67}"
            ]
          },
          "metadata": {},
          "execution_count": 11
        }
      ]
    },
    {
      "cell_type": "code",
      "source": [
        "grades = {\"Tom\": 87, \"Jerry\": 95, \"Mickey\": 70}\n",
        "# grades.update({'Tom': grades.get('Tom', 0) + 5})\n",
        "# grades.update({'Jerry': grades.get('Jerry', 0) + 5})\n",
        "# grades.update({'Mickey': grades.get('Mickey', 0) + 5})\n",
        "updated_grades = {name: score + 5 for name, score in grades.items()}\n",
        "print(updated_grades)"
      ],
      "metadata": {
        "colab": {
          "base_uri": "https://localhost:8080/"
        },
        "id": "E2ShlmWQurfe",
        "outputId": "153eab14-a9d5-4329-8845-03aff4bd1f40"
      },
      "execution_count": null,
      "outputs": [
        {
          "output_type": "stream",
          "name": "stdout",
          "text": [
            "{'Tom': 92, 'Jerry': 100, 'Mickey': 75}\n"
          ]
        }
      ]
    },
    {
      "cell_type": "code",
      "source": [
        "s = \"apple banana apple cherry banana cherry apple\"\n",
        "s.split()"
      ],
      "metadata": {
        "colab": {
          "base_uri": "https://localhost:8080/"
        },
        "id": "-s0OUgCcwRb1",
        "outputId": "abff1ce4-1076-4582-8a47-babac0112bcd"
      },
      "execution_count": null,
      "outputs": [
        {
          "output_type": "execute_result",
          "data": {
            "text/plain": [
              "['apple', 'banana', 'apple', 'cherry', 'banana', 'cherry', 'apple']"
            ]
          },
          "metadata": {},
          "execution_count": 12
        }
      ]
    },
    {
      "cell_type": "code",
      "source": [
        "from collections import Counter\n",
        "\n",
        "s = \"apple banana apple cherry banana cherry apple\"\n",
        "result = Counter(s.split())\n",
        "result.most_common()\n",
        "result.most_common(1)"
      ],
      "metadata": {
        "colab": {
          "base_uri": "https://localhost:8080/"
        },
        "id": "b87s39ikwb5x",
        "outputId": "babfdd67-edfc-4344-c84b-858136efb12b"
      },
      "execution_count": null,
      "outputs": [
        {
          "output_type": "execute_result",
          "data": {
            "text/plain": [
              "[('apple', 3)]"
            ]
          },
          "metadata": {},
          "execution_count": 15
        }
      ]
    },
    {
      "cell_type": "code",
      "source": [
        "s = \"apple banana apple cherry banana cherry apple\"\n",
        "words = s.split()\n",
        "most_frequent_word = max(set(words), key=words.count)\n",
        "print(most_frequent_word)"
      ],
      "metadata": {
        "colab": {
          "base_uri": "https://localhost:8080/"
        },
        "id": "UqxN0wW6uske",
        "outputId": "320484fe-c691-4584-ed85-b4a06c8a6155"
      },
      "execution_count": null,
      "outputs": [
        {
          "output_type": "stream",
          "name": "stdout",
          "text": [
            "apple\n"
          ]
        }
      ]
    },
    {
      "cell_type": "code",
      "source": [
        "[i if i % 2 == 0 else None for i in range(10)]"
      ],
      "metadata": {
        "colab": {
          "base_uri": "https://localhost:8080/"
        },
        "id": "HYehqX26-3nv",
        "outputId": "62a2d604-9f4c-4d8e-f488-aae0b495eef0"
      },
      "execution_count": null,
      "outputs": [
        {
          "output_type": "execute_result",
          "data": {
            "text/plain": [
              "[0, None, 2, None, 4, None, 6, None, 8, None]"
            ]
          },
          "metadata": {},
          "execution_count": 1
        }
      ]
    },
    {
      "cell_type": "code",
      "source": [
        "[i for i in range(10) if i % 2 == 0]"
      ],
      "metadata": {
        "colab": {
          "base_uri": "https://localhost:8080/"
        },
        "id": "NeruJrbv_CAM",
        "outputId": "24d405d5-8efd-456c-e302-e76ee6a00ed5"
      },
      "execution_count": null,
      "outputs": [
        {
          "output_type": "execute_result",
          "data": {
            "text/plain": [
              "[0, 2, 4, 6, 8]"
            ]
          },
          "metadata": {},
          "execution_count": 2
        }
      ]
    },
    {
      "cell_type": "code",
      "source": [
        "def f():\n",
        "    return True\n",
        "\n",
        "if f():\n",
        "    print('hello')"
      ],
      "metadata": {
        "colab": {
          "base_uri": "https://localhost:8080/"
        },
        "id": "9aiNNy5OAbjj",
        "outputId": "90073c0e-dcaa-4d18-a4d7-636400bdf4af"
      },
      "execution_count": null,
      "outputs": [
        {
          "output_type": "stream",
          "name": "stdout",
          "text": [
            "hello\n"
          ]
        }
      ]
    },
    {
      "cell_type": "code",
      "source": [
        "def f():\n",
        "    return True\n",
        "\n",
        "def ff():\n",
        "    return 'hello'\n",
        "\n",
        "if f() and ff():\n",
        "    print('hello')"
      ],
      "metadata": {
        "id": "4V5iDZbVCsXx"
      },
      "execution_count": null,
      "outputs": []
    },
    {
      "cell_type": "code",
      "source": [
        "# 성능에 영향을 끼칩니다!\n",
        "def f():\n",
        "    return True\n",
        "\n",
        "def ff():\n",
        "    x = 100 / 0 # error\n",
        "    return 'hello'\n",
        "\n",
        "if f() or ff():\n",
        "    print('hello')"
      ],
      "metadata": {
        "colab": {
          "base_uri": "https://localhost:8080/"
        },
        "id": "9kRU_AokC4Af",
        "outputId": "c24a6cca-5e71-4952-9cfa-c8e77833d293"
      },
      "execution_count": null,
      "outputs": [
        {
          "output_type": "stream",
          "name": "stdout",
          "text": [
            "hello\n"
          ]
        }
      ]
    },
    {
      "cell_type": "code",
      "source": [
        "# error가 나는 코드\n",
        "def f():\n",
        "    return True\n",
        "\n",
        "def ff():\n",
        "    x = 100 / 0 # error\n",
        "    return 'hello'\n",
        "\n",
        "if ff() or f():\n",
        "    print('hello')"
      ],
      "metadata": {
        "id": "mVv4GiAHDHpW"
      },
      "execution_count": null,
      "outputs": []
    },
    {
      "cell_type": "code",
      "source": [
        "my_function = lambda x: '짝수' if x % 2 == 0 else '홀수'\n",
        "my_function(10)"
      ],
      "metadata": {
        "colab": {
          "base_uri": "https://localhost:8080/",
          "height": 35
        },
        "id": "VbLNlbPpETJr",
        "outputId": "606707e2-0b70-4acd-e7cf-acfd027e41ae"
      },
      "execution_count": null,
      "outputs": [
        {
          "output_type": "execute_result",
          "data": {
            "text/plain": [
              "'짝수'"
            ],
            "application/vnd.google.colaboratory.intrinsic+json": {
              "type": "string"
            }
          },
          "metadata": {},
          "execution_count": 7
        }
      ]
    },
    {
      "cell_type": "code",
      "source": [
        "x = -1\n",
        "assert x > 0, '양수여야 한다!'"
      ],
      "metadata": {
        "colab": {
          "base_uri": "https://localhost:8080/",
          "height": 199
        },
        "id": "HiKedvZWE4vo",
        "outputId": "581f2c7d-1f4d-4537-9846-5fe21f6cf5f7"
      },
      "execution_count": null,
      "outputs": [
        {
          "output_type": "error",
          "ename": "AssertionError",
          "evalue": "ignored",
          "traceback": [
            "\u001b[0;31m---------------------------------------------------------------------------\u001b[0m",
            "\u001b[0;31mAssertionError\u001b[0m                            Traceback (most recent call last)",
            "\u001b[0;32m<ipython-input-8-8da0577b9d54>\u001b[0m in \u001b[0;36m<cell line: 2>\u001b[0;34m()\u001b[0m\n\u001b[1;32m      1\u001b[0m \u001b[0mx\u001b[0m \u001b[0;34m=\u001b[0m \u001b[0;34m-\u001b[0m\u001b[0;36m1\u001b[0m\u001b[0;34m\u001b[0m\u001b[0;34m\u001b[0m\u001b[0m\n\u001b[0;32m----> 2\u001b[0;31m \u001b[0;32massert\u001b[0m \u001b[0mx\u001b[0m \u001b[0;34m>\u001b[0m \u001b[0;36m0\u001b[0m\u001b[0;34m,\u001b[0m \u001b[0;34m'양수여야 한다!'\u001b[0m\u001b[0;34m\u001b[0m\u001b[0;34m\u001b[0m\u001b[0m\n\u001b[0m",
            "\u001b[0;31mAssertionError\u001b[0m: 양수여야 한다!"
          ]
        }
      ]
    },
    {
      "cell_type": "code",
      "source": [
        "x = 10\n",
        "assert x > 0, '양수여야 한다!'"
      ],
      "metadata": {
        "id": "ATMxJPH0E9F6"
      },
      "execution_count": null,
      "outputs": []
    },
    {
      "cell_type": "code",
      "source": [
        "score = 81\n",
        "money = 0\n",
        "\n",
        "if score >= 90:\n",
        "    print('mom : i\\'m so happy!')\n",
        "    money += 1000000\n",
        "elif score >= 80: # 어떤 의미가 내포되어 있나요? 90미만이라는 얘기가 하나 더 있는겁니다!\n",
        "    print('mom : i\\'m happy!')\n",
        "    money += 100000\n",
        "elif score >= 70 and score < 80:\n",
        "    print('mom : i\\'m so...!')\n",
        "    money += 10000\n",
        "elif score >= 60 and score < 70:\n",
        "    print('mom : i\\'m so...!')\n",
        "    money += 1000\n",
        "else:\n",
        "    print('mom : i\\'m...!')\n",
        "print(money)"
      ],
      "metadata": {
        "id": "sAZ04IbcFPmx"
      },
      "execution_count": null,
      "outputs": []
    },
    {
      "cell_type": "code",
      "source": [
        "score = -100\n",
        "else:\n",
        "    print('mom : i\\'m...!')"
      ],
      "metadata": {
        "colab": {
          "base_uri": "https://localhost:8080/",
          "height": 145
        },
        "id": "3sAF9MNfux-Y",
        "outputId": "a04e73c3-1b34-4c05-a129-cb84034cee3d"
      },
      "execution_count": null,
      "outputs": [
        {
          "output_type": "error",
          "ename": "SyntaxError",
          "evalue": "ignored",
          "traceback": [
            "\u001b[0;36m  File \u001b[0;32m\"<ipython-input-102-8b9e01040a49>\"\u001b[0;36m, line \u001b[0;32m2\u001b[0m\n\u001b[0;31m    else:\u001b[0m\n\u001b[0m    ^\u001b[0m\n\u001b[0;31mSyntaxError\u001b[0m\u001b[0;31m:\u001b[0m invalid syntax\n"
          ]
        }
      ]
    },
    {
      "cell_type": "code",
      "source": [
        "score = 81\n",
        "money = 0\n",
        "\n",
        "if score >= 90:\n",
        "    print('mom : i\\'m so happy!')\n",
        "    money += 1000000\n",
        "elif score >= 80: # 어떤 의미가 내포되어 있나요? 90미만이라는 얘기가 하나 더 있는겁니다!\n",
        "    print('mom : i\\'m happy!')\n",
        "    money += 100000\n",
        "elif score >= 70:\n",
        "    print('mom : i\\'m so...!')\n",
        "    money += 10000\n",
        "elif score >= 60:\n",
        "    print('mom : i\\'m so...!')\n",
        "    money += 1000\n",
        "else:\n",
        "    print('mom : i\\'m...!')\n",
        "print(money)"
      ],
      "metadata": {
        "colab": {
          "base_uri": "https://localhost:8080/"
        },
        "id": "vE3LMBdcFcsE",
        "outputId": "b89e7d13-eb23-48e7-94c1-218db6523e41"
      },
      "execution_count": null,
      "outputs": [
        {
          "output_type": "stream",
          "name": "stdout",
          "text": [
            "mom : i'm happy!\n",
            "100000\n"
          ]
        }
      ]
    },
    {
      "cell_type": "code",
      "source": [
        "score = 81\n",
        "money = 0\n",
        "\n",
        "if score >= 90:\n",
        "    print('mom : i\\'m so happy!')\n",
        "    money += 1000000\n",
        "if score >= 80:\n",
        "    print('mom : i\\'m happy!')\n",
        "    money += 100000\n",
        "if score >= 70:\n",
        "    print('mom : i\\'m so...!')\n",
        "    money += 10000\n",
        "if score >= 60:\n",
        "    print('mom : i\\'m so...!')\n",
        "    money += 1000\n",
        "else:\n",
        "    print('mom : i\\'m...!')\n",
        "print(money)"
      ],
      "metadata": {
        "colab": {
          "base_uri": "https://localhost:8080/"
        },
        "id": "j2NVGpEgFxPE",
        "outputId": "1a17fd94-6daf-46f6-e8d5-10c56a80b43f"
      },
      "execution_count": null,
      "outputs": [
        {
          "output_type": "stream",
          "name": "stdout",
          "text": [
            "mom : i'm happy!\n",
            "mom : i'm so...!\n",
            "mom : i'm so...!\n",
            "111000\n"
          ]
        }
      ]
    },
    {
      "cell_type": "code",
      "source": [
        "# if, elif, else는 한 묶음으로 만들어줍니다!"
      ],
      "metadata": {
        "id": "Qx2SB9QiF7E5"
      },
      "execution_count": null,
      "outputs": []
    },
    {
      "cell_type": "code",
      "source": [
        "score = 81\n",
        "money = 0\n",
        "\n",
        "if score >= 90:\n",
        "    print('mom : i\\'m so happy!')\n",
        "    money += 1000000\n",
        "if 90 > score >= 80:\n",
        "    print('mom : i\\'m happy!')\n",
        "    money += 100000\n",
        "if 80 > score >= 70:\n",
        "    print('mom : i\\'m so...!')\n",
        "    money += 10000\n",
        "if 70 > score >= 60:\n",
        "    print('mom : i\\'m so...!')\n",
        "    money += 1000\n",
        "else:\n",
        "    print('mom : i\\'m...!')\n",
        "print(money)"
      ],
      "metadata": {
        "colab": {
          "base_uri": "https://localhost:8080/"
        },
        "id": "XdH5aoFaGBAA",
        "outputId": "cbf8175e-d9bd-40b2-93cc-e5a03a15551c"
      },
      "execution_count": null,
      "outputs": [
        {
          "output_type": "stream",
          "name": "stdout",
          "text": [
            "mom : i'm happy!\n",
            "mom : i'm...!\n",
            "100000\n"
          ]
        }
      ]
    },
    {
      "cell_type": "code",
      "source": [
        "# 위와 같이 하더라도 실행이 같지 않고\n",
        "# 또 성능도 안좋습니다!!\n",
        "# 성능이 왜 안좋나요?\n",
        "# if 뒤를 다 검사해야 하기 때문에 그렇습니다.\n",
        "# 적절하게 묶는 것은 매우 중요한 포인트입니다."
      ],
      "metadata": {
        "id": "jKMm4mEMGRA5"
      },
      "execution_count": null,
      "outputs": []
    },
    {
      "cell_type": "code",
      "source": [
        "# if를 중첩해서 사용하기\n",
        "movie = {\n",
        "    '영화': '무빙',\n",
        "    '장르': 'SF',\n",
        "    '서비스': '디즈니',\n",
        "    '비용': 15000,\n",
        "    '평점': 4.9\n",
        "}\n",
        "\n",
        "if movie['장르'] == 'SF':\n",
        "    if movie['서비스'] == '디즈니' or movie['서비스'] == '넷플릭스':\n",
        "        if movie['평점'] >= 4.5:\n",
        "            if movie['비용'] <= 20000:\n",
        "                print('영화시청')"
      ],
      "metadata": {
        "colab": {
          "base_uri": "https://localhost:8080/"
        },
        "id": "NLOtvlCpGox8",
        "outputId": "bbe26dd7-d3cb-49ef-b7ec-0f0e34ed780e"
      },
      "execution_count": null,
      "outputs": [
        {
          "output_type": "stream",
          "name": "stdout",
          "text": [
            "영화시청\n"
          ]
        }
      ]
    },
    {
      "cell_type": "code",
      "source": [
        "# if를 중첩해서 사용하기\n",
        "# 간략해진 것 맞나요?\n",
        "movie = {\n",
        "    '영화': '무빙',\n",
        "    '장르': 'SF',\n",
        "    '서비스': '디즈니',\n",
        "    '비용': 15000,\n",
        "    '평점': 4.9\n",
        "}\n",
        "\n",
        "if movie['장르'] == 'SF' and (movie['서비스'] == '디즈니' or movie['서비스'] == '넷플릭스') and movie['평점'] >= 4.5 and movie['비용'] <= 20000:\n",
        "    print('영화시청')"
      ],
      "metadata": {
        "colab": {
          "base_uri": "https://localhost:8080/"
        },
        "id": "Y5mO2lgxHy2L",
        "outputId": "1fd38100-36c2-4fdf-b011-3e41bd8254a6"
      },
      "execution_count": null,
      "outputs": [
        {
          "output_type": "stream",
          "name": "stdout",
          "text": [
            "영화시청\n"
          ]
        }
      ]
    },
    {
      "cell_type": "code",
      "source": [
        "# 지금 이 코드에서는 동일하게 작동하지만\n",
        "# 아래와 같이 했을 때에는 문제가 발생합니다.\n",
        "movie = {\n",
        "    '영화': '무빙',\n",
        "    '장르': 'SF',\n",
        "    '서비스': '디즈니',\n",
        "    '비용': 15000,\n",
        "    '평점': 4.9\n",
        "}\n",
        "\n",
        "if movie['장르'] == 'SF':\n",
        "    if movie['평점'] >= 4.5:\n",
        "        if movie['비용'] <= 20000:\n",
        "            if movie['서비스'] == '디즈니' or movie['서비스'] == '넷플릭스':\n",
        "                print('영화시청')"
      ],
      "metadata": {
        "id": "r9_X491pIHVg"
      },
      "execution_count": null,
      "outputs": []
    },
    {
      "cell_type": "code",
      "source": [
        "# 지금 이 코드에서는 동일하게 작동하지만\n",
        "# 아래와 같이 했을 때에는 문제가 발생합니다.\n",
        "movie = {\n",
        "    '영화': '무빙',\n",
        "    '장르': 'SF',\n",
        "    '서비스': '디즈니',\n",
        "    '비용': 15000,\n",
        "    '평점': 4.9\n",
        "}\n",
        "\n",
        "def 구독중인ott():\n",
        "    # 사용자에게 문자 알림을 준다던지 하는 엑션이 있었다?\n",
        "    return movie['서비스'] == '디즈니' or movie['서비스'] == '넷플릭스'\n",
        "\n",
        "if movie['장르'] == 'SF':\n",
        "    if 구독중인ott():\n",
        "        if movie['평점'] >= 4.5:\n",
        "            if movie['비용'] <= 20000:\n",
        "                print('영화시청')"
      ],
      "metadata": {
        "colab": {
          "base_uri": "https://localhost:8080/"
        },
        "id": "KDhbwfWCIpc2",
        "outputId": "650bcfb0-7fd0-426e-bf84-f84e3d87a306"
      },
      "execution_count": null,
      "outputs": [
        {
          "output_type": "stream",
          "name": "stdout",
          "text": [
            "영화시청\n"
          ]
        }
      ]
    },
    {
      "cell_type": "code",
      "source": [
        "# 지금 이 코드에서는 동일하게 작동하지만\n",
        "# 아래와 같이 했을 때에는 문제가 발생합니다.\n",
        "movie = {\n",
        "    '영화': '무빙',\n",
        "    '장르': 'SF',\n",
        "    '서비스': '디즈니',\n",
        "    '비용': 15000,\n",
        "    '평점': 4.1 #변경\n",
        "}\n",
        "\n",
        "def 구독중인ott():\n",
        "    # 사용자에게 문자 알림을 준다던지 하는 엑션이 있었다?\n",
        "    return movie['서비스'] == '디즈니' or movie['서비스'] == '넷플릭스'\n",
        "\n",
        "if movie['장르'] == 'SF':\n",
        "    if movie['평점'] >= 4.5:\n",
        "        if movie['비용'] <= 20000:\n",
        "            if 구독중인ott():\n",
        "                print('영화시청')"
      ],
      "metadata": {
        "id": "pKQpKIfaJKCH"
      },
      "execution_count": null,
      "outputs": []
    },
    {
      "cell_type": "code",
      "source": [
        "# if를 중첩해서 사용하기\n",
        "# 이정도가 깔끔하게 다듬어진 것입니다.\n",
        "movie = {\n",
        "    '영화': '무빙',\n",
        "    '장르': 'SF',\n",
        "    '서비스': '디즈니',\n",
        "    '비용': 15000,\n",
        "    '평점': 4.9\n",
        "}\n",
        "\n",
        "if movie['장르'] == 'SF':\n",
        "    if movie['서비스'] == '디즈니' or movie['서비스'] == '넷플릭스':\n",
        "        if movie['평점'] >= 4.5 and movie['비용'] <= 20000:\n",
        "            print('영화시청')"
      ],
      "metadata": {
        "id": "UsEj9GLoJiYD"
      },
      "execution_count": null,
      "outputs": []
    },
    {
      "cell_type": "code",
      "source": [
        "# if를 중첩해서 사용하기\n",
        "# 이정도가 깔끔하게 다듬어진 것입니다.\n",
        "movie = {\n",
        "    '영화': '무빙',\n",
        "    '장르': 'SF',\n",
        "    '서비스': '왓챠',\n",
        "    '비용': 15000,\n",
        "    '평점': 4.9\n",
        "}\n",
        "\n",
        "if movie['장르'] == 'SF':\n",
        "    if movie['서비스'] == '디즈니' or movie['서비스'] == '넷플릭스':\n",
        "        if movie['평점'] >= 4.5 and movie['비용'] <= 20000:\n",
        "            print('영화시청')\n",
        "    else:\n",
        "        print(movie['서비스'] + ' 구독하기!')"
      ],
      "metadata": {
        "colab": {
          "base_uri": "https://localhost:8080/"
        },
        "id": "SkYlZTnwJzCu",
        "outputId": "770232da-de84-4a58-8323-f933806a7a60"
      },
      "execution_count": null,
      "outputs": [
        {
          "output_type": "stream",
          "name": "stdout",
          "text": [
            "왓챠 구독하기!\n"
          ]
        }
      ]
    },
    {
      "cell_type": "markdown",
      "source": [
        "# match"
      ],
      "metadata": {
        "id": "sFeV5Hx7KZzg"
      }
    },
    {
      "cell_type": "code",
      "source": [
        "text = 'Hello World'\n",
        "match text:\n",
        "    case 'Hello':\n",
        "        print('Hello')\n",
        "    case 'World':\n",
        "        print('World')\n",
        "    case _:\n",
        "        print('No Match') # 출력: 'No Match'"
      ],
      "metadata": {
        "colab": {
          "base_uri": "https://localhost:8080/"
        },
        "id": "53s0IuvpKbaV",
        "outputId": "e9dae6c2-5f41-43ab-f6ec-4f002aa818a8"
      },
      "execution_count": null,
      "outputs": [
        {
          "output_type": "stream",
          "name": "stdout",
          "text": [
            "No Match\n"
          ]
        }
      ]
    },
    {
      "cell_type": "code",
      "source": [
        "text = 'Hello'\n",
        "match text:\n",
        "    case 'Hello':\n",
        "        print('Hello')\n",
        "    case 'World':\n",
        "        print('World')\n",
        "    case _:\n",
        "        print('No Match') # 출력: 'No Match'"
      ],
      "metadata": {
        "colab": {
          "base_uri": "https://localhost:8080/"
        },
        "id": "YvuK81dJKcg9",
        "outputId": "7a1f140e-7e68-4c6b-dfd4-e6ac0e478d09"
      },
      "execution_count": null,
      "outputs": [
        {
          "output_type": "stream",
          "name": "stdout",
          "text": [
            "Hello\n"
          ]
        }
      ]
    },
    {
      "cell_type": "code",
      "source": [
        "text = 'hello'\n",
        "match text:\n",
        "    case 'Hello':\n",
        "        print('Hello')\n",
        "    case 'World':\n",
        "        print('World')\n",
        "print('end')"
      ],
      "metadata": {
        "colab": {
          "base_uri": "https://localhost:8080/"
        },
        "id": "lE9enbOQKl3N",
        "outputId": "5b06b034-404b-4c60-94a4-cc065d76ed95"
      },
      "execution_count": null,
      "outputs": [
        {
          "output_type": "stream",
          "name": "stdout",
          "text": [
            "end\n"
          ]
        }
      ]
    },
    {
      "cell_type": "code",
      "source": [
        "# 작동하지 않는 코드입니다. JavaScript와 같은 곳에서는 아래와 같은 형식으로 사용하곤 합니다.\n",
        "text = 'Hello'\n",
        "match text:\n",
        "    case 'Hello':\n",
        "    case 'World':\n",
        "        print('World')\n",
        "    case _:\n",
        "        print('No Match')"
      ],
      "metadata": {
        "colab": {
          "base_uri": "https://localhost:8080/",
          "height": 145
        },
        "id": "bdPvvBF9NSYb",
        "outputId": "dcf13277-6007-4c0c-939a-549e3dbc48ec"
      },
      "execution_count": null,
      "outputs": [
        {
          "output_type": "error",
          "ename": "IndentationError",
          "evalue": "ignored",
          "traceback": [
            "\u001b[0;36m  File \u001b[0;32m\"<ipython-input-24-11a64d4493f8>\"\u001b[0;36m, line \u001b[0;32m4\u001b[0m\n\u001b[0;31m    case 'World':\u001b[0m\n\u001b[0m    ^\u001b[0m\n\u001b[0;31mIndentationError\u001b[0m\u001b[0;31m:\u001b[0m expected an indented block after 'case' statement on line 3\n"
          ]
        }
      ]
    },
    {
      "cell_type": "code",
      "source": [
        "# 작동하지 않는 코드입니다.\n",
        "text = 'Hello'\n",
        "match text:\n",
        "    case 'Hello' and 'World':\n",
        "        print('World')\n",
        "    case _:\n",
        "        print('No Match')"
      ],
      "metadata": {
        "id": "g9dJXLVlNS5l"
      },
      "execution_count": null,
      "outputs": []
    },
    {
      "cell_type": "code",
      "source": [
        "# 작동하지 않는 코드입니다.\n",
        "text = 'Hello'\n",
        "match text:\n",
        "    case 'Hello' or 'World':\n",
        "        print('World')\n",
        "    case _:\n",
        "        print('No Match')"
      ],
      "metadata": {
        "id": "ZqzT-_5fNpfg"
      },
      "execution_count": null,
      "outputs": []
    },
    {
      "cell_type": "code",
      "source": [
        "# 그러면 어떻게 동시 만족을 표현할 수 있을까요?"
      ],
      "metadata": {
        "id": "G35SbQU1NjBZ"
      },
      "execution_count": null,
      "outputs": []
    },
    {
      "cell_type": "code",
      "source": [
        "# 작동하는 코드입니다.\n",
        "text = 'Hello'\n",
        "match text:\n",
        "    case 'Hello' | 'World':\n",
        "        print('World')\n",
        "    case _:\n",
        "        print('No Match')"
      ],
      "metadata": {
        "colab": {
          "base_uri": "https://localhost:8080/"
        },
        "id": "3hM1aC2jNsUZ",
        "outputId": "f9db83f5-2689-46c1-d778-f9622b8d37b6"
      },
      "execution_count": null,
      "outputs": [
        {
          "output_type": "stream",
          "name": "stdout",
          "text": [
            "World\n"
          ]
        }
      ]
    },
    {
      "cell_type": "code",
      "source": [
        "def test(i):\n",
        "    match i:\n",
        "        case 1:\n",
        "            print('One')\n",
        "        case 2:\n",
        "            print('Two')\n",
        "        case 3 | 4:\n",
        "            print('Three or Four')\n",
        "        case _ if i > 10:\n",
        "            print('Greater than ten')\n",
        "        case _:\n",
        "            print('Other')\n",
        "\n",
        "test(1) # 출력: One\n",
        "test(2) # 출력: Two\n",
        "test(3) # 출력: Three or Four\n",
        "test(4) # 출력: Three or Four\n",
        "test(5) # 출력: Other\n",
        "test(15) # 출력: Greater than ten"
      ],
      "metadata": {
        "id": "uP_4zvoqORml"
      },
      "execution_count": null,
      "outputs": []
    },
    {
      "cell_type": "code",
      "source": [
        "def test(i):\n",
        "    match i:\n",
        "        case 1:\n",
        "            print('One')\n",
        "        case 2:\n",
        "            print('Two')\n",
        "        case _:\n",
        "            if i > 2:\n",
        "                print('Greater than two')\n",
        "            else:\n",
        "                print('Less than or equal to two')\n",
        "test(1) # 출력: One\n",
        "test(2) # 출력: Two\n",
        "test(3) # 출력: Greater than two\n",
        "test(4) # 출력: Greater than two"
      ],
      "metadata": {
        "id": "TRvtIo40ObYm"
      },
      "execution_count": null,
      "outputs": []
    },
    {
      "cell_type": "code",
      "source": [
        "# 문제 match를 사용하여 아래 코드를 완성해주세요.\n",
        "\n",
        "def attack(attack_type, damege):\n",
        "    # match...\n",
        "    pass\n",
        "\n",
        "\n",
        "attack('물리공격', 100) # 출력: 100의 데미지 입혔습니다.\n",
        "\n",
        "# 각 공격에 따라 아래의 값이 출력되어야 합니다.\n",
        "# 공격의 종류: 물리공격, 마법공격, 정신공격\n",
        "# 물리공격, 마법공격 : '100의 데미지 입혔습니다.'\n",
        "# 정신공격: '100ms 만큼 상대방이 혼란을 느낍니다.'"
      ],
      "metadata": {
        "id": "7Iv4npaqOxPZ"
      },
      "execution_count": null,
      "outputs": []
    },
    {
      "cell_type": "markdown",
      "source": [
        "# 반복문"
      ],
      "metadata": {
        "id": "ndUNeMiNS0dA"
      }
    },
    {
      "cell_type": "code",
      "source": [
        "for x in 'hello': # 순회 가능한 객체가 들어갑니다.\n",
        "    print(f'현재 값은 {x} 입니다.')"
      ],
      "metadata": {
        "colab": {
          "base_uri": "https://localhost:8080/"
        },
        "id": "23nUe2hMS-T3",
        "outputId": "651ffb9b-fa38-48ca-eb75-386c9a42f929"
      },
      "execution_count": null,
      "outputs": [
        {
          "output_type": "stream",
          "name": "stdout",
          "text": [
            "현재 값은 h 입니다.\n",
            "현재 값은 e 입니다.\n",
            "현재 값은 l 입니다.\n",
            "현재 값은 l 입니다.\n",
            "현재 값은 o 입니다.\n"
          ]
        }
      ]
    },
    {
      "cell_type": "code",
      "source": [
        "for x in (1, 2, 3, 4, 5):\n",
        "    print(f'현재 값은 {x} 입니다.')"
      ],
      "metadata": {
        "colab": {
          "base_uri": "https://localhost:8080/"
        },
        "id": "icN7rItgS8VF",
        "outputId": "b7d697d6-ac51-47ac-b1e4-e022784fd854"
      },
      "execution_count": null,
      "outputs": [
        {
          "output_type": "stream",
          "name": "stdout",
          "text": [
            "현재 값은 1 입니다.\n",
            "현재 값은 2 입니다.\n",
            "현재 값은 3 입니다.\n",
            "현재 값은 4 입니다.\n",
            "현재 값은 5 입니다.\n"
          ]
        }
      ]
    },
    {
      "cell_type": "code",
      "source": [
        "d = {\n",
        "    '하나' : 'one',\n",
        "    '둘' : 'two',\n",
        "    '셋' : 'three',\n",
        "}\n",
        "\n",
        "for k in d:\n",
        "    print(k)"
      ],
      "metadata": {
        "colab": {
          "base_uri": "https://localhost:8080/"
        },
        "id": "qYg8JxNjVIly",
        "outputId": "3ea12ab4-3e46-49d3-e40f-b5d8c6cd5786"
      },
      "execution_count": null,
      "outputs": [
        {
          "output_type": "stream",
          "name": "stdout",
          "text": [
            "하나\n",
            "둘\n",
            "셋\n"
          ]
        }
      ]
    },
    {
      "cell_type": "code",
      "source": [
        "d = {\n",
        "    '하나' : 'one',\n",
        "    '둘' : 'two',\n",
        "    '셋' : 'three',\n",
        "}\n",
        "\n",
        "for k, v in d.items():\n",
        "    print(f'{k}: {v}')"
      ],
      "metadata": {
        "colab": {
          "base_uri": "https://localhost:8080/"
        },
        "id": "Zq5bVyjWVToJ",
        "outputId": "80c8badd-27ee-4d32-b13e-c29ee59ae6ea"
      },
      "execution_count": null,
      "outputs": [
        {
          "output_type": "stream",
          "name": "stdout",
          "text": [
            "하나: one\n",
            "둘: two\n",
            "셋: three\n"
          ]
        }
      ]
    },
    {
      "cell_type": "code",
      "source": [
        "for k in d:\n",
        "    print(k, ': ', d[k], sep='', end=', ')"
      ],
      "metadata": {
        "colab": {
          "base_uri": "https://localhost:8080/"
        },
        "id": "v3JiN6LOVmpM",
        "outputId": "7cbbafe2-d09b-4076-9de0-27c0192877be"
      },
      "execution_count": null,
      "outputs": [
        {
          "output_type": "stream",
          "name": "stdout",
          "text": [
            "하나: one, 둘: two, 셋: three, "
          ]
        }
      ]
    },
    {
      "cell_type": "code",
      "source": [
        "# __iter__ 이 메직메서드가 없다? for문이 안된다! 순회가능한 객체가 아니다. 있다? for문이 된다! 순회가능한 객체이다!"
      ],
      "metadata": {
        "id": "FdZBELhAU5Pm"
      },
      "execution_count": null,
      "outputs": []
    },
    {
      "cell_type": "code",
      "source": [
        "# 1부터 시작해서 5까지의 값이 x에는 어떻게 들어가는 것일까요?\n",
        "x = iter('hello')\n",
        "print(x)"
      ],
      "metadata": {
        "colab": {
          "base_uri": "https://localhost:8080/"
        },
        "id": "H2oMFzp1TSfb",
        "outputId": "2b06a23e-940f-4496-b343-d8ad385b2d1f"
      },
      "execution_count": null,
      "outputs": [
        {
          "output_type": "stream",
          "name": "stdout",
          "text": [
            "<str_iterator object at 0x7baf2aeb6b00>\n"
          ]
        }
      ]
    },
    {
      "cell_type": "code",
      "source": [
        "print(next(x))"
      ],
      "metadata": {
        "colab": {
          "base_uri": "https://localhost:8080/"
        },
        "id": "2FNoWc_XTrdC",
        "outputId": "a189dd5c-1da7-4bee-99c0-37f4edd5f96b"
      },
      "execution_count": null,
      "outputs": [
        {
          "output_type": "stream",
          "name": "stdout",
          "text": [
            "h\n"
          ]
        }
      ]
    },
    {
      "cell_type": "code",
      "source": [
        "print(next(x))"
      ],
      "metadata": {
        "colab": {
          "base_uri": "https://localhost:8080/"
        },
        "id": "LC_pPTv9TtvN",
        "outputId": "dd0ca3ea-1334-4950-feb3-10c7724c883e"
      },
      "execution_count": null,
      "outputs": [
        {
          "output_type": "stream",
          "name": "stdout",
          "text": [
            "e\n"
          ]
        }
      ]
    },
    {
      "cell_type": "code",
      "source": [
        "# 더 만들지 않고 여기서만 실행해보겠습니다.\n",
        "print(next(x)) # StopIteration error"
      ],
      "metadata": {
        "colab": {
          "base_uri": "https://localhost:8080/",
          "height": 199
        },
        "id": "Sz2U2WHlTvOi",
        "outputId": "19834246-afb8-4ebc-f4e1-c504e34ef519"
      },
      "execution_count": null,
      "outputs": [
        {
          "output_type": "error",
          "ename": "StopIteration",
          "evalue": "ignored",
          "traceback": [
            "\u001b[0;31m---------------------------------------------------------------------------\u001b[0m",
            "\u001b[0;31mStopIteration\u001b[0m                             Traceback (most recent call last)",
            "\u001b[0;32m<ipython-input-36-9237edc52c72>\u001b[0m in \u001b[0;36m<cell line: 2>\u001b[0;34m()\u001b[0m\n\u001b[1;32m      1\u001b[0m \u001b[0;31m# 더 만들지 않고 여기서만 실행해보겠습니다.\u001b[0m\u001b[0;34m\u001b[0m\u001b[0;34m\u001b[0m\u001b[0m\n\u001b[0;32m----> 2\u001b[0;31m \u001b[0mprint\u001b[0m\u001b[0;34m(\u001b[0m\u001b[0mnext\u001b[0m\u001b[0;34m(\u001b[0m\u001b[0mx\u001b[0m\u001b[0;34m)\u001b[0m\u001b[0;34m)\u001b[0m\u001b[0;34m\u001b[0m\u001b[0;34m\u001b[0m\u001b[0m\n\u001b[0m",
            "\u001b[0;31mStopIteration\u001b[0m: "
          ]
        }
      ]
    },
    {
      "cell_type": "code",
      "source": [
        "x = 'hello'\n",
        "y = x.__iter__() # iter('hello')"
      ],
      "metadata": {
        "id": "dn97iy9RULXG"
      },
      "execution_count": null,
      "outputs": []
    },
    {
      "cell_type": "code",
      "source": [
        "print(y.__next__()) # next('hello')\n",
        "print(y.__next__())\n",
        "print(y.__next__())\n",
        "print(y.__next__())\n",
        "print(y.__next__())\n",
        "print(y.__next__())"
      ],
      "metadata": {
        "colab": {
          "base_uri": "https://localhost:8080/",
          "height": 306
        },
        "id": "LMRYL5aNUYPd",
        "outputId": "53f74a4c-0d28-47e8-a8cc-b4d4ea0a83e7"
      },
      "execution_count": null,
      "outputs": [
        {
          "output_type": "stream",
          "name": "stdout",
          "text": [
            "h\n",
            "e\n",
            "l\n",
            "l\n",
            "o\n"
          ]
        },
        {
          "output_type": "error",
          "ename": "StopIteration",
          "evalue": "ignored",
          "traceback": [
            "\u001b[0;31m---------------------------------------------------------------------------\u001b[0m",
            "\u001b[0;31mStopIteration\u001b[0m                             Traceback (most recent call last)",
            "\u001b[0;32m<ipython-input-45-10bb919f59a6>\u001b[0m in \u001b[0;36m<cell line: 6>\u001b[0;34m()\u001b[0m\n\u001b[1;32m      4\u001b[0m \u001b[0mprint\u001b[0m\u001b[0;34m(\u001b[0m\u001b[0my\u001b[0m\u001b[0;34m.\u001b[0m\u001b[0m__next__\u001b[0m\u001b[0;34m(\u001b[0m\u001b[0;34m)\u001b[0m\u001b[0;34m)\u001b[0m\u001b[0;34m\u001b[0m\u001b[0;34m\u001b[0m\u001b[0m\n\u001b[1;32m      5\u001b[0m \u001b[0mprint\u001b[0m\u001b[0;34m(\u001b[0m\u001b[0my\u001b[0m\u001b[0;34m.\u001b[0m\u001b[0m__next__\u001b[0m\u001b[0;34m(\u001b[0m\u001b[0;34m)\u001b[0m\u001b[0;34m)\u001b[0m\u001b[0;34m\u001b[0m\u001b[0;34m\u001b[0m\u001b[0m\n\u001b[0;32m----> 6\u001b[0;31m \u001b[0mprint\u001b[0m\u001b[0;34m(\u001b[0m\u001b[0my\u001b[0m\u001b[0;34m.\u001b[0m\u001b[0m__next__\u001b[0m\u001b[0;34m(\u001b[0m\u001b[0;34m)\u001b[0m\u001b[0;34m)\u001b[0m\u001b[0;34m\u001b[0m\u001b[0;34m\u001b[0m\u001b[0m\n\u001b[0m",
            "\u001b[0;31mStopIteration\u001b[0m: "
          ]
        }
      ]
    },
    {
      "cell_type": "code",
      "source": [
        "result = 0\n",
        "for i in range(0, 11, 2):\n",
        "    result += i\n",
        "result"
      ],
      "metadata": {
        "colab": {
          "base_uri": "https://localhost:8080/"
        },
        "id": "ryHHkc7GWRtF",
        "outputId": "6f727308-65d4-49ad-f1a4-82614c7d7b0e"
      },
      "execution_count": null,
      "outputs": [
        {
          "output_type": "execute_result",
          "data": {
            "text/plain": [
              "30"
            ]
          },
          "metadata": {},
          "execution_count": 3
        }
      ]
    },
    {
      "cell_type": "code",
      "source": [
        "n = 100\n",
        "result = (n + 1) * n / 2\n",
        "result"
      ],
      "metadata": {
        "colab": {
          "base_uri": "https://localhost:8080/"
        },
        "id": "lNZfWEvPW8-Q",
        "outputId": "001697ba-0037-40a3-eae8-04adbc79de68"
      },
      "execution_count": null,
      "outputs": [
        {
          "output_type": "execute_result",
          "data": {
            "text/plain": [
              "5050.0"
            ]
          },
          "metadata": {},
          "execution_count": 4
        }
      ]
    },
    {
      "cell_type": "code",
      "source": [
        "# 1부터 100까지 더하는 코드\n",
        "result = 0\n",
        "for i in range(101):\n",
        "    result += i\n",
        "result\n",
        "\n",
        "# 1부터 100까지 짝수를 더하는 코드\n",
        "# 권장하지 않는 코드(100번 돌아야 하고, if문도 봐야하고)\n",
        "result = 0\n",
        "for i in range(101):\n",
        "    if i % 2 == 0:\n",
        "        result += i\n",
        "result\n",
        "\n",
        "# 권장하는 코드(물론, 수학수식을 사용할 수 있으면 더 좋습니다.)\n",
        "# 순회도 반만 돌았고, if문도 없습니다.\n",
        "result = 0\n",
        "for i in range(0, 101, 2):\n",
        "    result += i\n",
        "result\n",
        "\n",
        "# 구구단 출력\n",
        "for i in range(2, 10):\n",
        "    for j in range(1, 10):\n",
        "        print(i, j, i*j)\n",
        "\n",
        "# 홀수들에 특이한 덧셈을 하고 싶습니다.\n",
        "# 예를 들어, 6이하의 특이한 덧셈을 한다면\n",
        "# 1 + 3이하의 수 + 5이하의 수...\n",
        "# 1 + 1 + 2 + 3 + 1 + 2 + 3 + 4 + 5 이렇게 답이 나와야 합니다.\n",
        "result = 0\n",
        "for i in [range(2), range(4), range(6)]:\n",
        "    for j in i:\n",
        "        result += j\n",
        "result"
      ],
      "metadata": {
        "id": "0jJiX0kOWWR8"
      },
      "execution_count": null,
      "outputs": []
    },
    {
      "cell_type": "code",
      "source": [
        "# 두 문제 모두 for는 중첩 2번 해야 합니다.\n",
        "\n",
        "# 문제1\n",
        "# 다음과 같은 문자열이 있습니다.\n",
        "# s = '135678'\n",
        "# 이때 구구단 1단, 3단, 5단, 6단, 7단, 8단을 출력하는 코드를 만들어주세요.\n",
        "s = '135678'\n",
        "for i in s:\n",
        "    for j in range(1, 10):\n",
        "        print(i, j, int(i)*j)\n",
        "\n",
        "# 심화문제\n",
        "# 특이한 구구단이 있다.\n",
        "# [2, 3, 6]이 있었을 때 아래와 같이 출력되어야 한다.\n",
        "# 2단, 3단, 6을 출력하고\n",
        "# 곱해지는 수는 이에 [2, 3, 6]에 1씩을 더한\n",
        "# [3, 4, 7]이 각각 곱해져야 합니다.\n",
        "'''\n",
        "2 X 3 = 6\n",
        "2 X 4 = 8\n",
        "2 X 7 = 14\n",
        "3 X 3 = 9\n",
        "3 X 4 = 12\n",
        "3 X 7 = 21\n",
        "6 X 3 = 18\n",
        "6 X 4 = 24\n",
        "6 X 7 = 42\n",
        "'''\n",
        "\n",
        "l = [2, 3, 6]\n",
        "for i in l:\n",
        "    for j in l:\n",
        "        print(f'{i} X {j + 1} = {i*(j+1)}')"
      ],
      "metadata": {
        "colab": {
          "base_uri": "https://localhost:8080/"
        },
        "id": "LljTnE8JbRmZ",
        "outputId": "02613a67-9a6e-4599-99f0-f18dd170c0f4"
      },
      "execution_count": null,
      "outputs": [
        {
          "output_type": "stream",
          "name": "stdout",
          "text": [
            "1 1 1\n",
            "1 2 2\n",
            "1 3 3\n",
            "1 4 4\n",
            "1 5 5\n",
            "1 6 6\n",
            "1 7 7\n",
            "1 8 8\n",
            "1 9 9\n",
            "3 1 3\n",
            "3 2 6\n",
            "3 3 9\n",
            "3 4 12\n",
            "3 5 15\n",
            "3 6 18\n",
            "3 7 21\n",
            "3 8 24\n",
            "3 9 27\n",
            "5 1 5\n",
            "5 2 10\n",
            "5 3 15\n",
            "5 4 20\n",
            "5 5 25\n",
            "5 6 30\n",
            "5 7 35\n",
            "5 8 40\n",
            "5 9 45\n",
            "6 1 6\n",
            "6 2 12\n",
            "6 3 18\n",
            "6 4 24\n",
            "6 5 30\n",
            "6 6 36\n",
            "6 7 42\n",
            "6 8 48\n",
            "6 9 54\n",
            "7 1 7\n",
            "7 2 14\n",
            "7 3 21\n",
            "7 4 28\n",
            "7 5 35\n",
            "7 6 42\n",
            "7 7 49\n",
            "7 8 56\n",
            "7 9 63\n",
            "8 1 8\n",
            "8 2 16\n",
            "8 3 24\n",
            "8 4 32\n",
            "8 5 40\n",
            "8 6 48\n",
            "8 7 56\n",
            "8 8 64\n",
            "8 9 72\n",
            "2 X 3 = 6\n",
            "2 X 4 = 8\n",
            "2 X 7 = 14\n",
            "3 X 3 = 9\n",
            "3 X 4 = 12\n",
            "3 X 7 = 21\n",
            "6 X 3 = 18\n",
            "6 X 4 = 24\n",
            "6 X 7 = 42\n"
          ]
        }
      ]
    },
    {
      "cell_type": "code",
      "source": [
        "nums = [1, 2, 3, 4, 5]\n",
        "result = [f'{x}는 3보다 큰 짝수' if x % 2 == 0 else f'{x}는 3보다 큰 홀수' for x in nums if x > 3]\n",
        "print(result)"
      ],
      "metadata": {
        "colab": {
          "base_uri": "https://localhost:8080/"
        },
        "id": "lh9cnijTj0oY",
        "outputId": "801b3ca8-e178-469f-ddf4-d9cc28a90859"
      },
      "execution_count": null,
      "outputs": [
        {
          "output_type": "stream",
          "name": "stdout",
          "text": [
            "['4는 3보다 큰 짝수', '5는 3보다 큰 홀수']\n"
          ]
        }
      ]
    },
    {
      "cell_type": "code",
      "source": [
        "result = []\n",
        "nums = [1, 2, 3, 4, 5]\n",
        "for x in nums:\n",
        "    if x > 3:\n",
        "        if x % 2 == 0:\n",
        "            result.append(f'{x}는 3보다 큰 짝수')\n",
        "        else:\n",
        "            result.append(f'{x}는 3보다 큰 홀수')\n",
        "print(result)"
      ],
      "metadata": {
        "colab": {
          "base_uri": "https://localhost:8080/"
        },
        "id": "FYdlk5zIkhkt",
        "outputId": "f50d455d-aa25-49a3-851a-3325742991d6"
      },
      "execution_count": null,
      "outputs": [
        {
          "output_type": "stream",
          "name": "stdout",
          "text": [
            "['4는 3보다 큰 짝수', '5는 3보다 큰 홀수']\n"
          ]
        }
      ]
    },
    {
      "cell_type": "code",
      "source": [
        "[[f'{i} × {j} = {i*j}' for j in range(1, 10)] for i in range(2, 10)]"
      ],
      "metadata": {
        "colab": {
          "base_uri": "https://localhost:8080/"
        },
        "id": "ZJcdnJFNlLjB",
        "outputId": "29c2336f-162e-4187-9438-f8be387c8160"
      },
      "execution_count": null,
      "outputs": [
        {
          "output_type": "execute_result",
          "data": {
            "text/plain": [
              "[['2 × 1 = 2',\n",
              "  '2 × 2 = 4',\n",
              "  '2 × 3 = 6',\n",
              "  '2 × 4 = 8',\n",
              "  '2 × 5 = 10',\n",
              "  '2 × 6 = 12',\n",
              "  '2 × 7 = 14',\n",
              "  '2 × 8 = 16',\n",
              "  '2 × 9 = 18'],\n",
              " ['3 × 1 = 3',\n",
              "  '3 × 2 = 6',\n",
              "  '3 × 3 = 9',\n",
              "  '3 × 4 = 12',\n",
              "  '3 × 5 = 15',\n",
              "  '3 × 6 = 18',\n",
              "  '3 × 7 = 21',\n",
              "  '3 × 8 = 24',\n",
              "  '3 × 9 = 27'],\n",
              " ['4 × 1 = 4',\n",
              "  '4 × 2 = 8',\n",
              "  '4 × 3 = 12',\n",
              "  '4 × 4 = 16',\n",
              "  '4 × 5 = 20',\n",
              "  '4 × 6 = 24',\n",
              "  '4 × 7 = 28',\n",
              "  '4 × 8 = 32',\n",
              "  '4 × 9 = 36'],\n",
              " ['5 × 1 = 5',\n",
              "  '5 × 2 = 10',\n",
              "  '5 × 3 = 15',\n",
              "  '5 × 4 = 20',\n",
              "  '5 × 5 = 25',\n",
              "  '5 × 6 = 30',\n",
              "  '5 × 7 = 35',\n",
              "  '5 × 8 = 40',\n",
              "  '5 × 9 = 45'],\n",
              " ['6 × 1 = 6',\n",
              "  '6 × 2 = 12',\n",
              "  '6 × 3 = 18',\n",
              "  '6 × 4 = 24',\n",
              "  '6 × 5 = 30',\n",
              "  '6 × 6 = 36',\n",
              "  '6 × 7 = 42',\n",
              "  '6 × 8 = 48',\n",
              "  '6 × 9 = 54'],\n",
              " ['7 × 1 = 7',\n",
              "  '7 × 2 = 14',\n",
              "  '7 × 3 = 21',\n",
              "  '7 × 4 = 28',\n",
              "  '7 × 5 = 35',\n",
              "  '7 × 6 = 42',\n",
              "  '7 × 7 = 49',\n",
              "  '7 × 8 = 56',\n",
              "  '7 × 9 = 63'],\n",
              " ['8 × 1 = 8',\n",
              "  '8 × 2 = 16',\n",
              "  '8 × 3 = 24',\n",
              "  '8 × 4 = 32',\n",
              "  '8 × 5 = 40',\n",
              "  '8 × 6 = 48',\n",
              "  '8 × 7 = 56',\n",
              "  '8 × 8 = 64',\n",
              "  '8 × 9 = 72'],\n",
              " ['9 × 1 = 9',\n",
              "  '9 × 2 = 18',\n",
              "  '9 × 3 = 27',\n",
              "  '9 × 4 = 36',\n",
              "  '9 × 5 = 45',\n",
              "  '9 × 6 = 54',\n",
              "  '9 × 7 = 63',\n",
              "  '9 × 8 = 72',\n",
              "  '9 × 9 = 81']]"
            ]
          },
          "metadata": {},
          "execution_count": 5
        }
      ]
    },
    {
      "cell_type": "code",
      "source": [
        "def sumthingFunction(i):\n",
        "    if i % 100 ==0:\n",
        "        return i\n",
        "    else:\n",
        "        return 0\n",
        "\n",
        "l = [100, 200, 300, 101, 202, 303]\n",
        "l = [sumthingFunction(i) for i in l]\n",
        "l"
      ],
      "metadata": {
        "colab": {
          "base_uri": "https://localhost:8080/"
        },
        "id": "nlPKkMJRl46F",
        "outputId": "4b835c9a-f926-49b8-d852-3cd72b4425eb"
      },
      "execution_count": null,
      "outputs": [
        {
          "output_type": "execute_result",
          "data": {
            "text/plain": [
              "[100, 200, 300, 0, 0, 0]"
            ]
          },
          "metadata": {},
          "execution_count": 7
        }
      ]
    },
    {
      "cell_type": "code",
      "source": [
        "# 하나만 리스트여도 쌍이면 상관없이 잘 돌아감\n",
        "skill = [\n",
        "        ('고기잡이', 100, 'SS'),\n",
        "        ('고기팔기', 120, 'SSS'),\n",
        "        ('낚시', 5, 'C'),\n",
        "        ('통발', 5, 'C'),\n",
        "        ('큰그물', 5, 'C')\n",
        "]\n",
        "\n",
        "for skillName, skillLevel, skillGrade in skill:\n",
        "    print(skillName, skillLevel, skillGrade)"
      ],
      "metadata": {
        "colab": {
          "base_uri": "https://localhost:8080/"
        },
        "id": "82IZjjjzgOCF",
        "outputId": "3b0a76a7-77e2-41d6-be8a-1ec9bffac881"
      },
      "execution_count": null,
      "outputs": [
        {
          "output_type": "stream",
          "name": "stdout",
          "text": [
            "고기잡이 100 SS\n",
            "고기팔기 120 SSS\n",
            "낚시 5 C\n",
            "통발 5 C\n",
            "큰그물 5 C\n"
          ]
        }
      ]
    },
    {
      "cell_type": "code",
      "source": [
        "영화누적관객수 = ['레미제라블', '뷰티인사이트', '매트릭스', '인셉션', '어거스트 러쉬']\n",
        "for i in enumerate(영화누적관객수):\n",
        "    print(i)\n",
        "\n",
        "for i, j in enumerate(영화누적관객수, 1):\n",
        "    print(f'누적관객수 {i}위! {j}!')"
      ],
      "metadata": {
        "colab": {
          "base_uri": "https://localhost:8080/"
        },
        "id": "Q13z_d1Mgamo",
        "outputId": "8e745cde-4aca-4e0e-d94c-533a23ff643a"
      },
      "execution_count": null,
      "outputs": [
        {
          "output_type": "stream",
          "name": "stdout",
          "text": [
            "(0, '레미제라블')\n",
            "(1, '뷰티인사이트')\n",
            "(2, '매트릭스')\n",
            "(3, '인셉션')\n",
            "(4, '어거스트 러쉬')\n",
            "누적관객수 1위! 레미제라블!\n",
            "누적관객수 2위! 뷰티인사이트!\n",
            "누적관객수 3위! 매트릭스!\n",
            "누적관객수 4위! 인셉션!\n",
            "누적관객수 5위! 어거스트 러쉬!\n"
          ]
        }
      ]
    },
    {
      "cell_type": "code",
      "source": [
        "# 실행시키면 런타임 다시 시작해야 합니다.\n",
        "# l = [1, 2]\n",
        "# for i in l:\n",
        "#     l.append(3)\n",
        "#     print(i) # 1, 2, 3, 3, 3, 3, 3, 3 ...\n",
        "\n",
        "s = 'hello'\n",
        "for i in s: # 순회가 정상적으로 됩니다.\n",
        "    s += '!'\n",
        "    print(i)\n",
        "    print(s)\n",
        "\n",
        "d = {'one': '하나'}\n",
        "for i in d: # RuntimeError: dictionary changed size during iteration\n",
        "    d.update({i+d[i]:None})\n",
        "    print(d)"
      ],
      "metadata": {
        "colab": {
          "base_uri": "https://localhost:8080/",
          "height": 449
        },
        "id": "RtFTko-fhIsT",
        "outputId": "c9c18164-6ce5-4e28-ef41-23b0f4f244ae"
      },
      "execution_count": null,
      "outputs": [
        {
          "output_type": "stream",
          "name": "stdout",
          "text": [
            "h\n",
            "hello!\n",
            "e\n",
            "hello!!\n",
            "l\n",
            "hello!!!\n",
            "l\n",
            "hello!!!!\n",
            "o\n",
            "hello!!!!!\n",
            "{'one': '하나', 'one하나': None}\n"
          ]
        },
        {
          "output_type": "error",
          "ename": "RuntimeError",
          "evalue": "ignored",
          "traceback": [
            "\u001b[0;31m---------------------------------------------------------------------------\u001b[0m",
            "\u001b[0;31mRuntimeError\u001b[0m                              Traceback (most recent call last)",
            "\u001b[0;32m<ipython-input-4-8ea16fece49d>\u001b[0m in \u001b[0;36m<cell line: 14>\u001b[0;34m()\u001b[0m\n\u001b[1;32m     12\u001b[0m \u001b[0;34m\u001b[0m\u001b[0m\n\u001b[1;32m     13\u001b[0m \u001b[0md\u001b[0m \u001b[0;34m=\u001b[0m \u001b[0;34m{\u001b[0m\u001b[0;34m'one'\u001b[0m\u001b[0;34m:\u001b[0m \u001b[0;34m'하나'\u001b[0m\u001b[0;34m}\u001b[0m\u001b[0;34m\u001b[0m\u001b[0;34m\u001b[0m\u001b[0m\n\u001b[0;32m---> 14\u001b[0;31m \u001b[0;32mfor\u001b[0m \u001b[0mi\u001b[0m \u001b[0;32min\u001b[0m \u001b[0md\u001b[0m\u001b[0;34m:\u001b[0m\u001b[0;34m\u001b[0m\u001b[0;34m\u001b[0m\u001b[0m\n\u001b[0m\u001b[1;32m     15\u001b[0m     \u001b[0md\u001b[0m\u001b[0;34m.\u001b[0m\u001b[0mupdate\u001b[0m\u001b[0;34m(\u001b[0m\u001b[0;34m{\u001b[0m\u001b[0mi\u001b[0m\u001b[0;34m+\u001b[0m\u001b[0md\u001b[0m\u001b[0;34m[\u001b[0m\u001b[0mi\u001b[0m\u001b[0;34m]\u001b[0m\u001b[0;34m:\u001b[0m\u001b[0;32mNone\u001b[0m\u001b[0;34m}\u001b[0m\u001b[0;34m)\u001b[0m\u001b[0;34m\u001b[0m\u001b[0;34m\u001b[0m\u001b[0m\n\u001b[1;32m     16\u001b[0m     \u001b[0mprint\u001b[0m\u001b[0;34m(\u001b[0m\u001b[0md\u001b[0m\u001b[0;34m)\u001b[0m\u001b[0;34m\u001b[0m\u001b[0;34m\u001b[0m\u001b[0m\n",
            "\u001b[0;31mRuntimeError\u001b[0m: dictionary changed size during iteration"
          ]
        }
      ]
    },
    {
      "cell_type": "code",
      "source": [
        "while True :\n",
        "    print('무한 반복 중...')"
      ],
      "metadata": {
        "id": "sNUAOHy3ibPN"
      },
      "execution_count": null,
      "outputs": []
    },
    {
      "cell_type": "code",
      "source": [
        "# 이런 코드는 OS에서 사용하거나\n",
        "# 쉘 만들 때 사용합니다.\n",
        "while True:\n",
        "    userinput = input('>')\n",
        "    if userinput == 'pwd':\n",
        "        print('현재 위치 출력')\n",
        "    elif userinput == 'dir' or userinput == 'ls':\n",
        "        print('현재 폴더에 폴더와 파일명 출력')\n",
        "    elif userinput == 'exit':\n",
        "        print('안녕히가세요.')\n",
        "        break"
      ],
      "metadata": {
        "colab": {
          "base_uri": "https://localhost:8080/"
        },
        "id": "YfjASOGOif1e",
        "outputId": "7188aca9-cef6-44d6-c4a5-efffa72a6371"
      },
      "execution_count": null,
      "outputs": [
        {
          "output_type": "stream",
          "name": "stdout",
          "text": [
            ">exit\n",
            "안녕히가세요.\n"
          ]
        }
      ]
    },
    {
      "cell_type": "code",
      "source": [
        "# .py파일로 작성해서 실행해보세요.\n",
        "import os\n",
        "\n",
        "while True:\n",
        "    userinput = input('>')\n",
        "    if userinput == 'pwd':\n",
        "        # print('현재 위치 출력')\n",
        "        # print('\\\\'.join(__file__.split('\\\\')[:-1]))\n",
        "        print(os.getcwd())\n",
        "    elif userinput == 'dir' or userinput == 'ls':\n",
        "        # print('현재 폴더에 폴더와 파일명 출력')\n",
        "        print(os.listdir(os.getcwd()))\n",
        "    elif userinput == 'exit':\n",
        "        print('안녕히가세요.')\n",
        "        break"
      ],
      "metadata": {
        "id": "NH_Ye7WDjGQ-",
        "colab": {
          "base_uri": "https://localhost:8080/"
        },
        "outputId": "a006df0b-d574-4a81-a48c-ca0bfc2a07c5"
      },
      "execution_count": null,
      "outputs": [
        {
          "output_type": "stream",
          "name": "stdout",
          "text": [
            ">pwd\n",
            "/content\n",
            ">ls\n",
            "['.config', 'sample_data']\n",
            ">exit\n",
            "안녕히가세요.\n"
          ]
        }
      ]
    },
    {
      "cell_type": "code",
      "source": [
        "import random\n",
        "\n",
        "answer = random.randint(1, 1000)\n",
        "while True:\n",
        "    userinput = int(input('숫자를 입력해주세요.'))\n",
        "    if userinput > answer:\n",
        "        print('Down')\n",
        "\n",
        "    elif userinput < answer:\n",
        "        print('Up')\n",
        "    else:\n",
        "        print('축하합니다! 맞추셨어요!')\n",
        "        break"
      ],
      "metadata": {
        "colab": {
          "base_uri": "https://localhost:8080/"
        },
        "id": "baAfWMjy2nR3",
        "outputId": "d5542754-75d3-45c1-9a36-b300b3036b52"
      },
      "execution_count": null,
      "outputs": [
        {
          "output_type": "stream",
          "name": "stdout",
          "text": [
            "숫자를 입력해주세요.500\n",
            "Up\n",
            "숫자를 입력해주세요.750\n",
            "Up\n",
            "숫자를 입력해주세요.868\n",
            "Down\n",
            "숫자를 입력해주세요.834\n",
            "Up\n",
            "숫자를 입력해주세요.855\n",
            "Down\n",
            "숫자를 입력해주세요.840\n",
            "Up\n",
            "숫자를 입력해주세요.843\n",
            "Down\n",
            "숫자를 입력해주세요.841\n",
            "Up\n",
            "숫자를 입력해주세요.842\n",
            "축하합니다! 맞추셨어요!\n"
          ]
        }
      ]
    },
    {
      "cell_type": "code",
      "source": [
        "import random\n",
        "\n",
        "s = [1, 2, 3, 4, 5]\n",
        "random.shuffle(s)\n",
        "s"
      ],
      "metadata": {
        "colab": {
          "base_uri": "https://localhost:8080/"
        },
        "id": "mp64Uswj4L5F",
        "outputId": "5f2a2452-07fa-43da-8e3b-19175a8f9521"
      },
      "execution_count": null,
      "outputs": [
        {
          "output_type": "execute_result",
          "data": {
            "text/plain": [
              "[1, 5, 3, 2, 4]"
            ]
          },
          "metadata": {},
          "execution_count": 5
        }
      ]
    },
    {
      "cell_type": "code",
      "source": [
        "x = (n := 10) * 2\n",
        "print(x)  # 출력: 20\n",
        "print(n)  # 출력: 10"
      ],
      "metadata": {
        "colab": {
          "base_uri": "https://localhost:8080/"
        },
        "id": "rQg175bWmF4S",
        "outputId": "36ba2e86-afc7-4988-ff99-e35473ce8a5c"
      },
      "execution_count": null,
      "outputs": [
        {
          "output_type": "stream",
          "name": "stdout",
          "text": [
            "20\n",
            "10\n"
          ]
        }
      ]
    },
    {
      "cell_type": "code",
      "source": [
        "import random\n",
        "\n",
        "while (x := random.randint(0, 10)) != 7:\n",
        "    print(x)"
      ],
      "metadata": {
        "colab": {
          "base_uri": "https://localhost:8080/"
        },
        "id": "1_Td8HLb5JA_",
        "outputId": "017fc60b-ed9f-4b0f-ca5c-fceb7cbec6db"
      },
      "execution_count": null,
      "outputs": [
        {
          "output_type": "stream",
          "name": "stdout",
          "text": [
            "2\n",
            "3\n",
            "6\n",
            "3\n",
            "1\n",
            "10\n",
            "2\n",
            "9\n"
          ]
        }
      ]
    },
    {
      "cell_type": "code",
      "source": [
        "i = 2\n",
        "while i < 10:\n",
        "    j = 1 # 별표 5개! while문은 중첩해서 사용할 때 초기화가 필요합니다!\n",
        "    while j < 10:\n",
        "        print(f'{i} X {j} = {i*j}')\n",
        "        j += 1\n",
        "    i += 1"
      ],
      "metadata": {
        "id": "ts1b7Cvp6X3K"
      },
      "execution_count": null,
      "outputs": []
    },
    {
      "cell_type": "code",
      "source": [
        "x = 0\n",
        "while x < 10:\n",
        "    print(x)\n",
        "    if x == 5:\n",
        "        break\n",
        "    x += 1"
      ],
      "metadata": {
        "colab": {
          "base_uri": "https://localhost:8080/"
        },
        "id": "jZRABMjK5gnC",
        "outputId": "df7d5681-5f34-4965-dbbd-4b09aa32b7cc"
      },
      "execution_count": null,
      "outputs": [
        {
          "output_type": "stream",
          "name": "stdout",
          "text": [
            "0\n",
            "1\n",
            "2\n",
            "3\n",
            "4\n",
            "5\n"
          ]
        }
      ]
    },
    {
      "cell_type": "code",
      "source": [
        "# 주의해주세요! 무한반복입니다!\n",
        "x = 0\n",
        "while x < 10:\n",
        "    print(x)\n",
        "    if x == 5:\n",
        "        continue\n",
        "    x += 1"
      ],
      "metadata": {
        "id": "MUKAtNl87nfp"
      },
      "execution_count": null,
      "outputs": []
    },
    {
      "cell_type": "code",
      "source": [
        "x = 0\n",
        "while x < 5:\n",
        "    x += 1\n",
        "    if x == 3:\n",
        "        continue\n",
        "    print(x)"
      ],
      "metadata": {
        "colab": {
          "base_uri": "https://localhost:8080/"
        },
        "id": "KSX-WUni7xHT",
        "outputId": "731802e1-36ef-4d3a-8795-18a32a5d3532"
      },
      "execution_count": null,
      "outputs": [
        {
          "output_type": "stream",
          "name": "stdout",
          "text": [
            "1\n",
            "2\n",
            "4\n",
            "5\n"
          ]
        }
      ]
    },
    {
      "cell_type": "code",
      "source": [
        "x = 0\n",
        "while x < 5:\n",
        "    x += 1\n",
        "    if x == 3:\n",
        "        pass\n",
        "    print(x)"
      ],
      "metadata": {
        "colab": {
          "base_uri": "https://localhost:8080/"
        },
        "id": "nWEjHIMlvfeP",
        "outputId": "abf3d61c-cefc-4935-87c0-6ad094c93be1"
      },
      "execution_count": null,
      "outputs": [
        {
          "output_type": "stream",
          "name": "stdout",
          "text": [
            "1\n",
            "2\n",
            "3\n",
            "4\n",
            "5\n"
          ]
        }
      ]
    },
    {
      "cell_type": "code",
      "source": [
        "# break은 바로 위에 부모만 탈출합니다.\n",
        "# continue는 아래코드를 실행하지 않고 다음 루프로 넘어갑니다.\n",
        "# pass는 지나칠 뿐입니다.\n",
        "# 아래에서 pass는 코드가 애러가 나지 않게만 합니다.\n",
        "x = 0\n",
        "while x < 10:\n",
        "    x += 1\n",
        "    if x == 5:\n",
        "        pass\n",
        "    print(x)"
      ],
      "metadata": {
        "id": "jAi_L3gY8BBW"
      },
      "execution_count": null,
      "outputs": []
    },
    {
      "cell_type": "code",
      "source": [
        "i = 2\n",
        "while i < 10:\n",
        "    j = 1 # 별표 5개! while문은 중첩해서 사용할 때 초기화가 필요합니다!\n",
        "    while j < 10:\n",
        "        if j == 3:\n",
        "            break\n",
        "        print(f'{i} X {j} = {i*j}')\n",
        "        j += 1\n",
        "    i += 1"
      ],
      "metadata": {
        "colab": {
          "base_uri": "https://localhost:8080/"
        },
        "id": "pbM49NEf95dW",
        "outputId": "8ca82a35-243f-48e3-8f73-2b8c730e6e8c"
      },
      "execution_count": null,
      "outputs": [
        {
          "output_type": "stream",
          "name": "stdout",
          "text": [
            "2 X 1 = 2\n",
            "2 X 2 = 4\n",
            "3 X 1 = 3\n",
            "3 X 2 = 6\n",
            "4 X 1 = 4\n",
            "4 X 2 = 8\n",
            "5 X 1 = 5\n",
            "5 X 2 = 10\n",
            "6 X 1 = 6\n",
            "6 X 2 = 12\n",
            "7 X 1 = 7\n",
            "7 X 2 = 14\n",
            "8 X 1 = 8\n",
            "8 X 2 = 16\n",
            "9 X 1 = 9\n",
            "9 X 2 = 18\n"
          ]
        }
      ]
    },
    {
      "cell_type": "code",
      "source": [
        "switch = 0\n",
        "for i in range(5):\n",
        "    if switch == 1:\n",
        "        break\n",
        "    for j in range(5):\n",
        "        if j == 3:\n",
        "            switch = 1\n",
        "            break\n",
        "        print(f'{i}, {j}')"
      ],
      "metadata": {
        "colab": {
          "base_uri": "https://localhost:8080/"
        },
        "id": "EHCB6ftRwkC9",
        "outputId": "29149c9a-003f-490d-bef5-2bbe7fec3412"
      },
      "execution_count": null,
      "outputs": [
        {
          "output_type": "stream",
          "name": "stdout",
          "text": [
            "0, 0\n",
            "0, 1\n",
            "0, 2\n",
            "??\n"
          ]
        }
      ]
    },
    {
      "cell_type": "code",
      "source": [
        "# https://peps.python.org/pep-3136/\n",
        "\n",
        "try:\n",
        "    for i in range(2, 10):\n",
        "        for j in range(1, 10):\n",
        "            if j == 3:\n",
        "                raise StopIteration\n",
        "            print(f'{i} X {j} = {i*j}')\n",
        "except StopIteration:\n",
        "    print(\"Done\")"
      ],
      "metadata": {
        "colab": {
          "base_uri": "https://localhost:8080/"
        },
        "id": "ZiuAI4In8uY7",
        "outputId": "a60d1895-fb93-4bcb-9e5b-33775a20b8f7"
      },
      "execution_count": null,
      "outputs": [
        {
          "output_type": "stream",
          "name": "stdout",
          "text": [
            "2 X 1 = 2\n",
            "2 X 2 = 4\n",
            "Done\n"
          ]
        }
      ]
    },
    {
      "cell_type": "code",
      "source": [
        "# else라고 하지 않고 다른 키워드로 해야한다는 주장있었어요.\n",
        "for i in range(5):\n",
        "    print(i)\n",
        "else:\n",
        "    print('정상 종료')"
      ],
      "metadata": {
        "colab": {
          "base_uri": "https://localhost:8080/"
        },
        "id": "nZ5eqzEb-TSP",
        "outputId": "f5a057c1-4445-44ad-be0f-cd231eb30288"
      },
      "execution_count": null,
      "outputs": [
        {
          "output_type": "stream",
          "name": "stdout",
          "text": [
            "0\n",
            "1\n",
            "2\n",
            "3\n",
            "4\n",
            "end\n"
          ]
        }
      ]
    },
    {
      "cell_type": "code",
      "source": [
        "# else라고 하지 않고 다른 키워드로 해야한다는 주장있었어요.\n",
        "for i in range(5):\n",
        "    print(i)\n",
        "    if i == 3:\n",
        "        break\n",
        "else:\n",
        "    print('정상 종료')"
      ],
      "metadata": {
        "colab": {
          "base_uri": "https://localhost:8080/"
        },
        "id": "QEIOoVGq-o9u",
        "outputId": "13290b6b-6420-455a-d8b5-4b0be551af9b"
      },
      "execution_count": null,
      "outputs": [
        {
          "output_type": "stream",
          "name": "stdout",
          "text": [
            "0\n",
            "1\n",
            "2\n",
            "3\n"
          ]
        }
      ]
    },
    {
      "cell_type": "code",
      "source": [
        "x = 1\n",
        "while x < 10:\n",
        "    print(x)\n",
        "    x += 1\n",
        "else:\n",
        "    print('정상 종료')"
      ],
      "metadata": {
        "colab": {
          "base_uri": "https://localhost:8080/"
        },
        "id": "ijyq9oS0-5cy",
        "outputId": "c9e2efe0-5cfb-4d6f-ad2c-4d5e87f46e91"
      },
      "execution_count": null,
      "outputs": [
        {
          "output_type": "stream",
          "name": "stdout",
          "text": [
            "1\n",
            "2\n",
            "3\n",
            "4\n",
            "5\n",
            "6\n",
            "7\n",
            "8\n",
            "9\n",
            "정상 종료\n"
          ]
        }
      ]
    },
    {
      "cell_type": "code",
      "source": [
        "x = 1\n",
        "while x < 10:\n",
        "    print(x)\n",
        "    if x == 3:\n",
        "        break\n",
        "    x += 1\n",
        "else:\n",
        "    print('정상 종료')"
      ],
      "metadata": {
        "colab": {
          "base_uri": "https://localhost:8080/"
        },
        "id": "9jUxmpYE_ZaO",
        "outputId": "6e710f40-ab95-465c-d1ca-10ada3a62396"
      },
      "execution_count": null,
      "outputs": [
        {
          "output_type": "stream",
          "name": "stdout",
          "text": [
            "1\n",
            "2\n",
            "3\n"
          ]
        }
      ]
    },
    {
      "cell_type": "code",
      "source": [
        "data = [\n",
        "  {\n",
        "    \"_id\": \"fd7e9a0f-e77b-436a-B781-119b66033d49\",\n",
        "    \"index\": \"1\",\n",
        "    \"name\": \"나주헌\",\n",
        "    \"email\": \"user-tzctc1q@suspendisse.org\",\n",
        "    \"phone\": \"010-5547-5841\",\n",
        "    \"country\": \"과테말라\",\n",
        "    \"address\": \"광나루로 99-2\",\n",
        "    \"job\": \"유치원교사\",\n",
        "    \"gender\": \"여성\",\n",
        "    \"age\": \"43\"\n",
        "  },\n",
        "  {\n",
        "    \"_id\": \"8ec6eabb-160a-41e4-A3de-cd33aff0b281\",\n",
        "    \"index\": \"2\",\n",
        "    \"name\": \"엄루다\",\n",
        "    \"email\": \"user-1rz7xby@mi.org\",\n",
        "    \"phone\": \"010-3963-9373\",\n",
        "    \"country\": \"엘살바도르\",\n",
        "    \"address\": \"석촌호수로 37-1\",\n",
        "    \"job\": \"프로게이머\",\n",
        "    \"gender\": \"남성\",\n",
        "    \"age\": \"22\"\n",
        "  },\n",
        "  {\n",
        "    \"_id\": \"bcf804f7-0452-4c31-B9d1-20cc2d38490b\",\n",
        "    \"index\": \"3\",\n",
        "    \"name\": \"형유환\",\n",
        "    \"email\": \"user-ym96wth@have.net\",\n",
        "    \"phone\": \"010-6389-9499\",\n",
        "    \"country\": \"벨리즈\",\n",
        "    \"address\": \"잠실로 33-3\",\n",
        "    \"job\": \"아나운서\",\n",
        "    \"gender\": \"남성\",\n",
        "    \"age\": \"31\"\n",
        "  },\n",
        "  {\n",
        "    \"_id\": \"11006f0d-e88d-41fc-A288-caa2e67927e7\",\n",
        "    \"index\": \"4\",\n",
        "    \"name\": \"위도현\",\n",
        "    \"email\": \"user-tkxj6f5@diam.org\",\n",
        "    \"phone\": \"010-4246-4752\",\n",
        "    \"country\": \"바레인\",\n",
        "    \"address\": \"종로 99-8\",\n",
        "    \"job\": \"작곡가\",\n",
        "    \"gender\": \"여성\",\n",
        "    \"age\": \"42\"\n",
        "  },\n",
        "  {\n",
        "    \"_id\": \"b7421487-da52-4410-B696-17bab958a5d8\",\n",
        "    \"index\": \"5\",\n",
        "    \"name\": \"유성재\",\n",
        "    \"email\": \"user-bgxih63@Sed.net\",\n",
        "    \"phone\": \"010-6359-7592\",\n",
        "    \"country\": \"피지\",\n",
        "    \"address\": \"방학로 71-3\",\n",
        "    \"job\": \"연기자\",\n",
        "    \"gender\": \"여성\",\n",
        "    \"age\": \"48\"\n",
        "  }\n",
        "]"
      ],
      "metadata": {
        "id": "qLU-1nVzBJUC"
      },
      "execution_count": null,
      "outputs": []
    },
    {
      "cell_type": "code",
      "source": [
        "# 문제 1번: 평균 나이를 출력해주세요.\n",
        "# 문제 2번: 남녀 성비를 출력해주세요."
      ],
      "metadata": {
        "id": "hBHwWQu6IOfE"
      },
      "execution_count": null,
      "outputs": []
    },
    {
      "cell_type": "code",
      "source": [
        "data[0]"
      ],
      "metadata": {
        "colab": {
          "base_uri": "https://localhost:8080/"
        },
        "id": "N6ikfPgGESzO",
        "outputId": "2a0909f9-3ad0-43f4-a3be-e44b0486f76f"
      },
      "execution_count": null,
      "outputs": [
        {
          "output_type": "execute_result",
          "data": {
            "text/plain": [
              "{'_id': 'fd7e9a0f-e77b-436a-B781-119b66033d49',\n",
              " 'index': '1',\n",
              " 'name': '나주헌',\n",
              " 'email': 'user-tzctc1q@suspendisse.org',\n",
              " 'phone': '010-5547-5841',\n",
              " 'country': '과테말라',\n",
              " 'address': '광나루로 99-2',\n",
              " 'job': '유치원교사',\n",
              " 'gender': '여성',\n",
              " 'age': '43'}"
            ]
          },
          "metadata": {},
          "execution_count": 33
        }
      ]
    },
    {
      "cell_type": "code",
      "source": [
        "# 나이\n",
        "# list(map(lambda x:x['age'], data))\n",
        "ages = map(lambda x:x['age'], data)\n",
        "ages = map(int, ages)\n",
        "# list(ages) # map은 한번 순회가 돌면 다시 순회가 불가합니다."
      ],
      "metadata": {
        "id": "9rsYOTUAISt3"
      },
      "execution_count": null,
      "outputs": []
    },
    {
      "cell_type": "code",
      "source": [
        "ages = list(ages)\n",
        "ages"
      ],
      "metadata": {
        "colab": {
          "base_uri": "https://localhost:8080/"
        },
        "id": "BF7CFNBUJIvG",
        "outputId": "8a80d4fe-8c03-448c-f96d-8984f5880107"
      },
      "execution_count": null,
      "outputs": [
        {
          "output_type": "execute_result",
          "data": {
            "text/plain": [
              "[43, 22, 31, 42, 48]"
            ]
          },
          "metadata": {},
          "execution_count": 46
        }
      ]
    },
    {
      "cell_type": "code",
      "source": [
        "sum(ages) / len(ages)"
      ],
      "metadata": {
        "colab": {
          "base_uri": "https://localhost:8080/"
        },
        "id": "QYiQ_6zrJbu5",
        "outputId": "257130df-03a4-454d-dae6-3edb2b73ff89"
      },
      "execution_count": null,
      "outputs": [
        {
          "output_type": "execute_result",
          "data": {
            "text/plain": [
              "37.2"
            ]
          },
          "metadata": {},
          "execution_count": 47
        }
      ]
    },
    {
      "cell_type": "code",
      "source": [
        "a = map(int, ['1', '2'])\n",
        "# list(a)\n",
        "a = list(a)\n",
        "a"
      ],
      "metadata": {
        "colab": {
          "base_uri": "https://localhost:8080/"
        },
        "id": "OAE8aBX1J3IT",
        "outputId": "90cc46bc-a12f-4058-92ef-9caad6be4066"
      },
      "execution_count": null,
      "outputs": [
        {
          "output_type": "execute_result",
          "data": {
            "text/plain": [
              "[1, 2]"
            ]
          },
          "metadata": {},
          "execution_count": 52
        }
      ]
    },
    {
      "cell_type": "code",
      "source": [
        "s = 'abcd'\n",
        "s = iter(s)\n",
        "next(s)"
      ],
      "metadata": {
        "colab": {
          "base_uri": "https://localhost:8080/",
          "height": 35
        },
        "id": "hcZH4xK6KLws",
        "outputId": "3ed0265e-de24-4ac2-a884-c2a02a29dc7e"
      },
      "execution_count": null,
      "outputs": [
        {
          "output_type": "execute_result",
          "data": {
            "text/plain": [
              "'a'"
            ],
            "application/vnd.google.colaboratory.intrinsic+json": {
              "type": "string"
            }
          },
          "metadata": {},
          "execution_count": 53
        }
      ]
    },
    {
      "cell_type": "code",
      "source": [
        "gender = list(map(lambda x:x['gender'], data))\n",
        "total = len(gender)\n",
        "man = gender.count('남성')\n",
        "woman = total - man\n",
        "man/total * 100, woman/total * 100"
      ],
      "metadata": {
        "colab": {
          "base_uri": "https://localhost:8080/"
        },
        "id": "FPk4qOg8KgdT",
        "outputId": "3a2a4443-b13d-4c96-aa66-f55861501dbb"
      },
      "execution_count": null,
      "outputs": [
        {
          "output_type": "execute_result",
          "data": {
            "text/plain": [
              "(40.0, 60.0)"
            ]
          },
          "metadata": {},
          "execution_count": 58
        }
      ]
    },
    {
      "cell_type": "code",
      "source": [
        "i = 2\n",
        "while i < 10 :\n",
        "    j = 1\n",
        "    while j < 10:\n",
        "        print(f'{i} X {j} = {i * j}')\n",
        "        j += 1\n",
        "    i += 1"
      ],
      "metadata": {
        "colab": {
          "base_uri": "https://localhost:8080/"
        },
        "id": "buGv0O7G81fT",
        "outputId": "c887caba-d57d-4c00-f86c-f9b25cfb3612"
      },
      "execution_count": null,
      "outputs": [
        {
          "output_type": "stream",
          "name": "stdout",
          "text": [
            "2 X 1 = 2\n",
            "2 X 2 = 4\n",
            "2 X 3 = 6\n",
            "2 X 4 = 8\n",
            "2 X 5 = 10\n",
            "2 X 6 = 12\n",
            "2 X 7 = 14\n",
            "2 X 8 = 16\n",
            "2 X 9 = 18\n",
            "3 X 1 = 3\n",
            "3 X 2 = 6\n",
            "3 X 3 = 9\n",
            "3 X 4 = 12\n",
            "3 X 5 = 15\n",
            "3 X 6 = 18\n",
            "3 X 7 = 21\n",
            "3 X 8 = 24\n",
            "3 X 9 = 27\n",
            "4 X 1 = 4\n",
            "4 X 2 = 8\n",
            "4 X 3 = 12\n",
            "4 X 4 = 16\n",
            "4 X 5 = 20\n",
            "4 X 6 = 24\n",
            "4 X 7 = 28\n",
            "4 X 8 = 32\n",
            "4 X 9 = 36\n",
            "5 X 1 = 5\n",
            "5 X 2 = 10\n",
            "5 X 3 = 15\n",
            "5 X 4 = 20\n",
            "5 X 5 = 25\n",
            "5 X 6 = 30\n",
            "5 X 7 = 35\n",
            "5 X 8 = 40\n",
            "5 X 9 = 45\n",
            "6 X 1 = 6\n",
            "6 X 2 = 12\n",
            "6 X 3 = 18\n",
            "6 X 4 = 24\n",
            "6 X 5 = 30\n",
            "6 X 6 = 36\n",
            "6 X 7 = 42\n",
            "6 X 8 = 48\n",
            "6 X 9 = 54\n",
            "7 X 1 = 7\n",
            "7 X 2 = 14\n",
            "7 X 3 = 21\n",
            "7 X 4 = 28\n",
            "7 X 5 = 35\n",
            "7 X 6 = 42\n",
            "7 X 7 = 49\n",
            "7 X 8 = 56\n",
            "7 X 9 = 63\n",
            "8 X 1 = 8\n",
            "8 X 2 = 16\n",
            "8 X 3 = 24\n",
            "8 X 4 = 32\n",
            "8 X 5 = 40\n",
            "8 X 6 = 48\n",
            "8 X 7 = 56\n",
            "8 X 8 = 64\n",
            "8 X 9 = 72\n",
            "9 X 1 = 9\n",
            "9 X 2 = 18\n",
            "9 X 3 = 27\n",
            "9 X 4 = 36\n",
            "9 X 5 = 45\n",
            "9 X 6 = 54\n",
            "9 X 7 = 63\n",
            "9 X 8 = 72\n",
            "9 X 9 = 81\n"
          ]
        }
      ]
    },
    {
      "cell_type": "code",
      "source": [
        "n = 0\n",
        "while n < 5:\n",
        "    print(f'현재 숫자는 {n}입니다.')\n",
        "    n += 1\n",
        "    if n > 3:\n",
        "        break\n",
        "else:\n",
        "    print('반복문을 종료합니다.')"
      ],
      "metadata": {
        "colab": {
          "base_uri": "https://localhost:8080/"
        },
        "id": "5E4NjMLY-z_A",
        "outputId": "6ba7cfc7-6de4-47e1-a46f-c1e892035067"
      },
      "execution_count": null,
      "outputs": [
        {
          "output_type": "stream",
          "name": "stdout",
          "text": [
            "현재 숫자는 0입니다.\n",
            "현재 숫자는 1입니다.\n",
            "현재 숫자는 2입니다.\n",
            "현재 숫자는 3입니다.\n"
          ]
        }
      ]
    },
    {
      "cell_type": "markdown",
      "source": [
        "# 클래스"
      ],
      "metadata": {
        "id": "hKk4yzPwL5XD"
      }
    },
    {
      "cell_type": "code",
      "source": [
        "class Car: # 차에 설계 도면 또는 차 공장, 클래스\n",
        "    max_speed = 300\n",
        "    max_people = 5\n",
        "    car_gear = ['P', 'D', 'R', 'N']\n",
        "\n",
        "    def start(self):\n",
        "        print('차가 출발합니다!')\n",
        "\n",
        "    def stop(self):\n",
        "        print('차가 멈췄습니다!')\n",
        "\n",
        "# 공장에서 생산된 자동차 modelx, y, s, 인스턴스\n",
        "modelx = Car() # 인스턴스 = 클래스()\n",
        "modely = Car()\n",
        "models = Car()\n",
        "\n",
        "print(models.car_gear[1])\n",
        "models.start()\n",
        "models.stop()\n",
        "\n",
        "# Car.max_speed # modelx에 속도를 보고 싶으면 modelx.max_speed를 찍어야 합니다.\n",
        "# 초기 설계는 300으로 찍혀 있지만, 고객이 아래와 같이 자동차 튜닝을 했을 수도 있으니까요.\n",
        "\n",
        "models.max_speed = 500\n",
        "\n",
        "print(models.max_speed)\n",
        "print(modely.max_speed)"
      ],
      "metadata": {
        "colab": {
          "base_uri": "https://localhost:8080/"
        },
        "id": "hr9rnx6MLAhn",
        "outputId": "c3d4a7f5-3bbb-4ef6-8985-009c4a8607eb"
      },
      "execution_count": null,
      "outputs": [
        {
          "output_type": "stream",
          "name": "stdout",
          "text": [
            "D\n",
            "차가 출발합니다!\n",
            "차가 멈췄습니다!\n",
            "500\n",
            "300\n"
          ]
        }
      ]
    },
    {
      "cell_type": "code",
      "source": [
        "l = [1, 2, 3]\n",
        "type(l)\n",
        "dir(l)\n",
        "l.append(3) # 이 모습!?\n",
        "l"
      ],
      "metadata": {
        "colab": {
          "base_uri": "https://localhost:8080/"
        },
        "id": "T9uNYOYWOHOP",
        "outputId": "a31b0cc2-f874-4572-eb7c-b7967230a33d"
      },
      "execution_count": null,
      "outputs": [
        {
          "output_type": "execute_result",
          "data": {
            "text/plain": [
              "[1, 2, 3, 3]"
            ]
          },
          "metadata": {},
          "execution_count": 67
        }
      ]
    },
    {
      "cell_type": "code",
      "source": [
        "# int, float, str과 같은 새로운 Car는 type을 만들고 있는 것입니다."
      ],
      "metadata": {
        "id": "knwlQpjfOWLj"
      },
      "execution_count": null,
      "outputs": []
    },
    {
      "cell_type": "code",
      "source": [
        "print(type(models))\n",
        "print(dir(models))"
      ],
      "metadata": {
        "colab": {
          "base_uri": "https://localhost:8080/"
        },
        "id": "yGwUb1n_OdOj",
        "outputId": "0b1eb846-eaf2-4fed-8017-ba851412005e"
      },
      "execution_count": null,
      "outputs": [
        {
          "output_type": "stream",
          "name": "stdout",
          "text": [
            "<class '__main__.Car'>\n",
            "['__class__', '__delattr__', '__dict__', '__dir__', '__doc__', '__eq__', '__format__', '__ge__', '__getattribute__', '__gt__', '__hash__', '__init__', '__init_subclass__', '__le__', '__lt__', '__module__', '__ne__', '__new__', '__reduce__', '__reduce_ex__', '__repr__', '__setattr__', '__sizeof__', '__str__', '__subclasshook__', '__weakref__', 'car_gear', 'max_people', 'max_speed', 'start', 'stop']\n"
          ]
        }
      ]
    },
    {
      "cell_type": "code",
      "source": [
        "x = int(3)\n",
        "# 그럼 x는 무엇일까요?\n",
        "# int라는 class에 인스턴스"
      ],
      "metadata": {
        "id": "llUfRfdROu0t"
      },
      "execution_count": null,
      "outputs": []
    },
    {
      "cell_type": "code",
      "source": [
        "x = int(3)\n",
        "print(type(x))"
      ],
      "metadata": {
        "colab": {
          "base_uri": "https://localhost:8080/"
        },
        "id": "VOVG9-9P7FtN",
        "outputId": "3c9d1ed6-c63a-437b-f5fe-64c0243d44ce"
      },
      "execution_count": null,
      "outputs": [
        {
          "output_type": "stream",
          "name": "stdout",
          "text": [
            "<class 'int'>\n"
          ]
        }
      ]
    },
    {
      "cell_type": "code",
      "source": [
        "isinstance(x, int)"
      ],
      "metadata": {
        "colab": {
          "base_uri": "https://localhost:8080/"
        },
        "id": "d9BOn4U47kVe",
        "outputId": "372217fd-7b03-4608-882d-0cc63771f028"
      },
      "execution_count": null,
      "outputs": [
        {
          "output_type": "execute_result",
          "data": {
            "text/plain": [
              "True"
            ]
          },
          "metadata": {},
          "execution_count": 10
        }
      ]
    },
    {
      "cell_type": "code",
      "source": [
        "isinstance(modelx, Car)"
      ],
      "metadata": {
        "colab": {
          "base_uri": "https://localhost:8080/"
        },
        "id": "ol3hiWI07zaR",
        "outputId": "9ccd46e9-57ed-493b-f7a0-3fe6c3156e29"
      },
      "execution_count": null,
      "outputs": [
        {
          "output_type": "execute_result",
          "data": {
            "text/plain": [
              "True"
            ]
          },
          "metadata": {},
          "execution_count": 11
        }
      ]
    },
    {
      "cell_type": "code",
      "source": [
        "# x = int(3) 여기서 넣었던 3이라는 값이 어떻게 처리되는지 확인\n",
        "class Car:\n",
        "    max_speed = 300\n",
        "    max_people = 5\n",
        "    car_gear = ['P', 'D', 'R', 'N']\n",
        "\n",
        "    def __init__(self, name): # 클래스로 인스턴스를 만들 때 호출!\n",
        "        self.name = name\n",
        "\n",
        "    def start(self):\n",
        "        print('차가 출발합니다!')\n",
        "\n",
        "    def stop(self):\n",
        "        print('차가 멈췄습니다!')\n",
        "\n",
        "modelx = Car('Tesla Model X') # x = int(3) 여기서 넣었던 3이 __init__ 메직메서드에서 처리!\n",
        "modelx.name"
      ],
      "metadata": {
        "colab": {
          "base_uri": "https://localhost:8080/",
          "height": 35
        },
        "id": "RyAgGWTIPICN",
        "outputId": "3a5bcc09-07ef-410a-db6a-8149d10c7a71"
      },
      "execution_count": null,
      "outputs": [
        {
          "output_type": "execute_result",
          "data": {
            "text/plain": [
              "'Tesla Model X'"
            ],
            "application/vnd.google.colaboratory.intrinsic+json": {
              "type": "string"
            }
          },
          "metadata": {},
          "execution_count": 5
        }
      ]
    },
    {
      "cell_type": "code",
      "source": [
        "# 실제 게임 코드\n",
        "class Character:\n",
        "    def __init__(self, name, role, hp, mp, power):\n",
        "        self.name = name\n",
        "        self.role = role\n",
        "        self.hp = hp\n",
        "        self.mp = mp\n",
        "        self.power = power\n",
        "\n",
        "    def attack(self):\n",
        "        print('공격!')\n",
        "\n",
        "    def defence(self):\n",
        "        print('방어!')\n",
        "\n",
        "hero_ironman = Character('아이언맨', '히어로', 100, 100, 100)\n",
        "villain_thanos = Character('타노스', '빌런', 100, 100, 200)\n",
        "# 여러 등장인물을 이런식으로 코딩할 수 있습니다."
      ],
      "metadata": {
        "id": "JkWKXxtWVYvc"
      },
      "execution_count": null,
      "outputs": []
    },
    {
      "cell_type": "code",
      "source": [
        "class Person:\n",
        "    name = 'jun' # 클래스 변수\n",
        "    def __init__(self, name):\n",
        "        self.name = name # 인스턴스 변수\n",
        "\n",
        "hojun = Person('hojun')\n",
        "hojun.name, Person.name"
      ],
      "metadata": {
        "colab": {
          "base_uri": "https://localhost:8080/"
        },
        "id": "4rl18rIbWfao",
        "outputId": "e34838b7-c791-44a9-bd49-e12be40c466c"
      },
      "execution_count": null,
      "outputs": [
        {
          "output_type": "execute_result",
          "data": {
            "text/plain": [
              "('hojun', 'jun')"
            ]
          },
          "metadata": {},
          "execution_count": 72
        }
      ]
    },
    {
      "cell_type": "code",
      "source": [
        "class Person:\n",
        "    name = 'jun'\n",
        "    def __init__(self, name):\n",
        "        def hello():\n",
        "            print('hello world')\n",
        "        hello()\n",
        "        self.name = name # 인스턴스 변수\n",
        "\n",
        "hojun = Person('hojun')\n",
        "hojun.name, Person.name"
      ],
      "metadata": {
        "colab": {
          "base_uri": "https://localhost:8080/"
        },
        "id": "WBTa3t7lW_SS",
        "outputId": "a88e446f-2493-4958-de35-61faf3fd9e1d"
      },
      "execution_count": null,
      "outputs": [
        {
          "output_type": "stream",
          "name": "stdout",
          "text": [
            "hello world\n"
          ]
        },
        {
          "output_type": "execute_result",
          "data": {
            "text/plain": [
              "('hojun', 'jun')"
            ]
          },
          "metadata": {},
          "execution_count": 73
        }
      ]
    },
    {
      "cell_type": "code",
      "source": [
        "class Car:\n",
        "    # 클래스 변수의 위치\n",
        "    max_speed = 300\n",
        "    max_people = 5\n",
        "    car_gear = ['P', 'D', 'R', 'N']\n",
        "\n",
        "modelx = Car()\n",
        "print(Car.max_speed)\n",
        "print(modelx.max_speed)"
      ],
      "metadata": {
        "colab": {
          "base_uri": "https://localhost:8080/"
        },
        "id": "DrSY_EvzfPkY",
        "outputId": "cd513e9c-c717-42db-af4c-769c5a2bcdba"
      },
      "execution_count": null,
      "outputs": [
        {
          "output_type": "stream",
          "name": "stdout",
          "text": [
            "300\n",
            "300\n"
          ]
        }
      ]
    },
    {
      "cell_type": "code",
      "source": [
        "class Car:\n",
        "    # 클래스 변수의 위치\n",
        "    max_speed = 300\n",
        "    max_people = 5\n",
        "    car_gear = ['P', 'D', 'R', 'N']\n",
        "\n",
        "modelx = Car()\n",
        "modely = Car()\n",
        "\n",
        "modely.max_speed = 500\n",
        "\n",
        "print(Car.max_speed)\n",
        "print(modelx.max_speed)\n",
        "print(modely.max_speed)"
      ],
      "metadata": {
        "colab": {
          "base_uri": "https://localhost:8080/"
        },
        "id": "R3B00VqWfqkt",
        "outputId": "adf7c51d-f658-4bfb-e729-037c9055f89c"
      },
      "execution_count": null,
      "outputs": [
        {
          "output_type": "stream",
          "name": "stdout",
          "text": [
            "300\n",
            "300\n",
            "500\n"
          ]
        }
      ]
    },
    {
      "cell_type": "code",
      "source": [
        "class Car:\n",
        "    kinds = []\n",
        "    speed = 300\n",
        "\n",
        "    def add_kinds(self, name):\n",
        "        self.kinds.append(name)\n",
        "\n",
        "    def change_speed(self, speed):\n",
        "        self.speed = speed\n",
        "\n",
        "modelx = Car()\n",
        "modely = Car()\n",
        "\n",
        "modelx.add_kinds('x')\n",
        "modely.add_kinds('y')\n",
        "\n",
        "# Car.speed = 100\n",
        "\n",
        "modelx.change_speed(500)\n",
        "modely.change_speed(250)\n",
        "\n",
        "print(f'modelx.kinds: {modelx.kinds}')\n",
        "print(f'modely.kinds: {modely.kinds}')\n",
        "print(f'modelx.speed: {modelx.speed}')\n",
        "print(f'modely.speed: {modely.speed}')\n",
        "\n",
        "Car.speed"
      ],
      "metadata": {
        "colab": {
          "base_uri": "https://localhost:8080/"
        },
        "id": "7kVVeIa9gXE6",
        "outputId": "0ba32628-0a83-4061-b90a-50bcc6164956"
      },
      "execution_count": null,
      "outputs": [
        {
          "output_type": "stream",
          "name": "stdout",
          "text": [
            "modelx.kinds: ['x', 'y']\n",
            "modely.kinds: ['x', 'y']\n",
            "modelx.speed: 500\n",
            "modely.speed: 250\n"
          ]
        },
        {
          "output_type": "execute_result",
          "data": {
            "text/plain": [
              "300"
            ]
          },
          "metadata": {},
          "execution_count": 8
        }
      ]
    },
    {
      "cell_type": "code",
      "source": [
        "speed = 300 # 전역변수 speed 300\n",
        "\n",
        "def change_speed(value):\n",
        "    speed = value # 지역변수 speed\n",
        "\n",
        "change_speed(100)\n",
        "speed"
      ],
      "metadata": {
        "colab": {
          "base_uri": "https://localhost:8080/"
        },
        "id": "hhLM2HWuk0sb",
        "outputId": "137bd820-5239-435d-88c8-89cb1a227511"
      },
      "execution_count": null,
      "outputs": [
        {
          "output_type": "execute_result",
          "data": {
            "text/plain": [
              "300"
            ]
          },
          "metadata": {},
          "execution_count": 9
        }
      ]
    },
    {
      "cell_type": "code",
      "source": [
        "kinds = []\n",
        "\n",
        "def add_kinds(value):\n",
        "    kinds.append(value)\n",
        "\n",
        "add_kinds(100)\n",
        "kinds"
      ],
      "metadata": {
        "colab": {
          "base_uri": "https://localhost:8080/"
        },
        "id": "ZRKuH9filK65",
        "outputId": "02797eef-fbcb-4325-aa27-5c00cdcda991"
      },
      "execution_count": null,
      "outputs": [
        {
          "output_type": "execute_result",
          "data": {
            "text/plain": [
              "[100]"
            ]
          },
          "metadata": {},
          "execution_count": 10
        }
      ]
    },
    {
      "cell_type": "code",
      "source": [
        "class Car:\n",
        "    max_speed = 300\n",
        "\n",
        "    def __init__(self, name):\n",
        "        self.name = name\n",
        "\n",
        "    def start(self):\n",
        "        print('차가 출발합니다!')\n",
        "\n",
        "modelx = Car('Tesla Model X')\n",
        "modelx.name"
      ],
      "metadata": {
        "colab": {
          "base_uri": "https://localhost:8080/",
          "height": 35
        },
        "id": "ayvSmTfbWdsZ",
        "outputId": "de4e4bbf-7a06-41ff-ccb1-b6cee7bc1bff"
      },
      "execution_count": null,
      "outputs": [
        {
          "output_type": "execute_result",
          "data": {
            "text/plain": [
              "'Tesla Model X'"
            ],
            "application/vnd.google.colaboratory.intrinsic+json": {
              "type": "string"
            }
          },
          "metadata": {},
          "execution_count": 74
        }
      ]
    },
    {
      "cell_type": "code",
      "source": [
        "class Car:\n",
        "    max_speed = 300\n",
        "\n",
        "    def __init__(self, name): # self는 자신만의 영역\n",
        "        self.name = name\n",
        "\n",
        "    def start(self, speed): # self는 자신만의 영역\n",
        "        self.speed = speed\n",
        "        return f'{self.name}차가 {self.speed}의 속력으로 움직이고 있습니다.'\n",
        "\n",
        "modelx = Car('Tesla Model X')\n",
        "print(modelx.name)\n",
        "print(modelx.start(100))"
      ],
      "metadata": {
        "colab": {
          "base_uri": "https://localhost:8080/"
        },
        "id": "NKZGstv4tiY8",
        "outputId": "a2e87f59-7f82-46ba-ed07-ad3e59ee7842"
      },
      "execution_count": null,
      "outputs": [
        {
          "output_type": "stream",
          "name": "stdout",
          "text": [
            "Tesla Model X\n",
            "Tesla Model X차가 100의 속력으로 움직이고 있습니다.\n"
          ]
        }
      ]
    },
    {
      "cell_type": "code",
      "source": [
        "class Car:\n",
        "    max_speed = 300\n",
        "\n",
        "    def __init__(self, name): # self는 자신만의 영역\n",
        "        self.name = name\n",
        "\n",
        "    def start(self, speed): # self는 자신만의 영역\n",
        "        self.speed = speed\n",
        "        return f'{self.name}차가 {self.speed}의 속력으로 움직이고 있습니다.'\n",
        "\n",
        "modelx = Car('Tesla Model X')\n",
        "modelx.name = 'ModelY'\n",
        "modelx.welcome = 'hello world'\n",
        "print(modelx.name, modelx.welcome)"
      ],
      "metadata": {
        "colab": {
          "base_uri": "https://localhost:8080/"
        },
        "id": "gj1pB6Onuayg",
        "outputId": "1ef824e8-3ad1-42ee-d2ba-1901b487ea1f"
      },
      "execution_count": null,
      "outputs": [
        {
          "output_type": "stream",
          "name": "stdout",
          "text": [
            "ModelY hello world\n"
          ]
        }
      ]
    },
    {
      "cell_type": "code",
      "source": [
        "modelx.hello = 'hello world'"
      ],
      "metadata": {
        "id": "eVdItRRWXVRh"
      },
      "execution_count": null,
      "outputs": []
    },
    {
      "cell_type": "code",
      "source": [
        "modelx.hello"
      ],
      "metadata": {
        "colab": {
          "base_uri": "https://localhost:8080/",
          "height": 35
        },
        "id": "cMKfvolgXY-z",
        "outputId": "83299368-35c9-4fb3-cb34-6ccd149f4dff"
      },
      "execution_count": null,
      "outputs": [
        {
          "output_type": "execute_result",
          "data": {
            "text/plain": [
              "'hello world'"
            ],
            "application/vnd.google.colaboratory.intrinsic+json": {
              "type": "string"
            }
          },
          "metadata": {},
          "execution_count": 76
        }
      ]
    },
    {
      "cell_type": "code",
      "source": [
        "def hello():\n",
        "    print('hello world')\n",
        "\n",
        "print(type(hello))"
      ],
      "metadata": {
        "colab": {
          "base_uri": "https://localhost:8080/"
        },
        "id": "KAcHLiOgXhEl",
        "outputId": "9a40671c-e723-4399-fd19-b4e5c7a266a1"
      },
      "execution_count": null,
      "outputs": [
        {
          "output_type": "stream",
          "name": "stdout",
          "text": [
            "<class 'function'>\n"
          ]
        }
      ]
    },
    {
      "cell_type": "code",
      "source": [
        "hello.hi = 'hi, world'"
      ],
      "metadata": {
        "id": "BCw4G2o9XuHz"
      },
      "execution_count": null,
      "outputs": []
    },
    {
      "cell_type": "code",
      "source": [
        "hello.hi"
      ],
      "metadata": {
        "colab": {
          "base_uri": "https://localhost:8080/",
          "height": 35
        },
        "id": "t_dfU1MnXxXb",
        "outputId": "7a25e767-0a46-400c-819d-5ac15edccca0"
      },
      "execution_count": null,
      "outputs": [
        {
          "output_type": "execute_result",
          "data": {
            "text/plain": [
              "'hi, world'"
            ],
            "application/vnd.google.colaboratory.intrinsic+json": {
              "type": "string"
            }
          },
          "metadata": {},
          "execution_count": 80
        }
      ]
    },
    {
      "cell_type": "code",
      "source": [
        "# 인스턴스 변수 선언을 허락하고 있지 않습니다!\n",
        "s = 10\n",
        "s.hi = 'hi, world'\n",
        "s.hi"
      ],
      "metadata": {
        "id": "fHybPuWBX231"
      },
      "execution_count": null,
      "outputs": []
    },
    {
      "cell_type": "code",
      "source": [
        "s = 'hello'\n",
        "s.hi = 'hi, world'\n",
        "s.hi"
      ],
      "metadata": {
        "id": "K8V_FIT3X8e8",
        "colab": {
          "base_uri": "https://localhost:8080/",
          "height": 213
        },
        "outputId": "2c7efb3d-5c6e-4fa5-ee4c-ffe6950a7773"
      },
      "execution_count": null,
      "outputs": [
        {
          "output_type": "error",
          "ename": "AttributeError",
          "evalue": "ignored",
          "traceback": [
            "\u001b[0;31m---------------------------------------------------------------------------\u001b[0m",
            "\u001b[0;31mAttributeError\u001b[0m                            Traceback (most recent call last)",
            "\u001b[0;32m<ipython-input-18-a90b2494dbf3>\u001b[0m in \u001b[0;36m<cell line: 2>\u001b[0;34m()\u001b[0m\n\u001b[1;32m      1\u001b[0m \u001b[0ms\u001b[0m \u001b[0;34m=\u001b[0m \u001b[0;34m'hello'\u001b[0m\u001b[0;34m\u001b[0m\u001b[0;34m\u001b[0m\u001b[0m\n\u001b[0;32m----> 2\u001b[0;31m \u001b[0ms\u001b[0m\u001b[0;34m.\u001b[0m\u001b[0mhi\u001b[0m \u001b[0;34m=\u001b[0m \u001b[0;34m'hi, world'\u001b[0m\u001b[0;34m\u001b[0m\u001b[0;34m\u001b[0m\u001b[0m\n\u001b[0m\u001b[1;32m      3\u001b[0m \u001b[0ms\u001b[0m\u001b[0;34m.\u001b[0m\u001b[0mhi\u001b[0m\u001b[0;34m\u001b[0m\u001b[0;34m\u001b[0m\u001b[0m\n",
            "\u001b[0;31mAttributeError\u001b[0m: 'str' object has no attribute 'hi'"
          ]
        }
      ]
    },
    {
      "cell_type": "code",
      "source": [
        "s = [10, 20, 30]\n",
        "s.hi = 'hi, world'\n",
        "s.hi"
      ],
      "metadata": {
        "id": "PWgpXluAX-i0"
      },
      "execution_count": null,
      "outputs": []
    },
    {
      "cell_type": "code",
      "source": [
        "s = {'one':1}\n",
        "s.hi = 'hi, world'\n",
        "s.hi"
      ],
      "metadata": {
        "id": "dRA2f19FYCnI"
      },
      "execution_count": null,
      "outputs": []
    },
    {
      "cell_type": "code",
      "source": [
        "hero = {\n",
        "    'name': 'Jun',\n",
        "    'hp': 100,\n",
        "    'mp': 100,\n",
        "    'power': 30,\n",
        "    'drop_rate': 0,\n",
        "    'attack': lambda: f'{hero[\"power\"]}에 파워로 공격하였습니다.',\n",
        "}\n",
        "\n",
        "print(hero['hp'])\n",
        "print(hero['attack']())  # 출력: 30에 파워로 공격하였습니다."
      ],
      "metadata": {
        "colab": {
          "base_uri": "https://localhost:8080/"
        },
        "id": "mWoj6QMrPWnB",
        "outputId": "d549f440-a631-466e-c611-e095b8131a7b"
      },
      "execution_count": null,
      "outputs": [
        {
          "output_type": "stream",
          "name": "stdout",
          "text": [
            "100\n",
            "30에 파워로 공격하였습니다.\n"
          ]
        }
      ]
    },
    {
      "cell_type": "code",
      "source": [
        "def create_chracter(name, hp, mp, power):\n",
        "    data = {\n",
        "        'name': name,\n",
        "        'hp': hp,\n",
        "        'mp': mp,\n",
        "        'power': power,\n",
        "    }\n",
        "\n",
        "    def get_data(key):\n",
        "        return data[key]\n",
        "\n",
        "    def attack():\n",
        "        return f'{get_data(\"power\")}에 파워로 공격하였습니다.'\n",
        "\n",
        "    return {'attack': attack}\n",
        "\n",
        "hero = create_chracter('Jun', 100, 100, 30)\n",
        "print(hero['attack']())  # 출력: 30에 파워로 공격하였습니다.\n"
      ],
      "metadata": {
        "colab": {
          "base_uri": "https://localhost:8080/"
        },
        "id": "zYVqugExQRx0",
        "outputId": "260f242e-be44-4c83-92af-8d4b7488a54d"
      },
      "execution_count": null,
      "outputs": [
        {
          "output_type": "stream",
          "name": "stdout",
          "text": [
            "30에 파워로 공격하였습니다.\n"
          ]
        }
      ]
    },
    {
      "cell_type": "code",
      "source": [
        "# 저라면 Car에서는 __add__를 구현하지 않았을 겁니다.\n",
        "class Car:\n",
        "    max_speed = 300\n",
        "\n",
        "    def __init__(self, name):\n",
        "        self.name = name\n",
        "\n",
        "    def start(self):\n",
        "        print('차가 출발합니다!')\n",
        "\n",
        "modelx = Car('Tesla Model X')\n",
        "modelx.name"
      ],
      "metadata": {
        "id": "U2OcUHJ6Y8Ou"
      },
      "execution_count": null,
      "outputs": []
    },
    {
      "cell_type": "code",
      "source": [
        "# 저라면 Car에서는 __add__를 구현하지 않았을 겁니다.\n",
        "class Coordinate:\n",
        "\n",
        "    def __init__(self, x, y):\n",
        "        self.x = x\n",
        "        self.y = y\n",
        "\n",
        "    def __add__(self, other):\n",
        "        return [(self.x + other.x), (self.y + other.y)]\n",
        "\n",
        "dot1 = Coordinate(10, 20)\n",
        "dot2 = Coordinate(20, 30)\n",
        "\n",
        "dot1 + dot2"
      ],
      "metadata": {
        "colab": {
          "base_uri": "https://localhost:8080/"
        },
        "id": "-DPAlHaQZFi2",
        "outputId": "d2b44741-0a04-4e24-bc3a-d5d6fef85cad"
      },
      "execution_count": null,
      "outputs": [
        {
          "output_type": "execute_result",
          "data": {
            "text/plain": [
              "[30, 50]"
            ]
          },
          "metadata": {},
          "execution_count": 87
        }
      ]
    },
    {
      "cell_type": "code",
      "source": [
        "# 저라면 Car에서는 __add__를 구현하지 않았을 겁니다.\n",
        "class Point:\n",
        "\n",
        "    def __init__(self, x, y):\n",
        "        self.x = x\n",
        "        self.y = y\n",
        "\n",
        "    def __add__(self, other):\n",
        "        if isinstance(other, Point):\n",
        "            return Point((self.x + other.x), (self.y + other.y))\n",
        "        elif isinstance(other, int) or isinstance(other, float):\n",
        "            return Point((self.x + other), (self.y + other))\n",
        "\n",
        "    def distance(self, other):\n",
        "        dx = self.x - other.x\n",
        "        dy = self.y - other.y\n",
        "        return (dx**2 + dy**2)**0.5\n",
        "\n",
        "dot1 = Point(10, 20)\n",
        "dot2 = Point(20, 30)\n",
        "\n",
        "dot3 = dot1 + 10\n",
        "print(dot1.x, dot1.y)\n",
        "print(dot3.x, dot3.y)\n",
        "\n",
        "dot4 = dot1 + dot2\n",
        "print(dot4.x, dot4.y)\n",
        "print(dot4.distance(dot1))"
      ],
      "metadata": {
        "colab": {
          "base_uri": "https://localhost:8080/"
        },
        "id": "PB9ZxCyJaFg4",
        "outputId": "9a78c27c-a15f-4536-95ea-f2334695b596"
      },
      "execution_count": null,
      "outputs": [
        {
          "output_type": "stream",
          "name": "stdout",
          "text": [
            "10 20\n",
            "20 30\n",
            "30 50\n",
            "36.05551275463989\n"
          ]
        }
      ]
    },
    {
      "cell_type": "code",
      "source": [
        "class Point:\n",
        "\n",
        "    def __init__(self, x, y):\n",
        "        self.x = x\n",
        "        self.y = y\n",
        "\n",
        "    def __mul__(self, other):\n",
        "        return 'hello'\n",
        "\n",
        "dot1 = Point(10, 20)\n",
        "dot2 = Point(20, 30)\n",
        "\n",
        "dot1 * dot2"
      ],
      "metadata": {
        "colab": {
          "base_uri": "https://localhost:8080/",
          "height": 35
        },
        "id": "5DMHyPWGWAW1",
        "outputId": "828982d5-23a6-4a01-a18f-7ebe3f7f003b"
      },
      "execution_count": null,
      "outputs": [
        {
          "output_type": "execute_result",
          "data": {
            "text/plain": [
              "'hello'"
            ],
            "application/vnd.google.colaboratory.intrinsic+json": {
              "type": "string"
            }
          },
          "metadata": {},
          "execution_count": 14
        }
      ]
    },
    {
      "cell_type": "code",
      "source": [
        "class Matrix:\n",
        "\n",
        "    def __init__(self, value):\n",
        "        self.value = value\n",
        "\n",
        "    def __add__(self, other):\n",
        "        result = []\n",
        "        for i in range(len(self.value)):\n",
        "            result.append(self.value[i] + other.value[i])\n",
        "        return result\n",
        "\n",
        "m1 = Matrix([10, 20, 30])\n",
        "m2 = Matrix([20, 30, 40])\n",
        "\n",
        "m1 + m2"
      ],
      "metadata": {
        "colab": {
          "base_uri": "https://localhost:8080/"
        },
        "id": "kv04VkLiZjcx",
        "outputId": "ffa28b1c-bf82-4283-e24d-1c4cc24ee75d"
      },
      "execution_count": null,
      "outputs": [
        {
          "output_type": "execute_result",
          "data": {
            "text/plain": [
              "[30, 50, 70]"
            ]
          },
          "metadata": {},
          "execution_count": 96
        }
      ]
    },
    {
      "cell_type": "code",
      "source": [
        "class Matrix:\n",
        "\n",
        "    def __init__(self, value):\n",
        "        self.value = value\n",
        "\n",
        "    def __add__(self, other):\n",
        "        result = []\n",
        "        for i in range(len(self.value)):\n",
        "            result.append(self.value[i] + other.value[i])\n",
        "        return result\n",
        "\n",
        "    def __mul__(self, other):\n",
        "        if isinstance(other, int):\n",
        "            return [i*other for i in self.value]\n",
        "        raise TypeError('int형 외에 곱을 허락하지 않습니다!')\n",
        "\n",
        "\n",
        "m1 = Matrix([10, 20, 30])\n",
        "m2 = Matrix([20, 30, 40])\n",
        "\n",
        "print(m1 + m2)\n",
        "print(m1 * 3)\n",
        "# print(m1 * [1, 2, 3])"
      ],
      "metadata": {
        "colab": {
          "base_uri": "https://localhost:8080/"
        },
        "id": "Jbzewylab_-7",
        "outputId": "835c226d-7bef-4f05-9983-6264c617ea3d"
      },
      "execution_count": null,
      "outputs": [
        {
          "output_type": "stream",
          "name": "stdout",
          "text": [
            "[30, 50, 70]\n",
            "[30, 60, 90]\n"
          ]
        }
      ]
    },
    {
      "cell_type": "code",
      "source": [
        "[1, 2, 3] * [1, 2, 3]"
      ],
      "metadata": {
        "colab": {
          "base_uri": "https://localhost:8080/",
          "height": 181
        },
        "id": "bLkQkohigJUf",
        "outputId": "38b4bd82-bc20-41af-967a-4ffd68228f2b"
      },
      "execution_count": null,
      "outputs": [
        {
          "output_type": "error",
          "ename": "TypeError",
          "evalue": "ignored",
          "traceback": [
            "\u001b[0;31m---------------------------------------------------------------------------\u001b[0m",
            "\u001b[0;31mTypeError\u001b[0m                                 Traceback (most recent call last)",
            "\u001b[0;32m<ipython-input-98-4fc0609f657e>\u001b[0m in \u001b[0;36m<cell line: 1>\u001b[0;34m()\u001b[0m\n\u001b[0;32m----> 1\u001b[0;31m \u001b[0;34m[\u001b[0m\u001b[0;36m1\u001b[0m\u001b[0;34m,\u001b[0m \u001b[0;36m2\u001b[0m\u001b[0;34m,\u001b[0m \u001b[0;36m3\u001b[0m\u001b[0;34m]\u001b[0m \u001b[0;34m*\u001b[0m \u001b[0;34m[\u001b[0m\u001b[0;36m1\u001b[0m\u001b[0;34m,\u001b[0m \u001b[0;36m2\u001b[0m\u001b[0;34m,\u001b[0m \u001b[0;36m3\u001b[0m\u001b[0;34m]\u001b[0m\u001b[0;34m\u001b[0m\u001b[0;34m\u001b[0m\u001b[0m\n\u001b[0m",
            "\u001b[0;31mTypeError\u001b[0m: can't multiply sequence by non-int of type 'list'"
          ]
        }
      ]
    },
    {
      "cell_type": "code",
      "source": [
        "# 단순화 시키긴 했으나 실제 아래와 같이 만듭니다.\n",
        "class 게시물설계도:\n",
        "    _id = int()\n",
        "    title = str()\n",
        "    contents = str()\n",
        "    author = str()\n",
        "    create_time = str()\n",
        "    update_time = str()\n",
        "    view_count = int()\n",
        "    last_connect_location = str()\n",
        "    last_connect_time = str()\n",
        "\n",
        "게시물1 = 게시물설계도()\n",
        "게시물2 = 게시물설계도()"
      ],
      "metadata": {
        "id": "l7J-mwQ8cMiT"
      },
      "execution_count": null,
      "outputs": []
    },
    {
      "cell_type": "code",
      "source": [
        "# 아래 기본 data를 기반으로 문제를 풀어주세요.\n",
        "data = [\n",
        "  {\n",
        "    \"_id\": \"fd7e9a0f-e77b-436a-B781-119b66033d49\",\n",
        "    \"index\": \"1\",\n",
        "    \"name\": \"나주헌\",\n",
        "    \"gender\": \"여성\",\n",
        "    \"age\": \"43\"\n",
        "  },\n",
        "  {\n",
        "    \"_id\": \"8ec6eabb-160a-41e4-A3de-cd33aff0b281\",\n",
        "    \"index\": \"2\",\n",
        "    \"name\": \"엄루다\",\n",
        "    \"gender\": \"남성\",\n",
        "    \"age\": \"22\"\n",
        "  },\n",
        "  {\n",
        "    \"_id\": \"bcf804f7-0452-4c31-B9d1-20cc2d38490b\",\n",
        "    \"index\": \"3\",\n",
        "    \"name\": \"형유환\",\n",
        "    \"gender\": \"남성\",\n",
        "    \"age\": \"31\"\n",
        "  }\n",
        "]\n",
        "# 문제 1 gender, age값을 추출해보세요. 아래 양식처럼 추출하시면 됩니다. 가능하면 map을 사용해주세요.\n",
        "'''\n",
        " [\n",
        "  {\n",
        "    \"gender\": \"여성\",\n",
        "    \"age\": \"43\"\n",
        "  },\n",
        "  {\n",
        "    \"gender\": \"남성\",\n",
        "    \"age\": \"22\"\n",
        "  },\n",
        "  {\n",
        "    \"gender\": \"남성\",\n",
        "    \"age\": \"31\"\n",
        "  }\n",
        "]\n",
        "'''\n",
        "\n",
        "# 문제 2 User라는 class를 만들어 해당 데이터를 관리해주세요. 아래처럼 저장되어야 합니다.\n",
        "# 다만 꼭 변수 이름이 user_1...user_n 일 필요는 없습니다.\n",
        "# 저장양식: '[user_1, user_2, user_3]'\n",
        "\n",
        "# 문제 3 BankAccount 클래스를 생성하세요. 이 클래스는 owner(계좌주 이름), balance(잔액) 속성을 가져야 합니다.\n",
        "# 이 클래스는 deposit(amount) (입금) 및 withdraw(amount) (출금) 메서드를 가져야 합니다.\n",
        "# 단, 출금 시 잔액보다 큰 금액을 출금하려고 하면 \"잔액 부족\" 메시지를 출력해야 합니다.\n"
      ],
      "metadata": {
        "id": "AbDJYrRGc8Tx"
      },
      "execution_count": null,
      "outputs": []
    },
    {
      "cell_type": "code",
      "source": [
        "data = [\n",
        "  {\n",
        "    \"_id\": \"fd7e9a0f-e77b-436a-B781-119b66033d49\",\n",
        "    \"index\": \"1\",\n",
        "    \"name\": \"나주헌\",\n",
        "    \"gender\": \"여성\",\n",
        "    \"age\": \"43\"\n",
        "  },\n",
        "  {\n",
        "    \"_id\": \"8ec6eabb-160a-41e4-A3de-cd33aff0b281\",\n",
        "    \"index\": \"2\",\n",
        "    \"name\": \"엄루다\",\n",
        "    \"gender\": \"남성\",\n",
        "    \"age\": \"22\"\n",
        "  },\n",
        "  {\n",
        "    \"_id\": \"bcf804f7-0452-4c31-B9d1-20cc2d38490b\",\n",
        "    \"index\": \"3\",\n",
        "    \"name\": \"형유환\",\n",
        "    \"gender\": \"남성\",\n",
        "    \"age\": \"31\"\n",
        "  }\n",
        "]"
      ],
      "metadata": {
        "id": "J91bO51U35El"
      },
      "execution_count": null,
      "outputs": []
    },
    {
      "cell_type": "code",
      "source": [
        "list(map(lambda x: {\"gender\": x[\"gender\"], \"age\": x[\"age\"]}, data))\n",
        "# list(map(lambda x: [x[\"gender\"], x[\"age\"]], data))"
      ],
      "metadata": {
        "colab": {
          "base_uri": "https://localhost:8080/"
        },
        "id": "FToKd4TE33q7",
        "outputId": "c95be306-48f7-4f69-bfbc-df989e398db1"
      },
      "execution_count": null,
      "outputs": [
        {
          "output_type": "execute_result",
          "data": {
            "text/plain": [
              "[{'gender': '여성', 'age': '43'},\n",
              " {'gender': '남성', 'age': '22'},\n",
              " {'gender': '남성', 'age': '31'}]"
            ]
          },
          "metadata": {},
          "execution_count": 110
        }
      ]
    },
    {
      "cell_type": "code",
      "source": [
        "# 우리 수업에서 Django에서 사용되고\n",
        "# 곧 나올 크롤링 같은 곳에서도 많이 사용됩니다.\n",
        "# 1. 속도: 기본자료형보다 훨신 빠릅니다.\n",
        "# 2. 메서드 구현: User클래스를 가지고 20 ~ 30, 30 ~ 40, 40 ~ 50별 타겟팅 광고\n",
        "\n",
        "class User:\n",
        "    def __init__(self, data):\n",
        "        self._id = data['_id']\n",
        "        self.index = data['index']\n",
        "        self.name = data['name']\n",
        "        self.gender = data['gender']\n",
        "        self.age = data['age']\n",
        "\n",
        "user_1 = User(data[0])\n",
        "user_2 = User(data[1])\n",
        "user_3 = User(data[2])\n",
        "\n",
        "user_list = [user_1, user_2, user_3]\n",
        "user_list[0].name\n",
        "for i in user_list:\n",
        "    print(i.name)"
      ],
      "metadata": {
        "colab": {
          "base_uri": "https://localhost:8080/"
        },
        "id": "AmWUPX-p3_f_",
        "outputId": "a3a5e823-0845-401e-811c-2f91fe31cc04"
      },
      "execution_count": null,
      "outputs": [
        {
          "output_type": "stream",
          "name": "stdout",
          "text": [
            "나주헌\n",
            "엄루다\n",
            "형유환\n"
          ]
        }
      ]
    },
    {
      "cell_type": "code",
      "source": [
        "class User:\n",
        "    def __init__(self, _id, index, name, gender, age):\n",
        "        self._id = _id\n",
        "        self.index = index\n",
        "        self.name = name\n",
        "        self.gender = gender\n",
        "        self.age = age\n",
        "\n",
        "    def __repr__(self):\n",
        "        return f'user_{self.index}'\n",
        "\n",
        "users = [User(**x) for x in data]\n",
        "print(users)\n",
        "users[0].name"
      ],
      "metadata": {
        "colab": {
          "base_uri": "https://localhost:8080/",
          "height": 53
        },
        "id": "AJ5cfD61zjsR",
        "outputId": "d40bc2e9-003c-4af8-b8ec-59cd5e2c54e8"
      },
      "execution_count": null,
      "outputs": [
        {
          "output_type": "stream",
          "name": "stdout",
          "text": [
            "[user_1, user_2, user_3]\n"
          ]
        },
        {
          "output_type": "execute_result",
          "data": {
            "text/plain": [
              "'나주헌'"
            ],
            "application/vnd.google.colaboratory.intrinsic+json": {
              "type": "string"
            }
          },
          "metadata": {},
          "execution_count": 104
        }
      ]
    },
    {
      "cell_type": "code",
      "source": [
        "from dataclasses import dataclass\n",
        "\n",
        "@dataclass\n",
        "class User:\n",
        "    _id: str\n",
        "    index: str\n",
        "    name: str\n",
        "    gender: str\n",
        "    age: str\n",
        "\n",
        "users = [User(**x) for x in data]"
      ],
      "metadata": {
        "id": "hNJLgiJM6yax"
      },
      "execution_count": null,
      "outputs": []
    },
    {
      "cell_type": "code",
      "source": [
        "class BankAccount:\n",
        "    def __init__(self, owner, balance=0):\n",
        "        self.owner = owner\n",
        "        self.balance = balance\n",
        "\n",
        "    def deposit(self, amount):\n",
        "        self.balance += amount\n",
        "        return self.balance\n",
        "\n",
        "    def withdraw(self, amount):\n",
        "        if amount > self.balance:\n",
        "            print(\"잔액 부족\")\n",
        "        else:\n",
        "            self.balance -= amount\n",
        "            return self.balance"
      ],
      "metadata": {
        "id": "FckYCxqS4K7z"
      },
      "execution_count": null,
      "outputs": []
    },
    {
      "cell_type": "code",
      "source": [
        "import jun as j\n",
        "# from jun import name\n",
        "\n",
        "j.name"
      ],
      "metadata": {
        "colab": {
          "base_uri": "https://localhost:8080/",
          "height": 35
        },
        "id": "mtrk960UCRW_",
        "outputId": "8255e4b2-d1b5-4319-a862-5091032ea0ae"
      },
      "execution_count": null,
      "outputs": [
        {
          "output_type": "execute_result",
          "data": {
            "text/plain": [
              "'licat'"
            ],
            "application/vnd.google.colaboratory.intrinsic+json": {
              "type": "string"
            }
          },
          "metadata": {},
          "execution_count": 16
        }
      ]
    },
    {
      "cell_type": "code",
      "source": [],
      "metadata": {
        "id": "cYfDRJD2Cufu"
      },
      "execution_count": null,
      "outputs": []
    }
  ]
}