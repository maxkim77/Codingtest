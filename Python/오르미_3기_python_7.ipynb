{
  "cells": [
    {
      "cell_type": "markdown",
      "metadata": {
        "id": "view-in-github",
        "colab_type": "text"
      },
      "source": [
        "<a href=\"https://colab.research.google.com/github/maxkim77/Codingtest/blob/main/Python/%EC%98%A4%EB%A5%B4%EB%AF%B8_3%EA%B8%B0_python_7.ipynb\" target=\"_parent\"><img src=\"https://colab.research.google.com/assets/colab-badge.svg\" alt=\"Open In Colab\"/></a>"
      ]
    },
    {
      "cell_type": "markdown",
      "metadata": {
        "id": "uOXfTuTZP-Ei"
      },
      "source": [
        "# 일반 문자열"
      ]
    },
    {
      "cell_type": "code",
      "execution_count": null,
      "metadata": {
        "id": "JkbJ7surOg4c"
      },
      "outputs": [],
      "source": [
        "# 대소문자를 가립니다.\n",
        "# ^hello는 처음에 나오는 hello 입니다.\n",
        "# hello^는 마지막에 나오는 hello는 아닙니다.\n",
        "# hello$는 마지막에 나오는 hello 입니다.\n",
        "# h.llo는 h 다음에 어떤 문자든 1개의 문자(영문, 특수문자, 숫자, 한글 등)가 오며 llow가 이어 나와야 합니다."
      ]
    },
    {
      "cell_type": "markdown",
      "metadata": {
        "id": "7-PO3p2JSudq"
      },
      "source": [
        "# 대괄호(택1)"
      ]
    },
    {
      "cell_type": "code",
      "execution_count": null,
      "metadata": {
        "id": "XG4p4K2zSxU1"
      },
      "outputs": [],
      "source": [
        "# h[eao]llo는 hello, hallo, hollo를 선택합니다. 3개 문자중 택1입니다.\n",
        "# h[e!ao]llo는 hello, hallo, hollo, h!llo를 선택합니다. 3개 문자중 택1입니다.\n",
        "# [a-z]\n",
        "# [a-zA-Z]\n",
        "# [0-9]\n",
        "# [a-zA-Z0-9]\n",
        "# [가-힣]\n",
        "# h1el222lo3wo123rl2d # [0-9]라고\n",
        "# ^[a-z] : 부정이 아닙니다. 알파벳으로 시작하는 문자열입니다.\n",
        "# [^a-z] : 대괄호 안에 들어가면 부정입니다!\n",
        "# h[^ao]llo : a, o 모두 하나씩 아닌것\n",
        "# h[a^o]llo : a, ^, o 모두 하나씩 잡습니다. ^는 대괄호 열기 바로 다음에 나오게 해주세요."
      ]
    },
    {
      "cell_type": "markdown",
      "metadata": {
        "id": "EkqF9cFNZy_I"
      },
      "source": [
        "# 수량자"
      ]
    },
    {
      "cell_type": "code",
      "execution_count": null,
      "metadata": {
        "id": "Un5VsqygZ0WZ"
      },
      "outputs": [],
      "source": [
        "# _* : 앞에 있는 문자가 0개 ~ N개\n",
        "# _+ : 앞에 있는 문자가 1개 ~ N개\n",
        "# _? : 앞에 있는 문자가 0개 ~ 1개\n",
        "\n",
        "# {3} : 3개\n",
        "# {3,} : 3개 이상\n",
        "# {1,3} : 1개 ~ 3개\n",
        "\n",
        "# _* : 앞에 있는 문자가 0개 ~ N개 ({0,})\n",
        "# _+ : 앞에 있는 문자가 1개 ~ N개({1,})\n",
        "# _? : 앞에 있는 문자가 0개 ~ 1개 ({0,1})"
      ]
    },
    {
      "cell_type": "code",
      "execution_count": null,
      "metadata": {
        "id": "9uCk9zIAafV5"
      },
      "outputs": [],
      "source": [
        "# 이런 정규표현식은 여러분이 직접 만들지 마세요.\n",
        "# 인터넷 검색하면 나옵니다. email, 한국 전화번호 등이요.\n",
        "# why? 정규표현식에서 실수가 생겨 서비스에 CS가 들어온다던지\n",
        "# 크리티컬한 문제가 생긴다던지 하는 경우가 많습니다.\n",
        "# 읽을 줄은 알아야 합니다. 여러 패턴을 조합하거나, 비교는 해봐야 하니까요.\n",
        "# [0-9][0-9][0-9]-[0-9][0-9][0-9][0-9]-[0-9][0-9][0-9][0-9]\n",
        "# 0[0-9]+[-. ]?[0-9]{3,4}[-. ]?[0-9]{3,4}"
      ]
    },
    {
      "cell_type": "code",
      "execution_count": null,
      "metadata": {
        "id": "zXmP1AIYdG6V"
      },
      "outputs": [],
      "source": [
        "# group1, group2\n",
        "# group1 => key\n",
        "# group2 => value\n",
        "# ([a-zA-Z0-9@\\.\\-]+), ?([a-zA-Z0-9@\\.\\-]+)\n",
        "# '[(name, leehojun), (age, 10), (height, 180), (email, paul-lab@naver.com)]'"
      ]
    },
    {
      "cell_type": "markdown",
      "metadata": {
        "id": "p6bNp6uWcIdz"
      },
      "source": [
        "# 캐릭터 클래스"
      ]
    },
    {
      "cell_type": "code",
      "execution_count": null,
      "metadata": {
        "id": "S_ynbvYrcJyc"
      },
      "outputs": [],
      "source": [
        "# /\\w/gm : 워드(한글이 잡히지 않습니다!)\n",
        "# /\\w{5} /gm : 5개의 글자와 스페이스 하나\n",
        "# /\\W/gm : not 워드\n",
        "# /\\d/gm : 숫자\n",
        "# /\\D/gm : not 숫자\n",
        "# /\\s/gm : 스페이스\n",
        "# /\\S/gm : not 스페이스\n",
        "\n",
        "# 문제: 전화번호 정규표현식을 만들어주세요.\n",
        "# \\d{3}\\W?\\d{4}\\W?\\d{4}\n",
        "# 0[\\d]{1,2}[\\-\\. ]?[\\d]{3,4}[\\-\\. ]?[\\d]{3,4}"
      ]
    },
    {
      "cell_type": "markdown",
      "metadata": {
        "id": "srRbMYv-1WBs"
      },
      "source": [
        "## 정규표현식\n",
        "* https://paullabworkspace.notion.site/1c57fc683c33468d95e7a490b6f66c95?pvs=4 (https://regexr.com/5nvc2)\n",
        "* Anchors (처음과 끝)\n",
        "    ```\n",
        "    /^hello/gm : 처음에 hello\n",
        "    /hello$/gm : 끝에 hello\n",
        "    ```\n",
        "\n",
        "* dot (모든 문자)\n",
        "    ```\n",
        "    /.ello/gm : hello, Hello, vello\n",
        "    /./gm : 모든 문자열(*과 같은 역할)\n",
        "    /....../gm : 모든 6개의 문자열\n",
        "    ```\n",
        "\n",
        "* 대괄호 (택1)\n",
        "    ```\n",
        "    /h[eay]llo/gm : 대괄호 안에 문자는 문자 1개에 해당!\n",
        "    /h[ea]l../gm : 총 5개의 문자\n",
        "    ```\n",
        "\n",
        "* 대쉬 (범위)\n",
        "    ```\n",
        "    /h[a-f]llo/gm\n",
        "    /[a-zA-Z0-9]/gm : 모든 알파뱃과 숫자를 찾음\n",
        "    /[^a-zA-Z0-9]/gm : 나머지 문자열을 찾음\n",
        "    ```\n",
        "\n",
        "* 캐럿(caret) (대괄호 안에 들어가면 부정)\n",
        "    * 아래 경우 a와 e가 모두 부정\n",
        "        ```\n",
        "        /h[^ae]llo/gm : 대괄호 안에 있다면 not에 의미\n",
        "        ```\n",
        "\n",
        "* 소괄호 (서브패턴, 그룹)\n",
        "    * 패턴으로 외우시는 것보다 다양한 예제로 습득하시기를 권해드립니다.\n",
        "    ```\n",
        "    /(on|ues|rida)/gm : 그룹 1로 3개 중 매칭되는 패턴 찾음\n",
        "    ```\n",
        "\n",
        "* 수량자\n",
        "    ```\n",
        "    _* : 앞에 있는 문자가 0개 ~ N개\n",
        "    _+ : 앞에 있는 문자가 1개 ~ N개\n",
        "    _? : 앞에 있는 문자가 0개 ~ 1개\n",
        "\n",
        "    {3} : 3개\n",
        "    {3,} : 3개 이상\n",
        "    {1,3} : 1개 ~ 3개\n",
        "\n",
        "    _* : 앞에 있는 문자가 0개 ~ N개 ({0,})\n",
        "    _+ : 앞에 있는 문자가 1개 ~ N개({1,})\n",
        "    _? : 앞에 있는 문자가 0개 ~ 1개 ({0,1})\n",
        "\n",
        "    /[0-9]{3}[-.* ][0-9]{4}[-.* ][0-9]{4}/gm\n",
        "    /[0-9a-zA-Z]{2,3}[-.* ][0-9]{3,4}[-.* ][0-9]{4}/gm\n",
        "    /[0-9a-zA-Z]+@[0-9a-zA-Z]+.[a-zA-Z]+/gm\n",
        "    ```\n",
        "\n",
        "* 캐릭터 클래스\n",
        "    ```\n",
        "    /\\w/gm : 워드\n",
        "    /\\w{5} /gm : 5개의 글자와 스페이스 하나\n",
        "    /\\W/gm : not 워드\n",
        "    /\\d/gm : 숫자\n",
        "    /\\D/gm : not 숫자\n",
        "    /\\s/gm : 스페이스\n",
        "    /\\S/gm : not 스페이스\n",
        "    ```\n",
        "\n",
        "* 이스케이프문자\n",
        "    ```\n",
        "    /\\[.*]/gm : 대괄호([]) 안에 감싸여진 문자열\n",
        "    /\\(.*\\)/gm : 소괄호 안에 감싸여진 문자열\n",
        "    /\\\\.*\\//gm : 이미 사용되고 있는 특수문자로 감싸여진 문자열\n",
        "    /-.*-/gm : 이스케이프 문자를 사용할 필요가 없는 경우\n",
        "    /\\^\\^/gm : 이스케이프 문자가 필요한 경우\n",
        "    /:\\)/gm : 이스케이프 문자가 필요한 경우\n",
        "    ```\n",
        "\n",
        "\n",
        "* (연습) 전화번호\n",
        "    ```\n",
        "    010[-,. ]?[0-9]{4}[-,. ]?[0-9]{4}\n",
        "    010([-,. ]?[0-9]{4}){2}\n",
        "    ```\n",
        "\n"
      ]
    },
    {
      "cell_type": "markdown",
      "metadata": {
        "id": "efhN7i_WAknF"
      },
      "source": [
        "* 공식문서 : https://docs.python.org/ko/3/library/re.html"
      ]
    },
    {
      "cell_type": "markdown",
      "metadata": {
        "id": "YcBIpFeoArva"
      },
      "source": [
        "* 정규표현식에서 자주 사용되는 패턴\n",
        "    * 아래와 같이 2가지 방법으로 사용할 수 있습니다.\n",
        "    ```\n",
        "    # 1\n",
        "    p = re.compile(r'([0-9]|10)([SDT])([\\*\\#]?)')\n",
        "    p.findall('1S2D*3T')\n",
        "\n",
        "    # 2\n",
        "    re.findall(r'([0-9]|10)([SDT])([\\*\\#]?)', '1S2D*3T')\n",
        "    ```\n",
        "    * compile() : 패턴 컴파일\n",
        "    * match() : 문자열의 앞 부분이 매치되는가를 체크, 추출\n",
        "    * sub() : 매치된 부분을 치환 (str에 replace와 같은 역활)\n",
        "    * search() : 선두에 한해서 매치하는지를 체크, 추출\n",
        "    * findall() : 매치된 부분 모두 리스트 반환\n",
        "    * finditer() : 정규식과 매치되는 모든 문자열(substring)을 반복 가능한 객체로 리턴한다.\n",
        "    * spilt() : 정규표현 패턴으로 문자열을 분할 (str에 split과 같은 역활)\n",
        "\n",
        "* 반환 객체의 값\n",
        "    * group() : 매치된 문자열\n",
        "    * groups() : 매치된 문자열 전체\n",
        "    * start() : 매치된 문자열의 시작 위치\n",
        "    * end() : 매치된 문자열의 끝 위치\n",
        "    * span() : 매치된 문자열의 시작과 끝\n",
        "\n",
        "* 컴파일 옵션(플래그)\n",
        "    * 사용 예\n",
        "    ```\n",
        "    re.compile('[a-z]+', re.I)\n",
        "    ```\n",
        "    * re.DOTALL, re.S : 줄바꿈 문자까지 모두 매칭\n",
        "    * re.IGNORECASE, re.I : 대소문자 구분하지 않음\n",
        "    * re.MULTILINE, re.M : ^, & 등의 매칭 패턴을 라인마다 적용\n",
        "    * re.VERBOSE, re.X : 아래와 같이 #으로 주석문을 사용할 수 있음\n",
        "    ```\n",
        "    a = re.compile(r\"\"\"\\d +  # the integral part\n",
        "                   \\.    # the decimal point\n",
        "                   \\d *  # some fractional digits\"\"\", re.X)\n",
        "    b = re.compile(r\"\\d+\\.\\d*\")\n",
        "    ```\n",
        "\n",
        "* tip\n",
        "    * 같은 패턴입니다.\n",
        "    ```\n",
        "    re.compile('\\\\\\\\section')\n",
        "    re.compile(r'\\\\section')\n",
        "    ```\n",
        "    * {}를 표현하고 싶을 때에는 중괄호 2개, 또는 때에 따라 3개가 필요합니다.\n",
        "    ```\n",
        "    re.compile(f'{{section}}')\n",
        "    ```\n"
      ]
    },
    {
      "cell_type": "code",
      "source": [
        "s = '1S2D3T'\n",
        "result = 0\n",
        "for i in s:\n",
        "    if i.isdigit():\n",
        "        result += int(i)\n",
        "result"
      ],
      "metadata": {
        "colab": {
          "base_uri": "https://localhost:8080/"
        },
        "id": "pikl1hqGpxKU",
        "outputId": "c5fc243b-6de6-4279-84dc-674fcc961e20"
      },
      "execution_count": null,
      "outputs": [
        {
          "output_type": "execute_result",
          "data": {
            "text/plain": [
              "6"
            ]
          },
          "metadata": {},
          "execution_count": 1
        }
      ]
    },
    {
      "cell_type": "code",
      "source": [
        "s = '1S2D3T'\n",
        "result = []\n",
        "for i in s:\n",
        "    if i.isdigit():\n",
        "        result.append(int(i))\n",
        "    elif i == 'S':\n",
        "        result[-1] **= 1\n",
        "    elif i == 'D':\n",
        "        result[-1] **= 2\n",
        "    elif i == 'T':\n",
        "        result[-1] **= 3\n",
        "result"
      ],
      "metadata": {
        "colab": {
          "base_uri": "https://localhost:8080/"
        },
        "id": "SnZkvKPGqPHm",
        "outputId": "6635c2eb-66a6-4d2e-e193-360f47554bf0"
      },
      "execution_count": null,
      "outputs": [
        {
          "output_type": "execute_result",
          "data": {
            "text/plain": [
              "[1, 0, 4, 27]"
            ]
          },
          "metadata": {},
          "execution_count": 7
        }
      ]
    },
    {
      "cell_type": "code",
      "execution_count": null,
      "metadata": {
        "colab": {
          "base_uri": "https://localhost:8080/"
        },
        "id": "PBUhdJ2r1L4e",
        "outputId": "25af0b42-16b4-4565-ec21-6de999066263"
      },
      "outputs": [
        {
          "output_type": "execute_result",
          "data": {
            "text/plain": [
              "[('10', 'S', ''), ('2', 'D', '*'), ('3', 'T', '')]"
            ]
          },
          "metadata": {},
          "execution_count": 8
        }
      ],
      "source": [
        "import re\n",
        "\n",
        "p = re.compile(r'([0-9]|10)([SDT])([\\*\\#]?)')\n",
        "p.findall('1S2D*3T')"
      ]
    },
    {
      "cell_type": "code",
      "source": [
        "result = []\n",
        "for 점수, 승수, 상 in [('1', 'S', ''), ('2', 'D', '*'), ('3', 'T', '')]:\n",
        "    if 승수 == 'S':\n",
        "        result.append(int(점수)**1)\n",
        "    elif 승수 == 'D':\n",
        "        result.append(int(점수)**2)\n",
        "    elif 승수 == 'T':\n",
        "        result.append(int(점수)**3)\n",
        "result"
      ],
      "metadata": {
        "colab": {
          "base_uri": "https://localhost:8080/"
        },
        "id": "UJ_8rRg0s6BI",
        "outputId": "4426abac-91a8-4b65-fc58-28c45676ca53"
      },
      "execution_count": null,
      "outputs": [
        {
          "output_type": "execute_result",
          "data": {
            "text/plain": [
              "[1, 4, 27]"
            ]
          },
          "metadata": {},
          "execution_count": 6
        }
      ]
    },
    {
      "cell_type": "markdown",
      "metadata": {
        "id": "UMvBJLB7E1A6"
      },
      "source": [
        "## compile"
      ]
    },
    {
      "cell_type": "code",
      "execution_count": null,
      "metadata": {
        "id": "fO2bOQftDO8P"
      },
      "outputs": [],
      "source": [
        "import re\n",
        "\n",
        "p = re.compile('h[eao]llo')"
      ]
    },
    {
      "cell_type": "code",
      "execution_count": null,
      "metadata": {
        "colab": {
          "base_uri": "https://localhost:8080/",
          "height": 35
        },
        "id": "3jBqYbhbFKme",
        "outputId": "69ffd117-e90f-4a7e-eedb-57ad523d1d3d"
      },
      "outputs": [
        {
          "output_type": "execute_result",
          "data": {
            "text/plain": [
              "'hello\\nhallo\\nhollo\\n'"
            ],
            "application/vnd.google.colaboratory.intrinsic+json": {
              "type": "string"
            }
          },
          "metadata": {},
          "execution_count": 10
        }
      ],
      "source": [
        "text = '''hello\n",
        "hallo\n",
        "hollo\n",
        "'''\n",
        "text"
      ]
    },
    {
      "cell_type": "markdown",
      "metadata": {
        "id": "1AlBYVY2FlHq"
      },
      "source": [
        "## match"
      ]
    },
    {
      "cell_type": "code",
      "execution_count": null,
      "metadata": {
        "id": "UtIBWh7BHOUC"
      },
      "outputs": [],
      "source": [
        "# 실무에서는 특정한 패턴이 존재하는지만 사용하는 것으로 많이 사용합니다.\n",
        "# 찾아서 무언가를 하는 것은 findall이나 sub 이런 메서드를 많이 사용합니다."
      ]
    },
    {
      "cell_type": "code",
      "execution_count": null,
      "metadata": {
        "colab": {
          "base_uri": "https://localhost:8080/"
        },
        "id": "UtASscq-Fawn",
        "outputId": "95f4055f-8bee-443e-9f53-a99c39d40bd9"
      },
      "outputs": [
        {
          "output_type": "stream",
          "name": "stdout",
          "text": [
            "<re.Match object; span=(0, 5), match='hello'>\n"
          ]
        }
      ],
      "source": [
        "import re\n",
        "\n",
        "p = re.compile('h[eao]llo')\n",
        "print(p.match('hello hallo hollo hillo hallo'))"
      ]
    },
    {
      "cell_type": "code",
      "source": [
        "import re\n",
        "\n",
        "p = re.compile('h[eao]llo')\n",
        "print(p.match('hillo hnllo'))"
      ],
      "metadata": {
        "colab": {
          "base_uri": "https://localhost:8080/"
        },
        "id": "sqw4FUAuuiUG",
        "outputId": "1c9035e5-93bb-4255-8c20-f903caa24d40"
      },
      "execution_count": null,
      "outputs": [
        {
          "output_type": "stream",
          "name": "stdout",
          "text": [
            "None\n"
          ]
        }
      ]
    },
    {
      "cell_type": "code",
      "execution_count": null,
      "metadata": {
        "colab": {
          "base_uri": "https://localhost:8080/",
          "height": 35
        },
        "id": "wNcTLpamGFxg",
        "outputId": "3aea133c-191c-4f69-ac02-af024825bb73"
      },
      "outputs": [
        {
          "data": {
            "application/vnd.google.colaboratory.intrinsic+json": {
              "type": "string"
            },
            "text/plain": [
              "'hello'"
            ]
          },
          "execution_count": 16,
          "metadata": {},
          "output_type": "execute_result"
        }
      ],
      "source": [
        "result = p.match('hello hallo hollo hillo hallo')\n",
        "result.group(0)\n",
        "# result.group(1)"
      ]
    },
    {
      "cell_type": "code",
      "execution_count": null,
      "metadata": {
        "colab": {
          "base_uri": "https://localhost:8080/",
          "height": 35
        },
        "id": "eeozSkjbGjVb",
        "outputId": "7a5b51d2-6976-4fc8-b7ad-33bdfa23d2f3"
      },
      "outputs": [
        {
          "output_type": "execute_result",
          "data": {
            "text/plain": [
              "'hollo'"
            ],
            "application/vnd.google.colaboratory.intrinsic+json": {
              "type": "string"
            }
          },
          "metadata": {},
          "execution_count": 20
        }
      ],
      "source": [
        "import re\n",
        "\n",
        "p = re.compile('(\\w+) (\\w+) (\\w+)')\n",
        "result = p.match('hello hallo hollo hillo hallo')\n",
        "result.group(0) # 전체 그룹\n",
        "result.group(1) # 그룹1\n",
        "result.group(2) # 그룹2\n",
        "result.group(3) # 그룹3"
      ]
    },
    {
      "cell_type": "code",
      "execution_count": null,
      "metadata": {
        "colab": {
          "base_uri": "https://localhost:8080/"
        },
        "id": "fvMrcy6RG-sO",
        "outputId": "bae490ec-958a-4abc-ad91-90e445a5dcb9"
      },
      "outputs": [
        {
          "data": {
            "text/plain": [
              "('hello', 'hallo')"
            ]
          },
          "execution_count": 21,
          "metadata": {},
          "output_type": "execute_result"
        }
      ],
      "source": [
        "import re\n",
        "\n",
        "p = re.compile('(\\w+) (\\w+) (\\w+)')\n",
        "result = p.match('hello hallo hollo hillo hallo')\n",
        "result.group(1, 2) # 그룹1, 그룹2"
      ]
    },
    {
      "cell_type": "code",
      "execution_count": null,
      "metadata": {
        "id": "UC17xg82HpZn"
      },
      "outputs": [],
      "source": [
        "import re\n",
        "\n",
        "p = re.compile('h[eao]llo')\n",
        "p.match('hillo hallo hollo hillo hallo')\n",
        "# None값이 출력된 것입니다.\n",
        "# 문자열 압쪽이 매칭이 안된 것입니다."
      ]
    },
    {
      "cell_type": "code",
      "execution_count": null,
      "metadata": {
        "colab": {
          "base_uri": "https://localhost:8080/"
        },
        "id": "FX8eRCHiH57c",
        "outputId": "5e769e73-e376-4fc3-a2b8-5af2729303c8"
      },
      "outputs": [
        {
          "data": {
            "text/plain": [
              "('Malcolm', 'Reynolds')"
            ]
          },
          "execution_count": 23,
          "metadata": {},
          "output_type": "execute_result"
        }
      ],
      "source": [
        "# 아래 문법은 match 말고도 다른 문법에서도 사용이 가능합니다.\n",
        "m = re.match(r\"(?P<first_name>\\w+) (?P<last_name>\\w+)\", \"Malcolm Reynolds\")\n",
        "m.group('first_name'), m.group('last_name')"
      ]
    },
    {
      "cell_type": "code",
      "execution_count": null,
      "metadata": {
        "colab": {
          "base_uri": "https://localhost:8080/",
          "height": 35
        },
        "id": "rkGcnjvCIkME",
        "outputId": "ea616d22-af74-4955-e3a3-9d51ae502e64"
      },
      "outputs": [
        {
          "data": {
            "application/vnd.google.colaboratory.intrinsic+json": {
              "type": "string"
            },
            "text/plain": [
              "'Malcolm Reynolds'"
            ]
          },
          "execution_count": 25,
          "metadata": {},
          "output_type": "execute_result"
        }
      ],
      "source": [
        "m[0]"
      ]
    },
    {
      "cell_type": "code",
      "execution_count": null,
      "metadata": {
        "colab": {
          "base_uri": "https://localhost:8080/"
        },
        "id": "S-FehqAEInOj",
        "outputId": "22838ace-7583-449f-b6f8-39cc7c224801"
      },
      "outputs": [
        {
          "data": {
            "text/plain": [
              "('Malcolm', 'Reynolds')"
            ]
          },
          "execution_count": 27,
          "metadata": {},
          "output_type": "execute_result"
        }
      ],
      "source": [
        "m[1], m[2]"
      ]
    },
    {
      "cell_type": "code",
      "execution_count": null,
      "metadata": {
        "colab": {
          "base_uri": "https://localhost:8080/"
        },
        "id": "bNaGFaVzIuz8",
        "outputId": "32411403-ef9a-4461-b90d-2b16d36e627c"
      },
      "outputs": [
        {
          "data": {
            "text/plain": [
              "('1000', '2000')"
            ]
          },
          "execution_count": 28,
          "metadata": {},
          "output_type": "execute_result"
        }
      ],
      "source": [
        "m = re.match(r\"010-(?P<앞자리>[0-9]{4})-(?P<뒷자리>[0-9]{4})\", \"010-1000-2000\")\n",
        "m.group('앞자리'), m.group('뒷자리')"
      ]
    },
    {
      "cell_type": "code",
      "execution_count": null,
      "metadata": {
        "id": "HLJI3JwdJFrd"
      },
      "outputs": [],
      "source": [
        "# 실제로 실무에서 match 사용되는 패턴 (공식문서)\n",
        "valid = re.compile(r\"^[a2-9tjqk]{5}$\")\n",
        "\n",
        "def displaymatch(match):\n",
        "    if match is None:\n",
        "        return None\n",
        "    return '<Match: %r, groups=%r>' % (match.group(), match.groups())\n",
        "\n",
        "displaymatch(valid.match(\"akt5q\"))"
      ]
    },
    {
      "cell_type": "code",
      "execution_count": null,
      "metadata": {
        "colab": {
          "base_uri": "https://localhost:8080/",
          "height": 35
        },
        "id": "lt7LREjzJS5V",
        "outputId": "ab712bdb-29d4-4ea5-fc29-89981dc49abb"
      },
      "outputs": [
        {
          "data": {
            "application/vnd.google.colaboratory.intrinsic+json": {
              "type": "string"
            },
            "text/plain": [
              "'해당 패턴에 매칭됩니다!'"
            ]
          },
          "execution_count": 30,
          "metadata": {},
          "output_type": "execute_result"
        }
      ],
      "source": [
        "# 실제로 실무에서 match 사용되는 패턴 (공식문서)\n",
        "valid = re.compile(r\"^[a2-9tjqk]{5}$\")\n",
        "\n",
        "def displaymatch(match):\n",
        "    if match is None:\n",
        "        return None\n",
        "    return '해당 패턴에 매칭됩니다!'\n",
        "\n",
        "displaymatch(valid.match(\"akt5q\"))"
      ]
    },
    {
      "cell_type": "markdown",
      "metadata": {
        "id": "zga5B6JcJhJE"
      },
      "source": [
        "## sub"
      ]
    },
    {
      "cell_type": "markdown",
      "metadata": {
        "id": "IXzdoJvv4giq"
      },
      "source": [
        "* str에 replace 메서드와 같은 기능\n",
        "* 정규표현식을 사용할 수 있는 코드"
      ]
    },
    {
      "cell_type": "code",
      "execution_count": null,
      "metadata": {
        "id": "IAPwx6LIJsv5"
      },
      "outputs": [],
      "source": [
        "# 문제 링크 : https://school.programmers.co.kr/learn/courses/30/lessons/120849"
      ]
    },
    {
      "cell_type": "code",
      "execution_count": null,
      "metadata": {
        "id": "O7u9p7oNJutZ"
      },
      "outputs": [],
      "source": [
        "def solution(my_string):\n",
        "    return my_string.replace('a', '').replace('e', '').replace('i', '').replace('o', '').replace('u', '')"
      ]
    },
    {
      "cell_type": "code",
      "execution_count": null,
      "metadata": {
        "id": "zltDhcrKKG1t"
      },
      "outputs": [],
      "source": [
        "def solution(my_string):\n",
        "    string = 'aeiou'\n",
        "    for i in string:\n",
        "        my_string = my_string.replace(i, '')\n",
        "    return my_string"
      ]
    },
    {
      "cell_type": "code",
      "source": [
        "table = str.maketrans('', '', 'aeiou')\n",
        "s = 'hello world'\n",
        "s.translate(table)"
      ],
      "metadata": {
        "colab": {
          "base_uri": "https://localhost:8080/",
          "height": 35
        },
        "id": "X1OYB30xv_fq",
        "outputId": "51117bbc-03b4-4a86-a0a6-0445efaaec2c"
      },
      "execution_count": null,
      "outputs": [
        {
          "output_type": "execute_result",
          "data": {
            "text/plain": [
              "'hll wrld'"
            ],
            "application/vnd.google.colaboratory.intrinsic+json": {
              "type": "string"
            }
          },
          "metadata": {},
          "execution_count": 22
        }
      ]
    },
    {
      "cell_type": "code",
      "execution_count": null,
      "metadata": {
        "id": "qqDG9foGKWWn"
      },
      "outputs": [],
      "source": [
        "import re\n",
        "\n",
        "def solution(my_string):\n",
        "    return re.sub(r\"[aeiou]\", \"\", my_string)"
      ]
    },
    {
      "cell_type": "code",
      "execution_count": null,
      "metadata": {
        "id": "8nPEitXEKxtG"
      },
      "outputs": [],
      "source": [
        "import re\n",
        "\n",
        "solution = lambda my_string: re.sub(r\"[aeiou]\", \"\", my_string)"
      ]
    },
    {
      "cell_type": "code",
      "execution_count": null,
      "metadata": {
        "id": "gCbIQ3vE45B3"
      },
      "outputs": [],
      "source": [
        "# 문제 링크 : https://school.programmers.co.kr/learn/courses/30/lessons/120826"
      ]
    },
    {
      "cell_type": "code",
      "execution_count": null,
      "metadata": {
        "id": "RcW3z6Rq48ZF"
      },
      "outputs": [],
      "source": [
        "def solution(my_string, letter):\n",
        "    for i in letter:\n",
        "        my_string = my_string.replace(i, '')\n",
        "    return my_string"
      ]
    },
    {
      "cell_type": "code",
      "execution_count": null,
      "metadata": {
        "id": "pUoLcxYI5IF_"
      },
      "outputs": [],
      "source": [
        "import re\n",
        "\n",
        "def solution(my_string, letter):\n",
        "    return re.sub(letter, \"\", my_string)"
      ]
    },
    {
      "cell_type": "code",
      "execution_count": null,
      "metadata": {
        "id": "k8FVbMgq5JOT"
      },
      "outputs": [],
      "source": [
        "import re\n",
        "\n",
        "solution = lambda my_string, letter: re.sub(letter, \"\", my_string)"
      ]
    },
    {
      "cell_type": "code",
      "execution_count": null,
      "metadata": {
        "id": "IydTqYRA5z-Y"
      },
      "outputs": [],
      "source": [
        "# 문제 링크 : https://school.programmers.co.kr/learn/courses/30/lessons/120851"
      ]
    },
    {
      "cell_type": "code",
      "execution_count": null,
      "metadata": {
        "id": "P5wMDDcA51rs",
        "colab": {
          "base_uri": "https://localhost:8080/"
        },
        "outputId": "687c95ed-443e-41e9-eb2c-3326ab034197"
      },
      "outputs": [
        {
          "output_type": "execute_result",
          "data": {
            "text/plain": [
              "24"
            ]
          },
          "metadata": {},
          "execution_count": 24
        }
      ],
      "source": [
        "def solution(my_string):\n",
        "    s = 0\n",
        "    for i in my_string:\n",
        "        if i.isdigit():\n",
        "            s += int(i)\n",
        "    return s\n",
        "\n",
        "solution('123123hello123123')"
      ]
    },
    {
      "cell_type": "code",
      "source": [
        "def solution(my_string):\n",
        "    s = 0\n",
        "    for i in my_string:\n",
        "        print(i)\n",
        "        print(i.isdigit())\n",
        "    return s\n",
        "\n",
        "solution('123123hello123123')"
      ],
      "metadata": {
        "colab": {
          "base_uri": "https://localhost:8080/"
        },
        "id": "E17ELFAcyERO",
        "outputId": "f2d3ba87-2d81-4544-c317-2bb25b6eca1b"
      },
      "execution_count": null,
      "outputs": [
        {
          "output_type": "stream",
          "name": "stdout",
          "text": [
            "1\n",
            "True\n",
            "2\n",
            "True\n",
            "3\n",
            "True\n",
            "1\n",
            "True\n",
            "2\n",
            "True\n",
            "3\n",
            "True\n",
            "h\n",
            "False\n",
            "e\n",
            "False\n",
            "l\n",
            "False\n",
            "l\n",
            "False\n",
            "o\n",
            "False\n",
            "1\n",
            "True\n",
            "2\n",
            "True\n",
            "3\n",
            "True\n",
            "1\n",
            "True\n",
            "2\n",
            "True\n",
            "3\n",
            "True\n"
          ]
        },
        {
          "output_type": "execute_result",
          "data": {
            "text/plain": [
              "0"
            ]
          },
          "metadata": {},
          "execution_count": 27
        }
      ]
    },
    {
      "cell_type": "code",
      "execution_count": null,
      "metadata": {
        "id": "SZHDpQGn6moS",
        "colab": {
          "base_uri": "https://localhost:8080/"
        },
        "outputId": "203232e0-8edf-4438-fb0f-7c331bea353c"
      },
      "outputs": [
        {
          "output_type": "execute_result",
          "data": {
            "text/plain": [
              "6"
            ]
          },
          "metadata": {},
          "execution_count": 32
        }
      ],
      "source": [
        "[i.isdigit() for i in 'hello 1wo2rl3d']\n",
        "[int(i) for i in 'hello 1wo2rl3d' if i.isdigit()]\n",
        "sum([int(i) for i in 'hello 1wo2rl3d' if i.isdigit()])"
      ]
    },
    {
      "cell_type": "code",
      "execution_count": null,
      "metadata": {
        "id": "8S-GYCCN7IMD"
      },
      "outputs": [],
      "source": [
        "def solution(my_string):\n",
        "    return sum(map(int, filter(lambda x:x.isdigit(), my_string)))"
      ]
    },
    {
      "cell_type": "code",
      "source": [
        "list(filter(lambda x:x.isdigit(), '123hel8lo123'))"
      ],
      "metadata": {
        "colab": {
          "base_uri": "https://localhost:8080/"
        },
        "id": "bMrbXDbrDsjk",
        "outputId": "75201f31-2fbc-4bc4-dc2c-a06d3d335644"
      },
      "execution_count": null,
      "outputs": [
        {
          "output_type": "execute_result",
          "data": {
            "text/plain": [
              "['1', '2', '3', '8', '1', '2', '3']"
            ]
          },
          "metadata": {},
          "execution_count": 33
        }
      ]
    },
    {
      "cell_type": "code",
      "source": [
        "# 저주의 숫자 3과 5\n",
        "# A마을에서는 3과 5를 사용하지 않습니다.\n",
        "# 3의 배수와 5배수는 3과 5가 들어가지만 않으면 사용합니다. 예를 들어 10은 사용합니다!\n",
        "# 그러면 이 마을에서 10진수 30이라는 숫자는 어떻게 표현할까요?\n",
        "# 10진법 - A마을에 숫자체계\n",
        "# 1 - 1\n",
        "# 2 - 2\n",
        "# 3 - 4\n",
        "# 4 - 6\n",
        "# 5 - 7\n",
        "# 6 - 8\n",
        "# 7 - 9\n",
        "# 8 - 10\n",
        "# 9 - 11\n",
        "# 10 - 12\n",
        "# 11 - 14\n",
        "# 와 같은 식으로 11은 14로 표현해야 합니다."
      ],
      "metadata": {
        "id": "2EaEb0sbD4Ce"
      },
      "execution_count": null,
      "outputs": []
    },
    {
      "cell_type": "code",
      "source": [
        "def solution(n):\n",
        "    answer = list(filter(lambda x: '3' not in str(x) and '5' not in str(x), range(100)))\n",
        "    return answer[n]\n",
        "\n",
        "solution(30)"
      ],
      "metadata": {
        "colab": {
          "base_uri": "https://localhost:8080/"
        },
        "id": "jyd4oof7HlIK",
        "outputId": "68dcddb5-c6cd-4ed2-ffbe-602abd0de133"
      },
      "execution_count": null,
      "outputs": [
        {
          "output_type": "execute_result",
          "data": {
            "text/plain": [
              "48"
            ]
          },
          "metadata": {},
          "execution_count": 42
        }
      ]
    },
    {
      "cell_type": "code",
      "source": [
        "def solution(n):\n",
        "    count = 0\n",
        "    for i in range(1, n+1):\n",
        "        count+=1\n",
        "        while '3' in str(count) or '5' in str(count):\n",
        "            count+=1\n",
        "    return count\n",
        "\n",
        "solution(30)"
      ],
      "metadata": {
        "colab": {
          "base_uri": "https://localhost:8080/"
        },
        "id": "d0sZI7HVH-H3",
        "outputId": "608bd2c7-1c78-4b4f-b5b8-1acc7307fff4"
      },
      "execution_count": null,
      "outputs": [
        {
          "output_type": "execute_result",
          "data": {
            "text/plain": [
              "48"
            ]
          },
          "metadata": {},
          "execution_count": 41
        }
      ]
    },
    {
      "cell_type": "code",
      "execution_count": null,
      "metadata": {
        "colab": {
          "base_uri": "https://localhost:8080/"
        },
        "id": "AVU9Am7b7v0M",
        "outputId": "761c1ce3-7ac4-4979-85bb-5bcd9b981dcf"
      },
      "outputs": [
        {
          "output_type": "execute_result",
          "data": {
            "text/plain": [
              "10"
            ]
          },
          "metadata": {},
          "execution_count": 44
        }
      ],
      "source": [
        "import re\n",
        "\n",
        "my_string = \"aAb1B2cC34oOp\"\n",
        "re.sub('[a-zA-Z]', '', my_string)\n",
        "\n",
        "list(re.sub('[a-zA-Z]', '', my_string)) # list 눈에 보긴 좋지만, 부하가 걸리는 작업입니다.\n",
        "sum(map(int, re.sub('[a-zA-Z]', '', my_string)))"
      ]
    },
    {
      "cell_type": "code",
      "source": [
        "'1234'\n",
        "\n",
        "# sum('1234', 'hello')\n",
        "# sum(['1', '2'], 'hello')\n",
        "sum([['1'], ['2']], [])\n",
        "sum([10, 20, 30], 100)"
      ],
      "metadata": {
        "colab": {
          "base_uri": "https://localhost:8080/",
          "height": 216
        },
        "id": "KXZNKeLWIyMK",
        "outputId": "448ed288-fb56-496f-a157-72c9f0634b5f"
      },
      "execution_count": null,
      "outputs": [
        {
          "output_type": "error",
          "ename": "TypeError",
          "evalue": "ignored",
          "traceback": [
            "\u001b[0;31m---------------------------------------------------------------------------\u001b[0m",
            "\u001b[0;31mTypeError\u001b[0m                                 Traceback (most recent call last)",
            "\u001b[0;32m<ipython-input-52-6402c69d93cb>\u001b[0m in \u001b[0;36m<cell line: 7>\u001b[0;34m()\u001b[0m\n\u001b[1;32m      5\u001b[0m \u001b[0msum\u001b[0m\u001b[0;34m(\u001b[0m\u001b[0;34m[\u001b[0m\u001b[0;34m[\u001b[0m\u001b[0;34m'1'\u001b[0m\u001b[0;34m]\u001b[0m\u001b[0;34m,\u001b[0m \u001b[0;34m[\u001b[0m\u001b[0;34m'2'\u001b[0m\u001b[0;34m]\u001b[0m\u001b[0;34m]\u001b[0m\u001b[0;34m,\u001b[0m \u001b[0;34m[\u001b[0m\u001b[0;34m]\u001b[0m\u001b[0;34m)\u001b[0m\u001b[0;34m\u001b[0m\u001b[0;34m\u001b[0m\u001b[0m\n\u001b[1;32m      6\u001b[0m \u001b[0msum\u001b[0m\u001b[0;34m(\u001b[0m\u001b[0;34m[\u001b[0m\u001b[0;36m10\u001b[0m\u001b[0;34m,\u001b[0m \u001b[0;36m20\u001b[0m\u001b[0;34m,\u001b[0m \u001b[0;36m30\u001b[0m\u001b[0;34m]\u001b[0m\u001b[0;34m,\u001b[0m \u001b[0;36m100\u001b[0m\u001b[0;34m)\u001b[0m\u001b[0;34m\u001b[0m\u001b[0;34m\u001b[0m\u001b[0m\n\u001b[0;32m----> 7\u001b[0;31m \u001b[0msum\u001b[0m\u001b[0;34m(\u001b[0m\u001b[0;34m[\u001b[0m\u001b[0;36m10\u001b[0m\u001b[0;34m,\u001b[0m \u001b[0;36m20\u001b[0m\u001b[0;34m,\u001b[0m \u001b[0;36m30\u001b[0m\u001b[0;34m]\u001b[0m\u001b[0;34m,\u001b[0m \u001b[0;34m'100'\u001b[0m\u001b[0;34m)\u001b[0m\u001b[0;34m\u001b[0m\u001b[0;34m\u001b[0m\u001b[0m\n\u001b[0m",
            "\u001b[0;31mTypeError\u001b[0m: sum() can't sum strings [use ''.join(seq) instead]"
          ]
        }
      ]
    },
    {
      "cell_type": "code",
      "execution_count": null,
      "metadata": {
        "colab": {
          "base_uri": "https://localhost:8080/",
          "height": 35
        },
        "id": "hAWhIzEf8YNJ",
        "outputId": "8dd165fd-2dcc-4127-c9f9-1b718b74bb81"
      },
      "outputs": [
        {
          "data": {
            "application/vnd.google.colaboratory.intrinsic+json": {
              "type": "string"
            },
            "text/plain": [
              "'1234'"
            ]
          },
          "execution_count": 6,
          "metadata": {},
          "output_type": "execute_result"
        }
      ],
      "source": [
        "import re\n",
        "\n",
        "my_string = \"aAb1B2cC34oOp\"\n",
        "re.sub('[^1-9]', '', my_string)"
      ]
    },
    {
      "cell_type": "code",
      "execution_count": null,
      "metadata": {
        "colab": {
          "base_uri": "https://localhost:8080/"
        },
        "id": "Q0xhU1tQ8zN9",
        "outputId": "aa3c83fa-8209-4302-ff08-5ec98fc2fcbd"
      },
      "outputs": [
        {
          "data": {
            "text/plain": [
              "10"
            ]
          },
          "execution_count": 7,
          "metadata": {},
          "output_type": "execute_result"
        }
      ],
      "source": [
        "import re\n",
        "\n",
        "def solution(my_string):\n",
        "    return sum([int(i) for i in re.sub('[^1-9]', '', my_string)])"
      ]
    },
    {
      "cell_type": "code",
      "execution_count": null,
      "metadata": {
        "id": "YQEeTar292SS"
      },
      "outputs": [],
      "source": [
        "import re\n",
        "\n",
        "def solution(my_string):\n",
        "    return sum(int(i) for i in re.sub('[^1-9]', '', my_string))"
      ]
    },
    {
      "cell_type": "markdown",
      "metadata": {
        "id": "Znat84u9-HU_"
      },
      "source": [
        "### sub의 실무 응용(중고급 강좌)"
      ]
    },
    {
      "cell_type": "code",
      "execution_count": null,
      "metadata": {
        "colab": {
          "base_uri": "https://localhost:8080/",
          "height": 35
        },
        "id": "QBIGvdxd-KiJ",
        "outputId": "973bb372-efec-4484-f8f9-d0c0734807a5"
      },
      "outputs": [
        {
          "data": {
            "application/vnd.google.colaboratory.intrinsic+json": {
              "type": "string"
            },
            "text/plain": [
              "'010__5000__3000'"
            ]
          },
          "execution_count": 8,
          "metadata": {},
          "output_type": "execute_result"
        }
      ],
      "source": [
        "import re\n",
        "\n",
        "re.sub(r'([0-9]{3})-([0-9]{4})-([0-9]{4})',\n",
        "       r'\\1__\\2__\\3',\n",
        "       '010-5000-3000')"
      ]
    },
    {
      "cell_type": "code",
      "execution_count": null,
      "metadata": {
        "colab": {
          "base_uri": "https://localhost:8080/",
          "height": 35
        },
        "id": "htZ6Xi6n_we8",
        "outputId": "ee5a6029-cffc-408f-d87e-2fff6bef06c0"
      },
      "outputs": [
        {
          "data": {
            "application/vnd.google.colaboratory.intrinsic+json": {
              "type": "string"
            },
            "text/plain": [
              "'010!!5000!!3000'"
            ]
          },
          "execution_count": 9,
          "metadata": {},
          "output_type": "execute_result"
        }
      ],
      "source": [
        "import re\n",
        "\n",
        "re.sub(r'([0-9]{3})-([0-9]{4})-([0-9]{4})',\n",
        "       r'\\1!!\\2!!\\3',\n",
        "       '010-5000-3000')"
      ]
    },
    {
      "cell_type": "code",
      "execution_count": null,
      "metadata": {
        "colab": {
          "base_uri": "https://localhost:8080/",
          "height": 35
        },
        "id": "ZxPLC_25_3QA",
        "outputId": "ba06ebc0-ba6c-433a-c411-bf405c16e226"
      },
      "outputs": [
        {
          "data": {
            "application/vnd.google.colaboratory.intrinsic+json": {
              "type": "string"
            },
            "text/plain": [
              "'010---5000---3000'"
            ]
          },
          "execution_count": 10,
          "metadata": {},
          "output_type": "execute_result"
        }
      ],
      "source": [
        "import re\n",
        "\n",
        "re.sub(r'([0-9]{3})-([0-9]{4})-([0-9]{4})',\n",
        "       r'\\1---\\2---\\3',\n",
        "       '010-5000-3000')"
      ]
    },
    {
      "cell_type": "code",
      "execution_count": null,
      "metadata": {
        "id": "q7xXpL3i__3s"
      },
      "outputs": [],
      "source": [
        "# 문제\n",
        "# 입력 : '2023/05/16'\n",
        "# 출력1 : '05/16/2023' # 미국식 날짜 표기 방법(월 / 일 / 년)\n",
        "# 출력2 : '16/05/2023' # 영국식 날짜 표기 방법(일 / 월 / 년)"
      ]
    },
    {
      "cell_type": "code",
      "execution_count": null,
      "metadata": {
        "colab": {
          "base_uri": "https://localhost:8080/",
          "height": 35
        },
        "id": "0Z97EwD0BCBP",
        "outputId": "22f55f6e-de61-4afe-d1ec-7d768d90e936"
      },
      "outputs": [
        {
          "data": {
            "application/vnd.google.colaboratory.intrinsic+json": {
              "type": "string"
            },
            "text/plain": [
              "'2023/2023/2023/2023/2023/2023/2023'"
            ]
          },
          "execution_count": 12,
          "metadata": {},
          "output_type": "execute_result"
        }
      ],
      "source": [
        "import re\n",
        "\n",
        "re.sub(r'([0-9]{4})/([0-9]{2})/([0-9]{2})',\n",
        "       r'\\1/\\1/\\1/\\1/\\1/\\1/\\1',\n",
        "       '2023/05/16')"
      ]
    },
    {
      "cell_type": "code",
      "execution_count": null,
      "metadata": {
        "colab": {
          "base_uri": "https://localhost:8080/",
          "height": 35
        },
        "id": "vmfmnJK9A5As",
        "outputId": "c9023cc5-f42a-4b65-cedd-6627779a5f3d"
      },
      "outputs": [
        {
          "data": {
            "application/vnd.google.colaboratory.intrinsic+json": {
              "type": "string"
            },
            "text/plain": [
              "'05/16/2023'"
            ]
          },
          "execution_count": 14,
          "metadata": {},
          "output_type": "execute_result"
        }
      ],
      "source": [
        "# 문제\n",
        "# 입력 : '2023/05/16'\n",
        "# 출력1 : '05/16/2023' # 미국식 날짜 표기 방법(월 / 일 / 년)\n",
        "# 출력2 : '16/05/2023' # 영국식 날짜 표기 방법(일 / 월 / 년)\n",
        "# 미국식\n",
        "import re\n",
        "\n",
        "re.sub(r'([0-9]{4})/([0-9]{2})/([0-9]{2})',\n",
        "       r'\\2/\\3/\\1',\n",
        "       '2023/05/16')"
      ]
    },
    {
      "cell_type": "code",
      "execution_count": null,
      "metadata": {
        "colab": {
          "base_uri": "https://localhost:8080/",
          "height": 35
        },
        "id": "31EyCnuOBGQv",
        "outputId": "c88b5758-8449-4e68-961d-c5349b1e820f"
      },
      "outputs": [
        {
          "data": {
            "application/vnd.google.colaboratory.intrinsic+json": {
              "type": "string"
            },
            "text/plain": [
              "'16/05/2023'"
            ]
          },
          "execution_count": 15,
          "metadata": {},
          "output_type": "execute_result"
        }
      ],
      "source": [
        "# 영국식\n",
        "import re\n",
        "\n",
        "re.sub(r'([0-9]{4})/([0-9]{2})/([0-9]{2})',\n",
        "       r'\\3/\\2/\\1',\n",
        "       '2023/05/16')"
      ]
    },
    {
      "cell_type": "code",
      "execution_count": null,
      "metadata": {
        "colab": {
          "base_uri": "https://localhost:8080/",
          "height": 35
        },
        "id": "1WQp5DkbBSpC",
        "outputId": "cb950ce4-992b-490d-f1da-751c3b4019ed"
      },
      "outputs": [
        {
          "data": {
            "application/vnd.google.colaboratory.intrinsic+json": {
              "type": "string"
            },
            "text/plain": [
              "'16/05/2023'"
            ]
          },
          "execution_count": 16,
          "metadata": {},
          "output_type": "execute_result"
        }
      ],
      "source": [
        "# 변수로 사용하는 것 test1\n",
        "import re\n",
        "\n",
        "re.sub(r'(?P<year>[0-9]{4})/(?P<month>[0-9]{2})/(?P<day>[0-9]{2})',\n",
        "       r'\\3/\\2/\\1',\n",
        "       '2023/05/16')"
      ]
    },
    {
      "cell_type": "code",
      "execution_count": null,
      "metadata": {
        "colab": {
          "base_uri": "https://localhost:8080/",
          "height": 35
        },
        "id": "npLOB316Buhe",
        "outputId": "02a4b010-8187-4525-d0b1-97b959f43e37"
      },
      "outputs": [
        {
          "data": {
            "application/vnd.google.colaboratory.intrinsic+json": {
              "type": "string"
            },
            "text/plain": [
              "'\\\\<year>/\\\\<month>/\\\\<day>'"
            ]
          },
          "execution_count": 17,
          "metadata": {},
          "output_type": "execute_result"
        }
      ],
      "source": [
        "# 변수로 사용하는 것 test2\n",
        "# 작동하지 않습니다.\n",
        "import re\n",
        "\n",
        "re.sub(r'(?P<year>[0-9]{4})/(?P<month>[0-9]{2})/(?P<day>[0-9]{2})',\n",
        "       r'\\<year>/\\<month>/\\<day>',\n",
        "       '2023/05/16')"
      ]
    },
    {
      "cell_type": "code",
      "execution_count": null,
      "metadata": {
        "colab": {
          "base_uri": "https://localhost:8080/",
          "height": 35
        },
        "id": "zWSxvlylB7hA",
        "outputId": "128414dd-d452-433f-e955-adff63ffa393"
      },
      "outputs": [
        {
          "data": {
            "application/vnd.google.colaboratory.intrinsic+json": {
              "type": "string"
            },
            "text/plain": [
              "'2023/05/16'"
            ]
          },
          "execution_count": 18,
          "metadata": {},
          "output_type": "execute_result"
        }
      ],
      "source": [
        "# 변수로 사용하는 것 test3\n",
        "import re\n",
        "\n",
        "re.sub(r'(?P<year>[0-9]{4})/(?P<month>[0-9]{2})/(?P<day>[0-9]{2})',\n",
        "       r'\\g<year>/\\g<month>/\\g<day>',\n",
        "       '2023/05/16')"
      ]
    },
    {
      "cell_type": "code",
      "execution_count": null,
      "metadata": {
        "colab": {
          "base_uri": "https://localhost:8080/",
          "height": 35
        },
        "id": "gmxJThkVEyHY",
        "outputId": "1fe64963-c0f9-4325-d5fc-119d88b6b00d"
      },
      "outputs": [
        {
          "data": {
            "application/vnd.google.colaboratory.intrinsic+json": {
              "type": "string"
            },
            "text/plain": [
              "'<h1>hello world</h1>'"
            ]
          },
          "execution_count": 19,
          "metadata": {},
          "output_type": "execute_result"
        }
      ],
      "source": [
        "# md -> html 파일로\n",
        "# '# hello world' => '<h1>hello world</h1>'\n",
        "import re\n",
        "\n",
        "re.sub(r'# (.*)',\n",
        "       r'<h1>\\1</h1>',\n",
        "       '# hello world')"
      ]
    },
    {
      "cell_type": "code",
      "execution_count": null,
      "metadata": {
        "colab": {
          "base_uri": "https://localhost:8080/",
          "height": 52
        },
        "id": "IOBDuFHZFpwk",
        "outputId": "7e04c5f7-153d-43e3-874d-52f22d683d68"
      },
      "outputs": [
        {
          "data": {
            "application/vnd.google.colaboratory.intrinsic+json": {
              "type": "string"
            },
            "text/plain": [
              "'<h1>hello1</h1>\\nhello world\\n<h1>hello2</h1>\\nhello world\\n<h1>hello3</h1>\\nhello world\\n'"
            ]
          },
          "execution_count": 20,
          "metadata": {},
          "output_type": "execute_result"
        }
      ],
      "source": [
        "# md -> html 파일로\n",
        "# '# hello world' => '<h1>hello world</h1>'\n",
        "import re\n",
        "\n",
        "text='''# hello1\n",
        "hello world\n",
        "# hello2\n",
        "hello world\n",
        "# hello3\n",
        "hello world\n",
        "'''\n",
        "\n",
        "re.sub(r'# (.*)',\n",
        "       r'<h1>\\1</h1>',\n",
        "       text)"
      ]
    },
    {
      "cell_type": "code",
      "execution_count": null,
      "metadata": {
        "colab": {
          "base_uri": "https://localhost:8080/",
          "height": 53
        },
        "id": "jD5g2rw8GM5G",
        "outputId": "babc7503-c539-42a7-d255-a35fa368597c"
      },
      "outputs": [
        {
          "data": {
            "application/vnd.google.colaboratory.intrinsic+json": {
              "type": "string"
            },
            "text/plain": [
              "'<h1>hello1</h1>\\n#<h1>hello1.1</h1>\\nhello world\\n<h1>hello2</h1>\\n#<h1>hello2.1</h1>\\nhello world\\n<h1>hello3</h1>\\n#<h1>hello3.1</h1>\\nhello world\\n'"
            ]
          },
          "execution_count": 24,
          "metadata": {},
          "output_type": "execute_result"
        }
      ],
      "source": [
        "# md -> html 파일로\n",
        "# '# hello world' => '<h1>hello world</h1>'\n",
        "import re\n",
        "\n",
        "text='''# hello1\n",
        "## hello1.1\n",
        "hello world\n",
        "# hello2\n",
        "## hello2.1\n",
        "hello world\n",
        "# hello3\n",
        "## hello3.1\n",
        "hello world\n",
        "'''\n",
        "\n",
        "text = re.sub(r'# (.*)', r'<h1>\\1</h1>', text)\n",
        "text"
      ]
    },
    {
      "cell_type": "code",
      "execution_count": null,
      "metadata": {
        "colab": {
          "base_uri": "https://localhost:8080/"
        },
        "id": "11bnsuEgG8WF",
        "outputId": "94577a5b-6363-4c75-d3d9-afafb5ceb542"
      },
      "outputs": [
        {
          "name": "stdout",
          "output_type": "stream",
          "text": [
            "<h1>hello1</h1>\n",
            "<h2>hello1.1</h2>\n",
            "hello world\n",
            "<h1>hello2</h1>\n",
            "<h2>hello2.1</h2>\n",
            "hello world\n",
            "<h1>hello3</h1>\n",
            "<h2>hello3.1</h2>\n",
            "hello world\n",
            "\n"
          ]
        }
      ],
      "source": [
        "import re\n",
        "\n",
        "text='''# hello1\n",
        "## hello1.1\n",
        "hello world\n",
        "# hello2\n",
        "## hello2.1\n",
        "hello world\n",
        "# hello3\n",
        "## hello3.1\n",
        "hello world\n",
        "'''\n",
        "\n",
        "text = re.sub(r'## (.*)', r'<h2>\\1</h2>', text)\n",
        "text = re.sub(r'# (.*)', r'<h1>\\1</h1>', text)\n",
        "print(text)"
      ]
    },
    {
      "cell_type": "code",
      "execution_count": null,
      "metadata": {
        "colab": {
          "base_uri": "https://localhost:8080/"
        },
        "id": "FkUYpk0lHRfu",
        "outputId": "abcb4b6c-f796-4921-b0d5-da2ee0f980c6"
      },
      "outputs": [
        {
          "name": "stdout",
          "output_type": "stream",
          "text": [
            "<h1>hello1</h1>\n",
            "## hello1.1\n",
            "hello world\n",
            "<h1>hello2</h1>\n",
            "## hello2.1\n",
            "hello world\n",
            "<h1>hello3</h1>\n",
            "## hello3.1\n",
            "hello world\n",
            "\n"
          ]
        }
      ],
      "source": [
        "import re\n",
        "\n",
        "text='''# hello1\n",
        "## hello1.1\n",
        "hello world\n",
        "# hello2\n",
        "## hello2.1\n",
        "hello world\n",
        "# hello3\n",
        "## hello3.1\n",
        "hello world\n",
        "'''\n",
        "\n",
        "# p = re.compile('^# (.*)', re.MULTILINE)\n",
        "# text = p.sub(r'<h1>\\1</h1>', text)\n",
        "text = re.sub(r'^# (.*)', r'<h1>\\1</h1>', text, flags=re.M)\n",
        "text = re.sub(r'^## (.*)', r'<h2>\\1</h2>', text, flags=re.M)\n",
        "print(text)"
      ]
    },
    {
      "cell_type": "code",
      "execution_count": null,
      "metadata": {
        "colab": {
          "base_uri": "https://localhost:8080/"
        },
        "id": "MuMPsNchIUZo",
        "outputId": "3b192882-6503-4606-ea9b-fc74f889e07e"
      },
      "outputs": [
        {
          "name": "stdout",
          "output_type": "stream",
          "text": [
            "<h1>This is a h1</h1>\n",
            "<h2>This is a h2</h2>\n",
            "<h3>This is a h3</h3>\n",
            "#<h3>This is a h4</h3>\n",
            "##<h3>This is a h5</h3>\n",
            "###<h3>This is a h6</h3>\n",
            "\n",
            "<ul><li>This is a bulleted list\n",
            "  * This is a nested bulleted list\n",
            "\n",
            "<strong>This is bold text</strong>\n",
            "\n",
            "<em>This is italic text</em>\n",
            "\n",
            "<del>This text is strikethrough</del>\n",
            "</li></ul>\n"
          ]
        }
      ],
      "source": [
        "import re\n",
        "\n",
        "text = '''# This is a h1\n",
        "## This is a h2\n",
        "### This is a h3\n",
        "#### This is a h4\n",
        "##### This is a h5\n",
        "###### This is a h6\n",
        "\n",
        "* This is a bulleted list\n",
        "  * This is a nested bulleted list\n",
        "\n",
        "**This is bold text**\n",
        "\n",
        "_This is italic text_\n",
        "\n",
        "~~This text is strikethrough~~\n",
        "'''\n",
        "\n",
        "def markdown_to_html(markdown):\n",
        "    html = re.sub(r'### (.*)', r'<h3>\\1</h3>', markdown)\n",
        "    html = re.sub(r'## (.*)', r'<h2>\\1</h2>', html)\n",
        "    html = re.sub(r'# (.*)', r'<h1>\\1</h1>', html)\n",
        "    html = re.sub(r'`(.*)`', r'<pre><code>\\1</code></pre>', html)\n",
        "    html = re.sub(r'\\*\\*(.*)\\*\\*', r'<strong>\\1</strong>', html)\n",
        "    html = re.sub(r'_(.*)_', r'<em>\\1</em>', html)\n",
        "    html = re.sub(r'~~(.*)~~', r'<del>\\1</del>', html)\n",
        "    html = re.sub(r'^(>+) (.*)', r'<blockquote>\\1\\2</blockquote>', html)\n",
        "    # html = re.sub(r'^\\* (.*)', r'<ul><li>\\1</li></ul>', html, flags=re.M+re.S)\n",
        "    return html\n",
        "\n",
        "print(markdown_to_html(text))"
      ]
    },
    {
      "cell_type": "markdown",
      "metadata": {
        "id": "QxVMoSkne0Qg"
      },
      "source": [
        "## 연습문제"
      ]
    },
    {
      "cell_type": "code",
      "execution_count": null,
      "metadata": {
        "id": "_VSyQCHge316"
      },
      "outputs": [],
      "source": [
        "# 다음 숫자를 모두 포함하는 정규표현식을 만들어주세요.\n",
        "\n",
        "# 010-9091-5491\n",
        "# 010-5043-2901\n",
        "# 010-5050-40409\n",
        "# 010 2913 3132\n",
        "# 01019133829\n",
        "# 064-721-3213\n",
        "# 010.1913.3829"
      ]
    },
    {
      "cell_type": "code",
      "execution_count": null,
      "metadata": {
        "colab": {
          "base_uri": "https://localhost:8080/"
        },
        "id": "c1obo4BkTELB",
        "outputId": "ef3e4be1-accf-4207-87a1-6192d95e1352"
      },
      "outputs": [
        {
          "data": {
            "text/plain": [
              "['010-9091-5491',\n",
              " '010-5043-2901',\n",
              " '010-5050-404092',\n",
              " '010 2913 3132',\n",
              " '01019133829',\n",
              " '064-721-3213',\n",
              " '010.1913.3829']"
            ]
          },
          "execution_count": 58,
          "metadata": {},
          "output_type": "execute_result"
        }
      ],
      "source": [
        "# 문제 답안\n",
        "import re\n",
        "\n",
        "text = '''010-9091-5491\n",
        "010-5043-2901\n",
        "010-5050-40409\n",
        "010 2913 3132\n",
        "01019133829\n",
        "064-721-3213\n",
        "010.1913.3829'''\n",
        "\n",
        "# 대괄호 안에서는 메타문자 역할을 하는 것은 \\, ^, -, ] 4개!\n",
        "p = re.compile(r'\\d{3}[\\.\\- ]?\\d+[\\.\\- ]?\\d+')\n",
        "p.findall(text)"
      ]
    },
    {
      "cell_type": "code",
      "execution_count": null,
      "metadata": {
        "id": "Wnz6HcomTeEG"
      },
      "outputs": [],
      "source": [
        "l = re.compile(r'([0-9]{3}.?[0-9]{3,4}.?[0-9]{4,5})')\n",
        "# .? 이 부분에서 모든종류의 문자가 0,1개 라고 읽을 수 있을까요?\n",
        "# 아니면 이런 형식에서 발생할 수 있는 문제가 있을까요?\n",
        "\n",
        "# 문제 내에서는 없습니다. 왜냐하면 지금 휴대폰 뒷자리가 5자리인 것도 허용되게 되어 있거든요.\n",
        "# 만약 실제로 사용하는 코드였다면 자릿수 문제가 생깁니다.\n",
        "# 앞에 3자리 + 1자리 + 4자리 + 1자리 + 5자리로 최대 숫자가 14자리가 올 수 있게 됩니다.\n",
        "# '.'에 숫자가 오는 케이스를 말씀드린 것입니다."
      ]
    },
    {
      "cell_type": "code",
      "execution_count": null,
      "metadata": {
        "colab": {
          "base_uri": "https://localhost:8080/"
        },
        "id": "m5Y_7MMiUubx",
        "outputId": "45fff917-884c-4cdd-bf7f-6991fad2841b"
      },
      "outputs": [
        {
          "data": {
            "text/plain": [
              "['010-9091-5491', '010  5043  29012331']"
            ]
          },
          "execution_count": 60,
          "metadata": {},
          "output_type": "execute_result"
        }
      ],
      "source": [
        "text = '''010-9091-5491\n",
        "010  5043  2901\n",
        "'''\n",
        "l = re.compile(r'(0[0-9]{2}.*[0-9]{3,4}.*[0-9]{4,5})')\n",
        "l.findall(text)"
      ]
    },
    {
      "cell_type": "code",
      "execution_count": null,
      "metadata": {
        "id": "PWjluIUVWHX7"
      },
      "outputs": [],
      "source": [
        "text = '''010-9091-5491\n",
        "010  5043  2901\n",
        "'''\n",
        "l = re.compile(r'(0[0-9]{2}[^0-9]*[0-9]{3,4}[^0-9]*[0-9]{4,5})')\n",
        "l.findall(text)"
      ]
    },
    {
      "cell_type": "code",
      "execution_count": null,
      "metadata": {
        "colab": {
          "base_uri": "https://localhost:8080/"
        },
        "id": "ojwsHpw3WVcw",
        "outputId": "c0ebf02d-2367-495f-f5a7-e92182a734ff"
      },
      "outputs": [
        {
          "name": "stdout",
          "output_type": "stream",
          "text": [
            "['[hello]']\n",
            "['[hello]']\n",
            "[']']\n",
            "['(hello)']\n"
          ]
        }
      ],
      "source": [
        "# 지섭님에 날카로운 질문!\n",
        "# 대괄호는 이스케이프 처리를 안해줘도 되고 소괄호 이스케이프 처리 해주어야 하는데 이유가 있는지?\n",
        "# 대괄호\n",
        "a = re.compile(r'\\[.*\\]')\n",
        "b = re.compile(r'\\[.*]')\n",
        "c = re.compile(r']')\n",
        "\n",
        "print(a.findall(r'[hello]'))\n",
        "print(b.findall(r'[hello]'))\n",
        "print(c.findall(r']'))\n",
        "\n",
        "# 소괄호\n",
        "d = re.compile(r'\\(.*\\)')\n",
        "# e = re.compile(r'\\(.*)') # error\n",
        "# f = re.compile(r')') # error\n",
        "\n",
        "print(d.findall(r'(hello)'))\n",
        "# print(e.findall(r'(hello)')) # error\n",
        "# print(f.findall(r')')) # error"
      ]
    },
    {
      "cell_type": "code",
      "execution_count": null,
      "metadata": {
        "id": "F0EkXraXefzC"
      },
      "outputs": [],
      "source": [
        "# 오답\n",
        "import re\n",
        "\n",
        "text = '''010-9091-5491\n",
        "010-5043-2901\n",
        "010-5050-40409\n",
        "010 2913 3132\n",
        "01019133829\n",
        "064-721-3213\n",
        "010.1913.3829'''\n",
        "\n",
        "p = re.compile(r'.')\n",
        "p.findall(text)"
      ]
    },
    {
      "cell_type": "code",
      "execution_count": null,
      "metadata": {
        "colab": {
          "base_uri": "https://localhost:8080/"
        },
        "id": "Q0ViIcPgf9VO",
        "outputId": "fb63c3cf-41e6-4c85-9182-dcbf7b57f4a8"
      },
      "outputs": [
        {
          "data": {
            "text/plain": [
              "['[hello] [hello] [hello] [hello] [hello] [hello]']"
            ]
          },
          "execution_count": 76,
          "metadata": {},
          "output_type": "execute_result"
        }
      ],
      "source": [
        "# 왜 괄호 처리 못해주나요?\n",
        "# 대괄호\n",
        "p = re.compile(r'\\[.*\\]')\n",
        "p.findall(r'[hello] [hello] [hello] [hello] [hello] [hello]')"
      ]
    },
    {
      "cell_type": "code",
      "execution_count": null,
      "metadata": {
        "colab": {
          "base_uri": "https://localhost:8080/"
        },
        "id": "_y002KY7gigX",
        "outputId": "b6d34fa6-e738-43e7-acd5-511d2f7de88c"
      },
      "outputs": [
        {
          "data": {
            "text/plain": [
              "['[hello]', '[hello]', '[hello]', '[hello]', '[hello]', '[hello]']"
            ]
          },
          "execution_count": 77,
          "metadata": {},
          "output_type": "execute_result"
        }
      ],
      "source": [
        "p = re.compile(r'\\[hello\\]')\n",
        "p.findall(r'[hello] [hello] [hello] [hello] [hello] [hello]')"
      ]
    },
    {
      "cell_type": "code",
      "execution_count": null,
      "metadata": {
        "colab": {
          "base_uri": "https://localhost:8080/"
        },
        "id": "dQyDfEHbgraD",
        "outputId": "45023c2b-01ab-44ce-9866-878fbbc529f0"
      },
      "outputs": [
        {
          "data": {
            "text/plain": [
              "['[hello]', '[hello]', '[hello]', '[hello]', '[hello]', '[hello]']"
            ]
          },
          "execution_count": 78,
          "metadata": {},
          "output_type": "execute_result"
        }
      ],
      "source": [
        "p = re.compile(r'\\[\\w+\\]')\n",
        "p.findall(r'[hello] [hello] [hello] [hello] [hello] [hello]')"
      ]
    },
    {
      "cell_type": "code",
      "execution_count": null,
      "metadata": {
        "colab": {
          "base_uri": "https://localhost:8080/"
        },
        "id": "kEK265ukhhGC",
        "outputId": "8f2501f4-270f-489a-a96c-e725c0161f78"
      },
      "outputs": [
        {
          "data": {
            "text/plain": [
              "['010-9091-5491', '010.1913.3829']"
            ]
          },
          "execution_count": 79,
          "metadata": {},
          "output_type": "execute_result"
        }
      ],
      "source": [
        "# 질문 : 자릿수 넘어가는 것은 어떻게 되나요?\n",
        "# 답 : 잘립니다.\n",
        "import re\n",
        "\n",
        "text = '''010-9091-5491\n",
        "010.1913.382900000000000000'''\n",
        "\n",
        "p = re.compile(r'\\d{3}[-. ]\\d{4}[-. ]\\d{4}')\n",
        "p.findall(text)"
      ]
    },
    {
      "cell_type": "markdown",
      "metadata": {
        "id": "qb132drAKnb2"
      },
      "source": [
        "## search"
      ]
    },
    {
      "cell_type": "code",
      "execution_count": null,
      "metadata": {
        "colab": {
          "base_uri": "https://localhost:8080/"
        },
        "id": "bQukNorDKpsz",
        "outputId": "ae300a02-b37e-41f8-c8f2-02f0abcaccaf"
      },
      "outputs": [
        {
          "name": "stdout",
          "output_type": "stream",
          "text": [
            "<re.Match object; span=(1, 2), match='y'>\n"
          ]
        }
      ],
      "source": [
        "p = re.compile('[yth]')\n",
        "m = p.search('python')\n",
        "print(m)"
      ]
    },
    {
      "cell_type": "markdown",
      "metadata": {
        "id": "evgcdcKbLFdd"
      },
      "source": [
        "## findall"
      ]
    },
    {
      "cell_type": "code",
      "execution_count": null,
      "metadata": {
        "colab": {
          "base_uri": "https://localhost:8080/"
        },
        "id": "_-PFePYBLE-Y",
        "outputId": "154bd993-2a37-4258-d1ad-ad8497cad83b"
      },
      "outputs": [
        {
          "name": "stdout",
          "output_type": "stream",
          "text": [
            "['ython']\n"
          ]
        }
      ],
      "source": [
        "p = re.compile('[a-z]+')\n",
        "result = p.findall('Python')\n",
        "print(result)"
      ]
    },
    {
      "cell_type": "code",
      "source": [
        "p = re.compile('[a-z]+')\n",
        "result = p.findall('PYTHON IS HELLO WORLD')\n",
        "print(result)"
      ],
      "metadata": {
        "colab": {
          "base_uri": "https://localhost:8080/"
        },
        "id": "pHv0KjuHKVv7",
        "outputId": "acfc0f4a-5eb4-41a6-f40c-d5718c9fcf9c"
      },
      "execution_count": null,
      "outputs": [
        {
          "output_type": "stream",
          "name": "stdout",
          "text": [
            "[]\n"
          ]
        }
      ]
    },
    {
      "cell_type": "code",
      "execution_count": null,
      "metadata": {
        "colab": {
          "base_uri": "https://localhost:8080/"
        },
        "id": "bH0LKKhRLWxS",
        "outputId": "fc0e3a83-019f-439a-e6ea-197f9c3d134c"
      },
      "outputs": [
        {
          "name": "stdout",
          "output_type": "stream",
          "text": [
            "['ife', 'is', 'hort', 'ou', 'eed', 'ython']\n"
          ]
        }
      ],
      "source": [
        "p = re.compile('[a-z]+')\n",
        "result = p.findall('Life is Short, You Need Python!')\n",
        "print(result)"
      ]
    },
    {
      "cell_type": "code",
      "execution_count": null,
      "metadata": {
        "colab": {
          "base_uri": "https://localhost:8080/"
        },
        "id": "diTFU2qZLxgG",
        "outputId": "da355a93-34ff-45e5-ecee-14c900f1adee"
      },
      "outputs": [
        {
          "output_type": "stream",
          "name": "stdout",
          "text": [
            "['i', 'f', 'e', 'i', 's', 'h', 'o', 'r', 't', 'o', 'u', 'e', 'e', 'd', 'y', 't', 'h', 'o', 'n']\n"
          ]
        }
      ],
      "source": [
        "p = re.compile('[a-z]')\n",
        "result = p.findall('LifeisShort,YouNeed P y t h o n !')\n",
        "print(result)"
      ]
    },
    {
      "cell_type": "code",
      "source": [
        "p = re.compile('[a-z]+')\n",
        "result = p.findall('LifeisShort,YouNeed P y t h o n !')\n",
        "print(result)"
      ],
      "metadata": {
        "id": "a2OwBGR4Ko_D"
      },
      "execution_count": null,
      "outputs": []
    },
    {
      "cell_type": "code",
      "execution_count": null,
      "metadata": {
        "colab": {
          "base_uri": "https://localhost:8080/"
        },
        "id": "ctu3JgXuLmmi",
        "outputId": "5dc89e4b-ca46-4c3b-e6bd-068a9254fb6e"
      },
      "outputs": [
        {
          "name": "stdout",
          "output_type": "stream",
          "text": [
            "['010', '5000', '1000']\n"
          ]
        }
      ],
      "source": [
        "p = re.compile('[0-9]+')\n",
        "result = p.findall('010!5000-1000')\n",
        "print(result)"
      ]
    },
    {
      "cell_type": "code",
      "execution_count": null,
      "metadata": {
        "colab": {
          "base_uri": "https://localhost:8080/"
        },
        "id": "m3TxTWh2MHPk",
        "outputId": "ef550198-5aee-4294-ff23-dd993279f1c9"
      },
      "outputs": [
        {
          "data": {
            "text/plain": [
              "['010', '5000', '1000']"
            ]
          },
          "execution_count": 48,
          "metadata": {},
          "output_type": "execute_result"
        }
      ],
      "source": [
        "'010-5000-1000'.split('-')"
      ]
    },
    {
      "cell_type": "code",
      "execution_count": null,
      "metadata": {
        "id": "004qdmpVNFse"
      },
      "outputs": [],
      "source": [
        "# 문제 링크 : https://school.programmers.co.kr/learn/courses/30/lessons/17682"
      ]
    },
    {
      "cell_type": "code",
      "execution_count": null,
      "metadata": {
        "colab": {
          "base_uri": "https://localhost:8080/"
        },
        "id": "_oglE8myMYw4",
        "outputId": "dda42dba-f069-406f-88f4-086368f832b0"
      },
      "outputs": [
        {
          "data": {
            "text/plain": [
              "[('1', 'S', ''), ('2', 'D', '*'), ('3', 'T', '')]"
            ]
          },
          "execution_count": 50,
          "metadata": {},
          "output_type": "execute_result"
        }
      ],
      "source": [
        "# 1\n",
        "p = re.compile(r'([0-9]|10)([SDT])([\\*\\#]?)')\n",
        "p.findall('1S2D*3T')\n",
        "\n",
        "# 2\n",
        "# re.findall(r'([0-9]|10)([SDT])([\\*\\#]?)', '1S2D*3T')"
      ]
    },
    {
      "cell_type": "code",
      "execution_count": null,
      "metadata": {
        "id": "1JAvYR-nNTQP"
      },
      "outputs": [],
      "source": [
        "# 문제 링크 : https://school.programmers.co.kr/learn/courses/30/lessons/120891"
      ]
    },
    {
      "cell_type": "code",
      "execution_count": null,
      "metadata": {
        "colab": {
          "base_uri": "https://localhost:8080/"
        },
        "id": "ZQgw0Kp5Nvx1",
        "outputId": "c8741df9-e5ac-4bf7-b615-b599ac478c46"
      },
      "outputs": [
        {
          "name": "stdout",
          "output_type": "stream",
          "text": [
            "['9', '3']\n"
          ]
        }
      ],
      "source": [
        "p = re.compile('[369]')\n",
        "result = p.findall('29423')\n",
        "print(result)"
      ]
    },
    {
      "cell_type": "code",
      "execution_count": null,
      "metadata": {
        "id": "q3kjDniaOUXo"
      },
      "outputs": [],
      "source": [
        "def solution(order):\n",
        "    count = 0\n",
        "    for i in str(order):\n",
        "        if i == '3' or i == '6' or i == '9':\n",
        "            count += 1\n",
        "    return count"
      ]
    },
    {
      "cell_type": "code",
      "execution_count": null,
      "metadata": {
        "id": "cHQIUEXcOiPS"
      },
      "outputs": [],
      "source": [
        "def solution(order):\n",
        "    count = 0\n",
        "    for i in str(order):\n",
        "        if i == '3':\n",
        "            count += 1\n",
        "        elif i == '6':\n",
        "            count += 1\n",
        "        elif i == '9':\n",
        "            count += 1\n",
        "    return count"
      ]
    },
    {
      "cell_type": "code",
      "execution_count": null,
      "metadata": {
        "id": "Wo67uCyPN_zm"
      },
      "outputs": [],
      "source": [
        "import re\n",
        "\n",
        "def solution(order):\n",
        "    p = re.compile('[369]')\n",
        "    return len(p.findall(str(order)))"
      ]
    },
    {
      "cell_type": "code",
      "execution_count": null,
      "metadata": {
        "id": "j-RdgQwFPS6S"
      },
      "outputs": [],
      "source": [
        "# 문제 링크 : https://school.programmers.co.kr/learn/courses/30/lessons/120913"
      ]
    },
    {
      "cell_type": "code",
      "source": [
        "def ngram(s, n):\n",
        "    for i in range(0, len(s), n):\n",
        "        print(s[i:i+n])\n",
        "\n",
        "ngram('python', 2)\n",
        "# 'py'\n",
        "# 'th'\n",
        "# 'on'\n",
        "\n",
        "# py\n",
        "# yt\n",
        "# th\n",
        "# ho\n",
        "# on"
      ],
      "metadata": {
        "colab": {
          "base_uri": "https://localhost:8080/"
        },
        "id": "c_p6LzmyM0di",
        "outputId": "ade55907-4507-40af-9e36-9f52844ff4d3"
      },
      "execution_count": null,
      "outputs": [
        {
          "output_type": "stream",
          "name": "stdout",
          "text": [
            "py\n",
            "th\n",
            "on\n"
          ]
        }
      ]
    },
    {
      "cell_type": "code",
      "source": [
        "p = re.compile(r'[a-z]{2}')\n",
        "s = 'abcdefghijk'\n",
        "p.findall(s)"
      ],
      "metadata": {
        "colab": {
          "base_uri": "https://localhost:8080/"
        },
        "id": "Dfbtv2_tSgWl",
        "outputId": "b4809e9a-9807-4c9b-8f41-a62016faef44"
      },
      "execution_count": null,
      "outputs": [
        {
          "output_type": "execute_result",
          "data": {
            "text/plain": [
              "['ab', 'cd', 'ef', 'gh', 'ij']"
            ]
          },
          "metadata": {},
          "execution_count": 61
        }
      ]
    },
    {
      "cell_type": "code",
      "execution_count": null,
      "metadata": {
        "colab": {
          "base_uri": "https://localhost:8080/",
          "height": 35
        },
        "id": "7hE2hSydS7e1",
        "outputId": "f38192a0-47b9-4f6d-c806-e6b9a4a0f9dd"
      },
      "outputs": [
        {
          "data": {
            "application/vnd.google.colaboratory.intrinsic+json": {
              "type": "string"
            },
            "text/plain": [
              "'b'"
            ]
          },
          "execution_count": 58,
          "metadata": {},
          "output_type": "execute_result"
        }
      ],
      "source": [
        "s = \"abc1Addfggg4556b\"\n",
        "len(s)\n",
        "s[15:18] # str에 slicing 경우 out of range error가 발생 하지 않습니다."
      ]
    },
    {
      "cell_type": "code",
      "execution_count": null,
      "metadata": {
        "colab": {
          "base_uri": "https://localhost:8080/",
          "height": 35
        },
        "id": "mlugwfz1TaLt",
        "outputId": "c3ce9123-b123-4cf5-eca1-dcf38490cbcb"
      },
      "outputs": [
        {
          "data": {
            "application/vnd.google.colaboratory.intrinsic+json": {
              "type": "string"
            },
            "text/plain": [
              "''"
            ]
          },
          "execution_count": 59,
          "metadata": {},
          "output_type": "execute_result"
        }
      ],
      "source": [
        "s = \"abc1Addfggg4556b\"\n",
        "len(s)\n",
        "s[19:25] # str에 slicing 경우 out of range error가 발생 하지 않습니다."
      ]
    },
    {
      "cell_type": "code",
      "execution_count": null,
      "metadata": {
        "colab": {
          "base_uri": "https://localhost:8080/"
        },
        "id": "uqn8R2RyTePg",
        "outputId": "aa8cd992-0d0b-4e23-95e1-6af3daf2802a"
      },
      "outputs": [
        {
          "data": {
            "text/plain": [
              "[]"
            ]
          },
          "execution_count": 60,
          "metadata": {},
          "output_type": "execute_result"
        }
      ],
      "source": [
        "l = [10, 20, 30]\n",
        "l[10:15] # slicing 경우 out of range error가 발생 하지 않습니다."
      ]
    },
    {
      "cell_type": "code",
      "execution_count": null,
      "metadata": {
        "id": "BlI5F1vsTP7S"
      },
      "outputs": [],
      "source": [
        "n = 3\n",
        "s = \"abc1Addfggg4556b\"\n",
        "\n",
        "for i in range(0, len(s), n):\n",
        "    print(s[i:i+n])"
      ]
    },
    {
      "cell_type": "code",
      "execution_count": null,
      "metadata": {
        "colab": {
          "base_uri": "https://localhost:8080/"
        },
        "id": "1LzTYbdCPVfs",
        "outputId": "26f770fb-ddc3-4e4b-c327-802ae6d0663b"
      },
      "outputs": [
        {
          "name": "stdout",
          "output_type": "stream",
          "text": [
            "abc\n",
            "1Ad\n",
            "dfg\n",
            "gg4\n",
            "556\n",
            "b\n"
          ]
        }
      ],
      "source": [
        "def solution(my_str, n):\n",
        "    result = []\n",
        "    for i in range(0, len(my_str), n):\n",
        "        result.append(my_str[i:i+n])\n",
        "    return result"
      ]
    },
    {
      "cell_type": "code",
      "execution_count": null,
      "metadata": {
        "id": "lgfTRZDAT2wt"
      },
      "outputs": [],
      "source": [
        "def solution(my_str, n):\n",
        "    return [my_str[i:i+n] for i in range(0, len(my_str), n)]"
      ]
    },
    {
      "cell_type": "code",
      "execution_count": null,
      "metadata": {
        "colab": {
          "base_uri": "https://localhost:8080/"
        },
        "id": "YdmRqI4cUDd9",
        "outputId": "168757ee-faf3-4035-d888-543dd5160bf1"
      },
      "outputs": [
        {
          "data": {
            "text/plain": [
              "['abc1', 'Addf', 'ggg4', '556b']"
            ]
          },
          "execution_count": 61,
          "metadata": {},
          "output_type": "execute_result"
        }
      ],
      "source": [
        "import re\n",
        "\n",
        "re.findall('.{4}', \"abc1Addfggg4556b\")"
      ]
    },
    {
      "cell_type": "code",
      "execution_count": null,
      "metadata": {
        "colab": {
          "base_uri": "https://localhost:8080/"
        },
        "id": "E1KtpYZTUb_O",
        "outputId": "c0268136-3b9e-4ab9-f875-c698776c006e"
      },
      "outputs": [
        {
          "data": {
            "text/plain": [
              "['abc1', 'Addf', 'ggg4', '556b']"
            ]
          },
          "execution_count": 62,
          "metadata": {},
          "output_type": "execute_result"
        }
      ],
      "source": [
        "import re\n",
        "\n",
        "re.findall('.{4}', \"abc1Addfggg4556bte\")"
      ]
    },
    {
      "cell_type": "code",
      "execution_count": null,
      "metadata": {
        "colab": {
          "base_uri": "https://localhost:8080/"
        },
        "id": "iDfrFcP5UhYA",
        "outputId": "edbbffb0-b536-4f39-e526-f7df00dda067"
      },
      "outputs": [
        {
          "data": {
            "text/plain": [
              "['abc1', 'Addf', 'ggg4', '556b', 'te']"
            ]
          },
          "execution_count": 63,
          "metadata": {},
          "output_type": "execute_result"
        }
      ],
      "source": [
        "import re\n",
        "\n",
        "re.findall('.{1,4}', \"abc1Addfggg4556bte\")"
      ]
    },
    {
      "cell_type": "code",
      "execution_count": null,
      "metadata": {
        "id": "o8nY1qRqUwtz",
        "colab": {
          "base_uri": "https://localhost:8080/"
        },
        "outputId": "3ad15362-adf5-417b-dc59-01f97505aa95"
      },
      "outputs": [
        {
          "output_type": "execute_result",
          "data": {
            "text/plain": [
              "[]"
            ]
          },
          "metadata": {},
          "execution_count": 64
        }
      ],
      "source": [
        "# why? 왜 실패가 나왔는가?\n",
        "import re\n",
        "\n",
        "def solution(my_str, n):\n",
        "    return re.findall(f'.{1,n}', my_str)\n",
        "\n",
        "solution('abcdef', 2)"
      ]
    },
    {
      "cell_type": "code",
      "source": [
        "n = 3\n",
        "print(f'.{1,n}')\n",
        "print(f'.{{1,n}}') # {{문자열 취급}}\n",
        "print(f'.{{안녕}}') # {{문자열 취급}}\n",
        "print(f'.{{1,{n}}}')"
      ],
      "metadata": {
        "colab": {
          "base_uri": "https://localhost:8080/"
        },
        "id": "qZ-t6IRFTaDv",
        "outputId": "9731bd01-3513-4f17-8b20-4a0e54f3ed05"
      },
      "execution_count": null,
      "outputs": [
        {
          "output_type": "stream",
          "name": "stdout",
          "text": [
            ".(1, 3)\n",
            ".{1,n}\n",
            ".{안녕}\n",
            ".{1,3}\n"
          ]
        }
      ]
    },
    {
      "cell_type": "code",
      "execution_count": null,
      "metadata": {
        "id": "sRxBdEX7VCGQ"
      },
      "outputs": [],
      "source": [
        "# step1\n",
        "import re\n",
        "\n",
        "def solution(my_str, n):\n",
        "    return re.findall(f'.{1,{n}}', my_str)"
      ]
    },
    {
      "cell_type": "code",
      "execution_count": null,
      "metadata": {
        "id": "qcdVtCffVMHV",
        "colab": {
          "base_uri": "https://localhost:8080/"
        },
        "outputId": "711f963e-750a-4d97-935d-135ebe09ff7a"
      },
      "outputs": [
        {
          "output_type": "execute_result",
          "data": {
            "text/plain": [
              "['ab', 'cd', 'ef', 'gh', 'ij']"
            ]
          },
          "metadata": {},
          "execution_count": 69
        }
      ],
      "source": [
        "# step2\n",
        "# python에서 {를 넣기 위해선 {{를 사용하여야 합니다\n",
        "import re\n",
        "\n",
        "def solution(my_str, n):\n",
        "    return re.findall(f'.{{1,{n}}}', my_str)\n",
        "\n",
        "solution('abcdefghij', 2)"
      ]
    },
    {
      "cell_type": "code",
      "execution_count": null,
      "metadata": {
        "id": "EisIT1zsVXOj"
      },
      "outputs": [],
      "source": [
        "# f-string 용법에서 중괄호를 문자열 그대로 표현하기 위해\n",
        "# 이스케이프 문자를 사용하지 않습니다.\n",
        "# 중괄호 2개를 사용합니다!\n",
        "import re\n",
        "\n",
        "def solution(my_str, n):\n",
        "    return re.findall(f'.\\{1,{n}\\}', my_str)"
      ]
    },
    {
      "cell_type": "code",
      "execution_count": null,
      "metadata": {
        "id": "rNF6g23gWD0L"
      },
      "outputs": [],
      "source": [
        "# 문제 링크 : https://school.programmers.co.kr/learn/courses/30/lessons/120894"
      ]
    },
    {
      "cell_type": "code",
      "execution_count": null,
      "metadata": {
        "colab": {
          "base_uri": "https://localhost:8080/"
        },
        "id": "666rpfmeWIxZ",
        "outputId": "4ca05e7f-f73f-4dab-e57a-8d0e7ad6e9c1"
      },
      "outputs": [
        {
          "data": {
            "text/plain": [
              "['one', 'two', 'three', 'four', 'five', 'six', 'seven', 'eight', 'nine']"
            ]
          },
          "execution_count": 68,
          "metadata": {},
          "output_type": "execute_result"
        }
      ],
      "source": [
        "import re\n",
        "\n",
        "re.findall('(one|two|three|four|five|six|seven|eight|nine|zero)',\n",
        "           \"onetwothreefourfivesixseveneightnine\")"
      ]
    },
    {
      "cell_type": "code",
      "source": [
        "'onefourzerosixseven'.replace('one', '1')"
      ],
      "metadata": {
        "colab": {
          "base_uri": "https://localhost:8080/",
          "height": 35
        },
        "id": "2DkEY6p3U0wm",
        "outputId": "98f65fe1-5e94-42a9-d3d3-69ae32fb96f4"
      },
      "execution_count": null,
      "outputs": [
        {
          "output_type": "execute_result",
          "data": {
            "text/plain": [
              "'1fourzerosixseven'"
            ],
            "application/vnd.google.colaboratory.intrinsic+json": {
              "type": "string"
            }
          },
          "metadata": {},
          "execution_count": 71
        }
      ]
    },
    {
      "cell_type": "code",
      "execution_count": null,
      "metadata": {
        "colab": {
          "base_uri": "https://localhost:8080/",
          "height": 35
        },
        "id": "zUqBh6uHW68h",
        "outputId": "b275bd85-2993-4b32-ca92-8336076d3444"
      },
      "outputs": [
        {
          "data": {
            "application/vnd.google.colaboratory.intrinsic+json": {
              "type": "string"
            },
            "text/plain": [
              "'123456789'"
            ]
          },
          "execution_count": 69,
          "metadata": {},
          "output_type": "execute_result"
        }
      ],
      "source": [
        "d = {\n",
        "    'zero': 0,\n",
        "    'one': 1,\n",
        "    'two': 2,\n",
        "    'three': 3,\n",
        "    'four': 4,\n",
        "    'five': 5,\n",
        "    'six': 6,\n",
        "    'seven': 7,\n",
        "    'eight': 8,\n",
        "    'nine': 9\n",
        "}\n",
        "l = ['one', 'two', 'three', 'four', 'five', 'six', 'seven', 'eight', 'nine']\n",
        "\n",
        "s = ''\n",
        "for i in l:\n",
        "    s += str(d[i])\n",
        "s"
      ]
    },
    {
      "cell_type": "code",
      "execution_count": null,
      "metadata": {
        "colab": {
          "base_uri": "https://localhost:8080/",
          "height": 35
        },
        "id": "Ve5OMosyXnqe",
        "outputId": "5238664f-afc0-48a5-9800-1af00c70b6bc"
      },
      "outputs": [
        {
          "data": {
            "application/vnd.google.colaboratory.intrinsic+json": {
              "type": "string"
            },
            "text/plain": [
              "'123456789'"
            ]
          },
          "execution_count": 70,
          "metadata": {},
          "output_type": "execute_result"
        }
      ],
      "source": [
        "d = {\n",
        "    'zero': 0,\n",
        "    'one': 1,\n",
        "    'two': 2,\n",
        "    'three': 3,\n",
        "    'four': 4,\n",
        "    'five': 5,\n",
        "    'six': 6,\n",
        "    'seven': 7,\n",
        "    'eight': 8,\n",
        "    'nine': 9\n",
        "}\n",
        "l = ['one', 'two', 'three', 'four', 'five', 'six', 'seven', 'eight', 'nine']\n",
        "''.join([str(d[i]) for i in l])"
      ]
    },
    {
      "cell_type": "code",
      "execution_count": null,
      "metadata": {
        "colab": {
          "base_uri": "https://localhost:8080/",
          "height": 35
        },
        "id": "zqtX6CxmX0Z2",
        "outputId": "ad0fd355-bdd2-455c-cc8f-4c498647ad02"
      },
      "outputs": [
        {
          "data": {
            "application/vnd.google.colaboratory.intrinsic+json": {
              "type": "string"
            },
            "text/plain": [
              "'123456789'"
            ]
          },
          "execution_count": 72,
          "metadata": {},
          "output_type": "execute_result"
        }
      ],
      "source": [
        "d = {\n",
        "    'zero': 0,\n",
        "    'one': 1,\n",
        "    'two': 2,\n",
        "    'three': 3,\n",
        "    'four': 4,\n",
        "    'five': 5,\n",
        "    'six': 6,\n",
        "    'seven': 7,\n",
        "    'eight': 8,\n",
        "    'nine': 9\n",
        "}\n",
        "l = ['one', 'two', 'three', 'four', 'five', 'six', 'seven', 'eight', 'nine']\n",
        "# list(map(lambda x:str(d[x]), l))\n",
        "''.join(map(lambda x:str(d[x]), l)) # join 뒤에도 이터러블 객체가 옵니다."
      ]
    },
    {
      "cell_type": "code",
      "execution_count": null,
      "metadata": {
        "id": "bRdmbgwRYXP_"
      },
      "outputs": [],
      "source": [
        "import re\n",
        "\n",
        "def solution(numbers):\n",
        "    s = ''\n",
        "    d = {\n",
        "        'one':   '1',\n",
        "        'two':   '2',\n",
        "        'three': '3',\n",
        "        'four':  '4',\n",
        "        'five':  '5',\n",
        "        'six':   '6',\n",
        "        'seven': '7',\n",
        "        'eight': '8',\n",
        "        'nine':  '9',\n",
        "        'zero':  '0',\n",
        "    }\n",
        "    for i in re.findall(r'(zero|one|two|three|four|five|six|seven|eight|nine)', numbers):\n",
        "        s += d[i]\n",
        "    return int(s)"
      ]
    },
    {
      "cell_type": "markdown",
      "metadata": {
        "id": "rfQAL4z_YcpF"
      },
      "source": [
        "## finditer\n",
        "\n",
        "* 정규식과 매치되는 모든 문자열(substring)을 반복 가능한 객체로 리턴한다.\n",
        "\n"
      ]
    },
    {
      "cell_type": "code",
      "execution_count": null,
      "metadata": {
        "colab": {
          "base_uri": "https://localhost:8080/"
        },
        "id": "EkkHyc2hYb-W",
        "outputId": "b4a90b26-ac5c-4d08-9c54-1052a4b3cab7"
      },
      "outputs": [
        {
          "name": "stdout",
          "output_type": "stream",
          "text": [
            "<re.Match object; span=(0, 4), match='hell'>\n",
            "hell\n",
            "(0, 4)\n",
            "<re.Match object; span=(4, 8), match='owor'>\n",
            "owor\n",
            "(4, 8)\n",
            "<re.Match object; span=(8, 12), match='ldhe'>\n",
            "ldhe\n",
            "(8, 12)\n",
            "<re.Match object; span=(12, 16), match='llow'>\n",
            "llow\n",
            "(12, 16)\n",
            "<re.Match object; span=(16, 20), match='orld'>\n",
            "orld\n",
            "(16, 20)\n",
            "<re.Match object; span=(20, 24), match='hell'>\n",
            "hell\n",
            "(20, 24)\n",
            "<re.Match object; span=(24, 28), match='owor'>\n",
            "owor\n",
            "(24, 28)\n"
          ]
        }
      ],
      "source": [
        "p = re.compile('.{4}')\n",
        "result = p.finditer('helloworldhelloworldhelloworld')\n",
        "result\n",
        "for i in result:\n",
        "    print(i)\n",
        "    print(i.group())\n",
        "    print(i.span())"
      ]
    },
    {
      "cell_type": "markdown",
      "metadata": {
        "id": "Pt1PQhH_YuCo"
      },
      "source": [
        "## spilt\n",
        "\n",
        "* 정규표현 패턴으로 문자열을 분할 (str에 split과 같은 역활)"
      ]
    },
    {
      "cell_type": "code",
      "execution_count": null,
      "metadata": {
        "colab": {
          "base_uri": "https://localhost:8080/"
        },
        "id": "yZFl-o2uYtVA",
        "outputId": "50905c3e-46a2-49bf-cec9-cd9307837e98"
      },
      "outputs": [
        {
          "data": {
            "text/plain": [
              "['010', '5000!4000']"
            ]
          },
          "execution_count": 80,
          "metadata": {},
          "output_type": "execute_result"
        }
      ],
      "source": [
        "import re\n",
        "\n",
        "s = '010 5000!4000'\n",
        "re.split(r' ', s)"
      ]
    },
    {
      "cell_type": "code",
      "execution_count": null,
      "metadata": {
        "colab": {
          "base_uri": "https://localhost:8080/"
        },
        "id": "O8GxO0lHZ_kY",
        "outputId": "74918e8c-ecb2-425d-a713-beea932925f8"
      },
      "outputs": [
        {
          "data": {
            "text/plain": [
              "['010', '5000', '4000']"
            ]
          },
          "execution_count": 81,
          "metadata": {},
          "output_type": "execute_result"
        }
      ],
      "source": [
        "import re\n",
        "\n",
        "s = '010 5000!4000'\n",
        "re.split(r'[ !]', s)"
      ]
    },
    {
      "cell_type": "code",
      "execution_count": null,
      "metadata": {
        "colab": {
          "base_uri": "https://localhost:8080/"
        },
        "id": "zaFRfZ9eaGsX",
        "outputId": "c97b7f22-61b6-47d5-f6a3-92f5ed356571"
      },
      "outputs": [
        {
          "data": {
            "text/plain": [
              "['\\n<!DOCTYPE html',\n",
              " '\\n<html lang=\"ko\"',\n",
              " '\\n<head',\n",
              " '\\n    <title',\n",
              " 'hello title</title',\n",
              " '\\n</head',\n",
              " '\\n<body',\n",
              " '\\n    <h1',\n",
              " 'hello h1</h1',\n",
              " '\\n    <p',\n",
              " 'hello p</p',\n",
              " '\\n</body',\n",
              " '\\n</html',\n",
              " '\\n']"
            ]
          },
          "execution_count": 82,
          "metadata": {},
          "output_type": "execute_result"
        }
      ],
      "source": [
        "text = '''\n",
        "<!DOCTYPE html>\n",
        "<html lang=\"ko\">\n",
        "<head>\n",
        "    <title>hello title</title>\n",
        "</head>\n",
        "<body>\n",
        "    <h1>hello h1</h1>\n",
        "    <p>hello p</p>\n",
        "</body>\n",
        "</html>\n",
        "'''\n",
        "\n",
        "text.split('>')"
      ]
    },
    {
      "cell_type": "code",
      "execution_count": null,
      "metadata": {
        "colab": {
          "base_uri": "https://localhost:8080/"
        },
        "id": "MZW6qhRFa9UT",
        "outputId": "3ea79930-1e55-4f92-d98d-1679320b1d57"
      },
      "outputs": [
        {
          "data": {
            "text/plain": [
              "['',\n",
              " '',\n",
              " '',\n",
              " '',\n",
              " 'hello title',\n",
              " '',\n",
              " '',\n",
              " '',\n",
              " 'hello h1',\n",
              " '',\n",
              " 'hello p',\n",
              " '',\n",
              " '',\n",
              " '']"
            ]
          },
          "execution_count": 90,
          "metadata": {},
          "output_type": "execute_result"
        }
      ],
      "source": [
        "import re\n",
        "\n",
        "text = '''\n",
        "<!DOCTYPE html>\n",
        "<html lang=\"ko\">\n",
        "<head>\n",
        "    <title>hello title</title>\n",
        "</head>\n",
        "<body>\n",
        "    <h1>hello h1</h1>\n",
        "    <p>hello p</p>\n",
        "</body>\n",
        "</html>\n",
        "'''\n",
        "\n",
        "result = re.split(r'<[^<>]*>', text) # beautifulsoup 원리 : 정규표현식으로 문자열 조각\n",
        "list(filter(lambda x:x !='\\n', map(lambda x:x.strip(), result)))"
      ]
    },
    {
      "cell_type": "markdown",
      "metadata": {
        "id": "0MX24dTmQRGG"
      },
      "source": [
        "## 연습문제"
      ]
    },
    {
      "cell_type": "code",
      "execution_count": null,
      "metadata": {
        "id": "xgqZDFqzQQzt"
      },
      "outputs": [],
      "source": [
        "# 문제 링크 : https://pyalgo.co.kr/?page=2#"
      ]
    },
    {
      "cell_type": "code",
      "execution_count": null,
      "metadata": {
        "colab": {
          "base_uri": "https://localhost:8080/"
        },
        "id": "WUfU6HO5TREK",
        "outputId": "ce070505-8a75-41dd-e99e-af788909c910"
      },
      "outputs": [
        {
          "data": {
            "text/plain": [
              "['r1', 'e3', 'v2', 'v1', 'v9']"
            ]
          },
          "execution_count": 3,
          "metadata": {},
          "output_type": "execute_result"
        }
      ],
      "source": [
        "# 오답\n",
        "import re\n",
        "\n",
        "def solution(data):\n",
        "    p = re.compile(r'[rev][1-9]')\n",
        "    return p.findall(data)\n",
        "\n",
        "data = 'a10b9r1ce33uab8wc918v2cv11v9'\n",
        "solution(data)"
      ]
    },
    {
      "cell_type": "code",
      "execution_count": null,
      "metadata": {
        "colab": {
          "base_uri": "https://localhost:8080/"
        },
        "id": "KfNg-vBgTiuh",
        "outputId": "ab47ede8-d2e0-4d3f-b886-39d1b5f67b16"
      },
      "outputs": [
        {
          "data": {
            "text/plain": [
              "['r1', 'e3', 'v2', 'v1', 'v9']"
            ]
          },
          "execution_count": 4,
          "metadata": {},
          "output_type": "execute_result"
        }
      ],
      "source": [
        "# 오답\n",
        "import re\n",
        "\n",
        "def solution(data):\n",
        "    p = re.compile(r'[rev][1-9]')\n",
        "    return p.findall(data)\n",
        "\n",
        "data = 'a10b9r10ce33uab8wc918v2cv11v9'\n",
        "solution(data)"
      ]
    },
    {
      "cell_type": "code",
      "execution_count": null,
      "metadata": {
        "colab": {
          "base_uri": "https://localhost:8080/"
        },
        "id": "oIyrcINrTslg",
        "outputId": "2562e1ff-f336-47c5-add8-3cb77e830072"
      },
      "outputs": [
        {
          "data": {
            "text/plain": [
              "['r1', 'e3', 'v2', 'v1', 'v9']"
            ]
          },
          "execution_count": 6,
          "metadata": {},
          "output_type": "execute_result"
        }
      ],
      "source": [
        "# 오답\n",
        "import re\n",
        "\n",
        "def solution(data):\n",
        "    p = re.compile(r'[rev][1-9|10]') # 10이 아니고 1과 0입니다.\n",
        "    return p.findall(data)\n",
        "\n",
        "data = 'a10b9r10ce33uab8wc918v2cv11v9'\n",
        "solution(data)"
      ]
    },
    {
      "cell_type": "code",
      "execution_count": null,
      "metadata": {
        "colab": {
          "base_uri": "https://localhost:8080/"
        },
        "id": "pjFhS4B9TtPD",
        "outputId": "0aa6c0f9-6181-461d-adf2-98cb7ea1e42e"
      },
      "outputs": [
        {
          "data": {
            "text/plain": [
              "['r1', 'e3', 'v2', 'v1', 'v9']"
            ]
          },
          "execution_count": 7,
          "metadata": {},
          "output_type": "execute_result"
        }
      ],
      "source": [
        "# 오답\n",
        "import re\n",
        "\n",
        "def solution(data):\n",
        "    p = re.compile(r'[rev][10|1-9]') # # 10이 아니고 1과 0입니다.\n",
        "    return p.findall(data)\n",
        "\n",
        "data = 'a10b9r10ce33uab8wc918v2cv11v9'\n",
        "solution(data)"
      ]
    },
    {
      "cell_type": "code",
      "execution_count": null,
      "metadata": {
        "colab": {
          "base_uri": "https://localhost:8080/"
        },
        "id": "Q7P7Q9BkUPcR",
        "outputId": "4c1cf5a9-cea7-4367-ced0-95111476dce9"
      },
      "outputs": [
        {
          "data": {
            "text/plain": [
              "[('r', '1'), ('e', '3'), ('v', '2'), ('v', '1'), ('v', '9')]"
            ]
          },
          "execution_count": 9,
          "metadata": {},
          "output_type": "execute_result"
        }
      ],
      "source": [
        "# 오답\n",
        "import re\n",
        "\n",
        "def solution(data):\n",
        "    p = re.compile(r'([rev])([1-9]|10)')\n",
        "    return p.findall(data)\n",
        "\n",
        "data = 'a10b9r10ce33uab8wc918v2cv11v9'\n",
        "solution(data)"
      ]
    },
    {
      "cell_type": "code",
      "execution_count": null,
      "metadata": {
        "colab": {
          "base_uri": "https://localhost:8080/"
        },
        "id": "TxfNyL3aUAVA",
        "outputId": "f9295b68-2315-4f5f-c444-ceb8563e0ddd"
      },
      "outputs": [
        {
          "data": {
            "text/plain": [
              "[('r', '10'), ('e', '3'), ('v', '2'), ('v', '1'), ('v', '9')]"
            ]
          },
          "execution_count": 8,
          "metadata": {},
          "output_type": "execute_result"
        }
      ],
      "source": [
        "# 정답\n",
        "import re\n",
        "\n",
        "def solution(data):\n",
        "    p = re.compile(r'([rev])(10|[1-9])')\n",
        "    return p.findall(data)\n",
        "\n",
        "data = 'a10b9r10ce33uab8wc918v2cv11v9'\n",
        "solution(data)"
      ]
    }
  ],
  "metadata": {
    "colab": {
      "provenance": [],
      "include_colab_link": true
    },
    "kernelspec": {
      "display_name": "Python 3",
      "name": "python3"
    },
    "language_info": {
      "name": "python"
    }
  },
  "nbformat": 4,
  "nbformat_minor": 0
}